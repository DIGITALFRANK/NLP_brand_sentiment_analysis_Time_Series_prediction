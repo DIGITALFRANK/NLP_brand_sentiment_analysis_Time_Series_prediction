{
 "cells": [
  {
   "cell_type": "markdown",
   "metadata": {},
   "source": [
    "# Analysing and Predicting Public Perception on Social Media"
   ]
  },
  {
   "cell_type": "markdown",
   "metadata": {},
   "source": [
    "Understanding public brand perception can be a challenge.  With the rise of social media, good data on pulic opinion about specific topics and brands is widely available. Twitter is the perfect platform for this.  By scrapping twitter data we will try to implement sentiment analysis on particular brands and topics, we will then implement a Time Series model and train it on past sentiment trends to help it predict future sentiment trajectory.  (Nike vs Adidas - Twitter sentiment trend analysis + prediction)"
   ]
  },
  {
   "cell_type": "code",
   "execution_count": null,
   "metadata": {},
   "outputs": [],
   "source": []
  },
  {
   "cell_type": "markdown",
   "metadata": {},
   "source": [
    "> Importing our standard libraries, the autoreload module.."
   ]
  },
  {
   "cell_type": "code",
   "execution_count": 1,
   "metadata": {},
   "outputs": [],
   "source": [
    "import sys\n",
    "sys.path.append(\"twint/\")\n",
    "\n",
    "import pandas as pd\n",
    "import numpy as np\n",
    "\n",
    "import matplotlib.pyplot as plt\n",
    "%matplotlib inline\n",
    "\n",
    "%load_ext autoreload\n",
    "%autoreload 2"
   ]
  },
  {
   "cell_type": "markdown",
   "metadata": {},
   "source": [
    "# Scrapping Twitter with TWINT\n",
    "\n",
    "We'll begin by scrapping Twitter using the TWINT module, since Twitter's standard search API is very limited. The TWINT modules allows us to search for target tweets by keyword, within a date range, and much more almost without limitations, the enitre Twittersphere is now available to us.  We can then perform sentiment analysis on specific tweets.\n",
    "  \n",
    "We've installed TWINT through the command line and appended it to our system path in the cell above.  Next, we will import the module and set up its configuration and start running queries.  \n",
    "  "
   ]
  },
  {
   "cell_type": "code",
   "execution_count": 3,
   "metadata": {},
   "outputs": [],
   "source": [
    "# load TWINT and set up its configuration\n",
    "import twint\n",
    "c = twint.Config()"
   ]
  },
  {
   "cell_type": "code",
   "execution_count": 9,
   "metadata": {},
   "outputs": [],
   "source": [
    "# Solve compatibility issues with notebooks and RunTime errors.\n",
    "import nest_asyncio\n",
    "nest_asyncio.apply()"
   ]
  },
  {
   "cell_type": "code",
   "execution_count": 10,
   "metadata": {},
   "outputs": [
    {
     "name": "stdout",
     "output_type": "stream",
     "text": [
      "1153788185316478976 2019-07-23 18:05:14 EDT <cryptowealth10> Russia Prepares to Test Cryptocurrencies in Four of Its Regions -   http://ht.ly/eUeT30ozSd0  #bitcoin #valuable #reality #ethereum #cryptocurrency #blockchain #altcoins #income #cryptomining #eth #btc #cryptonews #digitalmoney\n",
      "1153788178278436865 2019-07-23 18:05:12 EDT <digitalcoinnewz> HEREISTITLE  https://www.digitalcoinnews.com/a6tyrqfg/  #cryptocurrency #bitcoin #cryptonews #btcnews\n",
      "1153788172347691008 2019-07-23 18:05:11 EDT <1jl4com> Leo Dias surge “estranho” em programa e choca público: ..  @1jl4com - Metropoles - Twitter - News - Noticias - Bitcoin - CryptoCurrency  http://bit.ly/2M7oJ5e \n",
      "1153788168937725959 2019-07-23 18:05:10 EDT <CryptoTraderPro> Crypto Panic: Not Fake News: TD Ameritrade CEO Confirms REAL Demand for Bitcoin  http://dlvr.it/R8yRgr  🙋Crypto Cashflow via →  http://cashdaily.pro \n",
      "1153788155125854210 2019-07-23 18:05:07 EDT <1jl4com> Boris Johnson é eleito para ser próximo primeiro-ministro ..  @1jl4com - sputnik_brasil - Twitter - News - Noticias - Bitcoin - CryptoCurrency  http://bit.ly/2M7n3Zx \n",
      "1153788147219648529 2019-07-23 18:05:05 EDT <CRYPT0N1TE> Better buy #bitcoin, #gold, #silver, our politicians and leaders are completely clueless and irresponsible. They should be raising rates and paying off debt, not the other way around. https://www.zerohedge.com/news/2019-07-23/its-over-dems-reps-both-conspiring-bankrupt-america-and-destroy-our-future …\n",
      "1153788134301114369 2019-07-23 18:05:02 EDT <bitindo_io> Bukan Berita Palsu: CEO TD Ameritrade Mengonfirmasi Permintaan NYATA untuk Bitcoin  https://twitter.com/CCNMarkets/status/1153784978548805632 …\n",
      "1153788128655581184 2019-07-23 18:05:00 EDT <digitalcoinnewz> HEREISTITLE  https://www.digitalcoinnews.com/rweitbur/  #cryptocurrency #bitcoin #cryptonews #btcnews\n",
      "1153788126487126016 2019-07-23 18:05:00 EDT <PerfectedIove> Most importantly, the growing driver network will be formed without the unnecessary need for an intermediary, resulting in direct driver payments. #Drife #IEO #Crypto #Blockchain #ethereum #bitcoin #ether #cryptocurrency #tokensale http://bit.ly/2WbQLib \n",
      "1153788124423606274 2019-07-23 18:04:59 EDT <otavioroma> Negar a relevância das criptos é burrice. Ainda é um cenário imprevisível de futuro, atualmente bitcoin é apenas um ativo de alto risco. Mas desacreditar as criptos é negar a quebra de um paradigma, é querer ser a nova Kodak.\n",
      "1153788119272976384 2019-07-23 18:04:58 EDT <ActivosDig> #Criptomonedas #coin360📈 #noticiascriptomonedas #criptomonedas #bitcoin #blockchaintechnology #blockchainnews #altcoin #Cúcuta #crypto #blockchain #cryptocurrency #trading #bitcoinnews #cryptonews #graficos #coin360 pic.twitter.com/Q5t17kzoUj\n",
      "1153788118824185858 2019-07-23 18:04:58 EDT <bankomet> Bitcoin за три недели подешевел на 30%  http://bankomet.com.ua/2019/07/bitcoin-za-tri-nedeli-podeshevel-na-30-58/ …\n",
      "1153788112272629761 2019-07-23 18:04:56 EDT <JeffreyAWillia4> 3 Bitcoin Network Statistics Reach All-Time Highs  https://bitcoinist.com/3-bitcoin-network-statistics-reach-all-time-highs/ …\n",
      "1153788058744942594 2019-07-23 18:04:44 EDT <MeganBu91310519> And you are my friends too. All who cares. That's why I have this for you.  5,000 Bitcoin airdrop with Binance has just begun!!!!  Join me:\n",
      "1153788053913137152 2019-07-23 18:04:43 EDT <kPz7HRmjQ0UWCFY> ㅤㅤ It was John's last wish that if he went missing I airdrop some of his remaining crypto, so now that the time has come I have to honor his wishes. The 5,000 Bitcoin and 10,000 Ethereum #McAfee crypto-extravaganza airdrop has just begun.   Read more: https://buff.ly/2GqQy4H \n",
      "1153788052201885697 2019-07-23 18:04:42 EDT <cryptodactyle> If you study the history of money, you will se how the global conflicts altered the global financial system. Not psychic but here's my #BTC prediction. Nuclear war - Gold or #Bitcoin - Fiat will be worthless once these lunatics start hurling #nukes\n",
      "1153788041707708421 2019-07-23 18:04:40 EDT <digitalcoinnewz> HEREISTITLE  https://www.digitalcoinnews.com/myvcn4ph/  #cryptocurrency #bitcoin #cryptonews #btcnews\n",
      "1153788034422173696 2019-07-23 18:04:38 EDT <me_mylites> [Bitcoin Slightly Raised Above $10100]  Citing data from  http://CoinNess.com , Bitcoin has increased slightl...   https://bi.city/s/VDW6j2  pic.twitter.com/l0teNklQjJ\n",
      "1153788025719029764 2019-07-23 18:04:36 EDT <cedracine> Bitcoin explanation CBS - The Good Wife 2012 Mom: So you don't buy Bitcoin? Son: You mine Bitcoin with this software Little Sis: You can, there are online traders Son: Yes, 1 Bitcoin can be bought for $3  Little sister: Yes but it was $33   https://youtu.be/-fazu1rgr9k \n",
      "1153788019477925896 2019-07-23 18:04:34 EDT <digitalcoinnewz> HEREISTITLE  https://www.digitalcoinnews.com/c4xyiwqz/  #cryptocurrency #bitcoin #cryptonews #btcnews\n"
     ]
    }
   ],
   "source": [
    "c.Search = \"bitcoin\"\n",
    "c.Limit = 1 # results are returned in blocks of 20 tweets, 1 here means 20\n",
    "c.Pandas = True\n",
    "twint.run.Search(c)"
   ]
  },
  {
   "cell_type": "markdown",
   "metadata": {},
   "source": [
    "### Great!\n",
    "> We have tweets being output as our result!  Now let's format this output into a dataframe we can work with"
   ]
  },
  {
   "cell_type": "code",
   "execution_count": 11,
   "metadata": {},
   "outputs": [],
   "source": [
    "def available_columns():\n",
    "    return twint.output.panda.Tweets_df.columns\n",
    "\n",
    "def twint_to_pandas(columns):\n",
    "    return twint.output.panda.Tweets_df[columns]"
   ]
  },
  {
   "cell_type": "code",
   "execution_count": 12,
   "metadata": {},
   "outputs": [
    {
     "data": {
      "text/plain": [
       "Index(['cashtags', 'conversation_id', 'created_at', 'date', 'day', 'geo',\n",
       "       'hashtags', 'hour', 'id', 'link', 'name', 'near', 'nlikes', 'nreplies',\n",
       "       'nretweets', 'place', 'quote_url', 'retweet', 'search', 'timezone',\n",
       "       'tweet', 'user_id', 'user_id_str', 'username'],\n",
       "      dtype='object')"
      ]
     },
     "execution_count": 12,
     "metadata": {},
     "output_type": "execute_result"
    }
   ],
   "source": [
    "# see what columns are available\n",
    "available_columns()"
   ]
  },
  {
   "cell_type": "code",
   "execution_count": 13,
   "metadata": {},
   "outputs": [
    {
     "name": "stdout",
     "output_type": "stream",
     "text": [
      "(20, 11)\n"
     ]
    },
    {
     "data": {
      "text/html": [
       "<div>\n",
       "<style scoped>\n",
       "    .dataframe tbody tr th:only-of-type {\n",
       "        vertical-align: middle;\n",
       "    }\n",
       "\n",
       "    .dataframe tbody tr th {\n",
       "        vertical-align: top;\n",
       "    }\n",
       "\n",
       "    .dataframe thead th {\n",
       "        text-align: right;\n",
       "    }\n",
       "</style>\n",
       "<table border=\"1\" class=\"dataframe\">\n",
       "  <thead>\n",
       "    <tr style=\"text-align: right;\">\n",
       "      <th></th>\n",
       "      <th>conversation_id</th>\n",
       "      <th>created_at</th>\n",
       "      <th>id</th>\n",
       "      <th>user_id</th>\n",
       "      <th>username</th>\n",
       "      <th>tweet</th>\n",
       "      <th>hashtags</th>\n",
       "      <th>date</th>\n",
       "      <th>day</th>\n",
       "      <th>nlikes</th>\n",
       "      <th>nretweets</th>\n",
       "    </tr>\n",
       "  </thead>\n",
       "  <tbody>\n",
       "    <tr>\n",
       "      <th>0</th>\n",
       "      <td>1153788185316478976</td>\n",
       "      <td>1563919514000</td>\n",
       "      <td>1153788185316478976</td>\n",
       "      <td>983317355899031552</td>\n",
       "      <td>cryptowealth10</td>\n",
       "      <td>Russia Prepares to Test Cryptocurrencies in Fo...</td>\n",
       "      <td>[#bitcoin, #valuable, #reality, #ethereum, #cr...</td>\n",
       "      <td>2019-07-23 18:05:14</td>\n",
       "      <td>2</td>\n",
       "      <td>0</td>\n",
       "      <td>0</td>\n",
       "    </tr>\n",
       "    <tr>\n",
       "      <th>1</th>\n",
       "      <td>1153788178278436865</td>\n",
       "      <td>1563919512000</td>\n",
       "      <td>1153788178278436865</td>\n",
       "      <td>990599195684954113</td>\n",
       "      <td>digitalcoinnewz</td>\n",
       "      <td>HEREISTITLE  https://www.digitalcoinnews.com/a...</td>\n",
       "      <td>[#cryptocurrency, #bitcoin, #cryptonews, #btcn...</td>\n",
       "      <td>2019-07-23 18:05:12</td>\n",
       "      <td>2</td>\n",
       "      <td>0</td>\n",
       "      <td>0</td>\n",
       "    </tr>\n",
       "    <tr>\n",
       "      <th>2</th>\n",
       "      <td>1153788172347691008</td>\n",
       "      <td>1563919511000</td>\n",
       "      <td>1153788172347691008</td>\n",
       "      <td>904160286860562432</td>\n",
       "      <td>1jl4com</td>\n",
       "      <td>Leo Dias surge “estranho” em programa e choca ...</td>\n",
       "      <td>[]</td>\n",
       "      <td>2019-07-23 18:05:11</td>\n",
       "      <td>2</td>\n",
       "      <td>0</td>\n",
       "      <td>0</td>\n",
       "    </tr>\n",
       "    <tr>\n",
       "      <th>3</th>\n",
       "      <td>1153788168937725959</td>\n",
       "      <td>1563919510000</td>\n",
       "      <td>1153788168937725959</td>\n",
       "      <td>15977038</td>\n",
       "      <td>CryptoTraderPro</td>\n",
       "      <td>Crypto Panic: Not Fake News: TD Ameritrade CEO...</td>\n",
       "      <td>[]</td>\n",
       "      <td>2019-07-23 18:05:10</td>\n",
       "      <td>2</td>\n",
       "      <td>0</td>\n",
       "      <td>0</td>\n",
       "    </tr>\n",
       "    <tr>\n",
       "      <th>4</th>\n",
       "      <td>1153788155125854210</td>\n",
       "      <td>1563919507000</td>\n",
       "      <td>1153788155125854210</td>\n",
       "      <td>904160286860562432</td>\n",
       "      <td>1jl4com</td>\n",
       "      <td>Boris Johnson é eleito para ser próximo primei...</td>\n",
       "      <td>[]</td>\n",
       "      <td>2019-07-23 18:05:07</td>\n",
       "      <td>2</td>\n",
       "      <td>0</td>\n",
       "      <td>0</td>\n",
       "    </tr>\n",
       "  </tbody>\n",
       "</table>\n",
       "</div>"
      ],
      "text/plain": [
       "       conversation_id     created_at                   id  \\\n",
       "0  1153788185316478976  1563919514000  1153788185316478976   \n",
       "1  1153788178278436865  1563919512000  1153788178278436865   \n",
       "2  1153788172347691008  1563919511000  1153788172347691008   \n",
       "3  1153788168937725959  1563919510000  1153788168937725959   \n",
       "4  1153788155125854210  1563919507000  1153788155125854210   \n",
       "\n",
       "              user_id         username  \\\n",
       "0  983317355899031552   cryptowealth10   \n",
       "1  990599195684954113  digitalcoinnewz   \n",
       "2  904160286860562432          1jl4com   \n",
       "3            15977038  CryptoTraderPro   \n",
       "4  904160286860562432          1jl4com   \n",
       "\n",
       "                                               tweet  \\\n",
       "0  Russia Prepares to Test Cryptocurrencies in Fo...   \n",
       "1  HEREISTITLE  https://www.digitalcoinnews.com/a...   \n",
       "2  Leo Dias surge “estranho” em programa e choca ...   \n",
       "3  Crypto Panic: Not Fake News: TD Ameritrade CEO...   \n",
       "4  Boris Johnson é eleito para ser próximo primei...   \n",
       "\n",
       "                                            hashtags                 date  \\\n",
       "0  [#bitcoin, #valuable, #reality, #ethereum, #cr...  2019-07-23 18:05:14   \n",
       "1  [#cryptocurrency, #bitcoin, #cryptonews, #btcn...  2019-07-23 18:05:12   \n",
       "2                                                 []  2019-07-23 18:05:11   \n",
       "3                                                 []  2019-07-23 18:05:10   \n",
       "4                                                 []  2019-07-23 18:05:07   \n",
       "\n",
       "   day  nlikes  nretweets  \n",
       "0    2       0          0  \n",
       "1    2       0          0  \n",
       "2    2       0          0  \n",
       "3    2       0          0  \n",
       "4    2       0          0  "
      ]
     },
     "execution_count": 13,
     "metadata": {},
     "output_type": "execute_result"
    }
   ],
   "source": [
    "# create Pandas dataframe with desired columns\n",
    "df = twint_to_pandas(['conversation_id', 'created_at', 'id', 'user_id', 'username', 'tweet', 'hashtags', 'date', 'day', 'nlikes', 'nretweets'])\n",
    "print(df.shape)\n",
    "df.head()"
   ]
  },
  {
   "cell_type": "markdown",
   "metadata": {},
   "source": [
    "### Success!\n",
    "> We now have a data frame with 20 tweets all containing the keyword \"bitcoin\", along with some additional information about the tweets"
   ]
  },
  {
   "cell_type": "code",
   "execution_count": null,
   "metadata": {},
   "outputs": [],
   "source": []
  },
  {
   "cell_type": "code",
   "execution_count": null,
   "metadata": {},
   "outputs": [],
   "source": []
  },
  {
   "cell_type": "markdown",
   "metadata": {},
   "source": [
    "> Now let's make our code a bit more modular so that we can run constant queries"
   ]
  },
  {
   "cell_type": "code",
   "execution_count": 14,
   "metadata": {},
   "outputs": [
    {
     "name": "stdout",
     "output_type": "stream",
     "text": [
      "The autoreload extension is already loaded. To reload it, use:\n",
      "  %reload_ext autoreload\n"
     ]
    }
   ],
   "source": [
    "# load system utilities \n",
    "%load_ext autoreload\n",
    "%autoreload 2\n",
    "\n",
    "import sys, os\n",
    "from os import path\n",
    "sys.path.append(\"twint/\")"
   ]
  },
  {
   "cell_type": "code",
   "execution_count": 15,
   "metadata": {},
   "outputs": [],
   "source": [
    "# Solve compatibility issues with notebooks and RunTime errors.\n",
    "import nest_asyncio\n",
    "nest_asyncio.apply()"
   ]
  },
  {
   "cell_type": "code",
   "execution_count": 16,
   "metadata": {},
   "outputs": [],
   "source": [
    "# Disable annoying printing\n",
    "class HiddenPrints:\n",
    "    def __enter__(self):\n",
    "        self._original_stdout = sys.stdout\n",
    "        sys.stdout = open(os.devnull, 'w')\n",
    "\n",
    "    def __exit__(self, exc_type, exc_val, exc_tb):\n",
    "        sys.stdout.close()\n",
    "        sys.stdout = self._original_stdout"
   ]
  },
  {
   "cell_type": "code",
   "execution_count": 20,
   "metadata": {},
   "outputs": [],
   "source": [
    "# function to easily get tweets\n",
    "def get_tweets(search_term, limit=100):\n",
    "    c = twint.Config()\n",
    "    c.Search = search_term\n",
    "    c.Limit = limit\n",
    "    c.Pandas = True\n",
    "    c.Pandas_clean = True\n",
    "    \n",
    "    result_columns = ['id', 'username', 'tweet', 'hashtags', 'date', 'day', 'nlikes', 'nretweets']\n",
    "    with HiddenPrints():\n",
    "        print(twint.run.Search(c))\n",
    "    return twint.output.panda.Tweets_df[result_columns]"
   ]
  },
  {
   "cell_type": "code",
   "execution_count": null,
   "metadata": {},
   "outputs": [],
   "source": []
  },
  {
   "cell_type": "code",
   "execution_count": null,
   "metadata": {},
   "outputs": [],
   "source": []
  },
  {
   "cell_type": "code",
   "execution_count": null,
   "metadata": {},
   "outputs": [],
   "source": []
  },
  {
   "cell_type": "code",
   "execution_count": null,
   "metadata": {},
   "outputs": [],
   "source": []
  },
  {
   "cell_type": "code",
   "execution_count": null,
   "metadata": {},
   "outputs": [],
   "source": [
    "# run this if you want to overwrite the original adidas tweets that are stored in memory\n",
    "# tweets = get_tweets(\"bitcoin\", limit=10000)"
   ]
  },
  {
   "cell_type": "code",
   "execution_count": 19,
   "metadata": {},
   "outputs": [
    {
     "data": {
      "text/html": [
       "<div>\n",
       "<style scoped>\n",
       "    .dataframe tbody tr th:only-of-type {\n",
       "        vertical-align: middle;\n",
       "    }\n",
       "\n",
       "    .dataframe tbody tr th {\n",
       "        vertical-align: top;\n",
       "    }\n",
       "\n",
       "    .dataframe thead th {\n",
       "        text-align: right;\n",
       "    }\n",
       "</style>\n",
       "<table border=\"1\" class=\"dataframe\">\n",
       "  <thead>\n",
       "    <tr style=\"text-align: right;\">\n",
       "      <th></th>\n",
       "      <th>conversation_id</th>\n",
       "      <th>created_at</th>\n",
       "      <th>id</th>\n",
       "      <th>user_id</th>\n",
       "      <th>username</th>\n",
       "      <th>tweet</th>\n",
       "      <th>hashtags</th>\n",
       "      <th>date</th>\n",
       "      <th>day</th>\n",
       "      <th>nlikes</th>\n",
       "      <th>nretweets</th>\n",
       "    </tr>\n",
       "  </thead>\n",
       "  <tbody>\n",
       "    <tr>\n",
       "      <th>0</th>\n",
       "      <td>1153789629167853568</td>\n",
       "      <td>1563919858000</td>\n",
       "      <td>1153789629167853568</td>\n",
       "      <td>112351018</td>\n",
       "      <td>fltrotta</td>\n",
       "      <td>Basta Adidas, no hay sueldo que aguante  https...</td>\n",
       "      <td>[]</td>\n",
       "      <td>2019-07-23 18:10:58</td>\n",
       "      <td>6</td>\n",
       "      <td>0</td>\n",
       "      <td>0</td>\n",
       "    </tr>\n",
       "    <tr>\n",
       "      <th>1</th>\n",
       "      <td>1153789580560044036</td>\n",
       "      <td>1563919847000</td>\n",
       "      <td>1153789580560044036</td>\n",
       "      <td>16151454</td>\n",
       "      <td>rynoel</td>\n",
       "      <td>Celebrating Simeon’s birthday in the best way ...</td>\n",
       "      <td>[#arsenalinusa, #adidas, #yagunnersya, #dareto...</td>\n",
       "      <td>2019-07-23 18:10:47</td>\n",
       "      <td>5</td>\n",
       "      <td>0</td>\n",
       "      <td>0</td>\n",
       "    </tr>\n",
       "    <tr>\n",
       "      <th>2</th>\n",
       "      <td>1153748179885547522</td>\n",
       "      <td>1563919843000</td>\n",
       "      <td>1153789567452901376</td>\n",
       "      <td>111188883</td>\n",
       "      <td>betoocontreras</td>\n",
       "      <td>H&amp;M, Zara, ASOS, GAP, Adidas, Calvin Klein, Fo...</td>\n",
       "      <td>[]</td>\n",
       "      <td>2019-07-23 18:10:43</td>\n",
       "      <td>5</td>\n",
       "      <td>0</td>\n",
       "      <td>0</td>\n",
       "    </tr>\n",
       "    <tr>\n",
       "      <th>3</th>\n",
       "      <td>1153789567104770048</td>\n",
       "      <td>1563919843000</td>\n",
       "      <td>1153789567104770048</td>\n",
       "      <td>1772606058</td>\n",
       "      <td>JustFreshKicks</td>\n",
       "      <td>Pre-Order via JD Sports Manchester United x ad...</td>\n",
       "      <td>[]</td>\n",
       "      <td>2019-07-23 18:10:43</td>\n",
       "      <td>5</td>\n",
       "      <td>2</td>\n",
       "      <td>1</td>\n",
       "    </tr>\n",
       "    <tr>\n",
       "      <th>4</th>\n",
       "      <td>1153689431007621120</td>\n",
       "      <td>1563919837000</td>\n",
       "      <td>1153789541775314945</td>\n",
       "      <td>47786516</td>\n",
       "      <td>jezlai</td>\n",
       "      <td>enam buah premis yang beroperasi menjual baran...</td>\n",
       "      <td>[]</td>\n",
       "      <td>2019-07-23 18:10:37</td>\n",
       "      <td>5</td>\n",
       "      <td>0</td>\n",
       "      <td>0</td>\n",
       "    </tr>\n",
       "  </tbody>\n",
       "</table>\n",
       "</div>"
      ],
      "text/plain": [
       "       conversation_id     created_at                   id     user_id  \\\n",
       "0  1153789629167853568  1563919858000  1153789629167853568   112351018   \n",
       "1  1153789580560044036  1563919847000  1153789580560044036    16151454   \n",
       "2  1153748179885547522  1563919843000  1153789567452901376   111188883   \n",
       "3  1153789567104770048  1563919843000  1153789567104770048  1772606058   \n",
       "4  1153689431007621120  1563919837000  1153789541775314945    47786516   \n",
       "\n",
       "         username                                              tweet  \\\n",
       "0        fltrotta  Basta Adidas, no hay sueldo que aguante  https...   \n",
       "1          rynoel  Celebrating Simeon’s birthday in the best way ...   \n",
       "2  betoocontreras  H&M, Zara, ASOS, GAP, Adidas, Calvin Klein, Fo...   \n",
       "3  JustFreshKicks  Pre-Order via JD Sports Manchester United x ad...   \n",
       "4          jezlai  enam buah premis yang beroperasi menjual baran...   \n",
       "\n",
       "                                            hashtags                 date  \\\n",
       "0                                                 []  2019-07-23 18:10:58   \n",
       "1  [#arsenalinusa, #adidas, #yagunnersya, #dareto...  2019-07-23 18:10:47   \n",
       "2                                                 []  2019-07-23 18:10:43   \n",
       "3                                                 []  2019-07-23 18:10:43   \n",
       "4                                                 []  2019-07-23 18:10:37   \n",
       "\n",
       "   day  nlikes  nretweets  \n",
       "0    6       0          0  \n",
       "1    5       0          0  \n",
       "2    5       0          0  \n",
       "3    5       2          1  \n",
       "4    5       0          0  "
      ]
     },
     "execution_count": 19,
     "metadata": {},
     "output_type": "execute_result"
    }
   ],
   "source": [
    "tweets.head() # this is saved in memoery from original adidas tweets crawl"
   ]
  },
  {
   "cell_type": "code",
   "execution_count": 21,
   "metadata": {},
   "outputs": [
    {
     "name": "stdout",
     "output_type": "stream",
     "text": [
      "(10019, 8)\n"
     ]
    },
    {
     "data": {
      "text/html": [
       "<div>\n",
       "<style scoped>\n",
       "    .dataframe tbody tr th:only-of-type {\n",
       "        vertical-align: middle;\n",
       "    }\n",
       "\n",
       "    .dataframe tbody tr th {\n",
       "        vertical-align: top;\n",
       "    }\n",
       "\n",
       "    .dataframe thead th {\n",
       "        text-align: right;\n",
       "    }\n",
       "</style>\n",
       "<table border=\"1\" class=\"dataframe\">\n",
       "  <thead>\n",
       "    <tr style=\"text-align: right;\">\n",
       "      <th></th>\n",
       "      <th>id</th>\n",
       "      <th>username</th>\n",
       "      <th>tweet</th>\n",
       "      <th>hashtags</th>\n",
       "      <th>date</th>\n",
       "      <th>day</th>\n",
       "      <th>nlikes</th>\n",
       "      <th>nretweets</th>\n",
       "    </tr>\n",
       "  </thead>\n",
       "  <tbody>\n",
       "    <tr>\n",
       "      <th>0</th>\n",
       "      <td>1153793884054380544</td>\n",
       "      <td>CurtisLewis7</td>\n",
       "      <td>Nike &gt; Adidas</td>\n",
       "      <td>[]</td>\n",
       "      <td>2019-07-23 18:27:53</td>\n",
       "      <td>3</td>\n",
       "      <td>0</td>\n",
       "      <td>0</td>\n",
       "    </tr>\n",
       "    <tr>\n",
       "      <th>1</th>\n",
       "      <td>1153793878530486272</td>\n",
       "      <td>AmericaDeCol</td>\n",
       "      <td>Ni para el jueves están, será que es adidas y ...</td>\n",
       "      <td>[]</td>\n",
       "      <td>2019-07-23 18:27:51</td>\n",
       "      <td>3</td>\n",
       "      <td>0</td>\n",
       "      <td>0</td>\n",
       "    </tr>\n",
       "    <tr>\n",
       "      <th>2</th>\n",
       "      <td>1153793845886275584</td>\n",
       "      <td>MrSlingsh0t</td>\n",
       "      <td>Thanks for the response. I assume you’re a 10....</td>\n",
       "      <td>[]</td>\n",
       "      <td>2019-07-23 18:27:43</td>\n",
       "      <td>3</td>\n",
       "      <td>0</td>\n",
       "      <td>0</td>\n",
       "    </tr>\n",
       "    <tr>\n",
       "      <th>3</th>\n",
       "      <td>1153793758158188544</td>\n",
       "      <td>SneakersNation_</td>\n",
       "      <td>Por el aniversario número 30 de “Paul’s Boutiq...</td>\n",
       "      <td>[]</td>\n",
       "      <td>2019-07-23 18:27:23</td>\n",
       "      <td>3</td>\n",
       "      <td>0</td>\n",
       "      <td>0</td>\n",
       "    </tr>\n",
       "    <tr>\n",
       "      <th>4</th>\n",
       "      <td>1153793752571371520</td>\n",
       "      <td>__GDB</td>\n",
       "      <td>Another note: adidas thought it would be cool ...</td>\n",
       "      <td>[]</td>\n",
       "      <td>2019-07-23 18:27:21</td>\n",
       "      <td>3</td>\n",
       "      <td>1</td>\n",
       "      <td>0</td>\n",
       "    </tr>\n",
       "  </tbody>\n",
       "</table>\n",
       "</div>"
      ],
      "text/plain": [
       "                    id         username  \\\n",
       "0  1153793884054380544     CurtisLewis7   \n",
       "1  1153793878530486272     AmericaDeCol   \n",
       "2  1153793845886275584      MrSlingsh0t   \n",
       "3  1153793758158188544  SneakersNation_   \n",
       "4  1153793752571371520            __GDB   \n",
       "\n",
       "                                               tweet hashtags  \\\n",
       "0                                      Nike > Adidas       []   \n",
       "1  Ni para el jueves están, será que es adidas y ...       []   \n",
       "2  Thanks for the response. I assume you’re a 10....       []   \n",
       "3  Por el aniversario número 30 de “Paul’s Boutiq...       []   \n",
       "4  Another note: adidas thought it would be cool ...       []   \n",
       "\n",
       "                  date  day  nlikes  nretweets  \n",
       "0  2019-07-23 18:27:53    3       0          0  \n",
       "1  2019-07-23 18:27:51    3       0          0  \n",
       "2  2019-07-23 18:27:43    3       0          0  \n",
       "3  2019-07-23 18:27:23    3       0          0  \n",
       "4  2019-07-23 18:27:21    3       1          0  "
      ]
     },
     "execution_count": 21,
     "metadata": {},
     "output_type": "execute_result"
    }
   ],
   "source": [
    "adidas_tweets = get_tweets(\"adidas\", limit=10000)\n",
    "print(adidas_tweets.shape)\n",
    "adidas_tweets.head()"
   ]
  },
  {
   "cell_type": "code",
   "execution_count": 23,
   "metadata": {},
   "outputs": [
    {
     "data": {
      "text/html": [
       "<div>\n",
       "<style scoped>\n",
       "    .dataframe tbody tr th:only-of-type {\n",
       "        vertical-align: middle;\n",
       "    }\n",
       "\n",
       "    .dataframe tbody tr th {\n",
       "        vertical-align: top;\n",
       "    }\n",
       "\n",
       "    .dataframe thead th {\n",
       "        text-align: right;\n",
       "    }\n",
       "</style>\n",
       "<table border=\"1\" class=\"dataframe\">\n",
       "  <thead>\n",
       "    <tr style=\"text-align: right;\">\n",
       "      <th></th>\n",
       "      <th>id</th>\n",
       "      <th>username</th>\n",
       "      <th>tweet</th>\n",
       "      <th>hashtags</th>\n",
       "      <th>date</th>\n",
       "      <th>day</th>\n",
       "      <th>nlikes</th>\n",
       "      <th>nretweets</th>\n",
       "    </tr>\n",
       "  </thead>\n",
       "  <tbody>\n",
       "    <tr>\n",
       "      <th>10014</th>\n",
       "      <td>1153420611064127488</td>\n",
       "      <td>RIGO_NY</td>\n",
       "      <td>🤣🤣🤣🤣🤣 o Bale o el mencionado Lucas son adidas ...</td>\n",
       "      <td>[]</td>\n",
       "      <td>2019-07-22 17:44:37</td>\n",
       "      <td>2</td>\n",
       "      <td>0</td>\n",
       "      <td>0</td>\n",
       "    </tr>\n",
       "    <tr>\n",
       "      <th>10015</th>\n",
       "      <td>1153420599005499396</td>\n",
       "      <td>FlashMQT</td>\n",
       "      <td>Adidas shouting out child rapists now?  Wow, r...</td>\n",
       "      <td>[]</td>\n",
       "      <td>2019-07-22 17:44:34</td>\n",
       "      <td>2</td>\n",
       "      <td>0</td>\n",
       "      <td>0</td>\n",
       "    </tr>\n",
       "    <tr>\n",
       "      <th>10016</th>\n",
       "      <td>1153420572933709825</td>\n",
       "      <td>karahead_</td>\n",
       "      <td>Does Adidas just have one very overwhelmed kit...</td>\n",
       "      <td>[]</td>\n",
       "      <td>2019-07-22 17:44:28</td>\n",
       "      <td>2</td>\n",
       "      <td>15</td>\n",
       "      <td>1</td>\n",
       "    </tr>\n",
       "    <tr>\n",
       "      <th>10017</th>\n",
       "      <td>1153420466792607744</td>\n",
       "      <td>Chollomaton</td>\n",
       "      <td>adidas Harden Short2 Pantalón Corto de Balonce...</td>\n",
       "      <td>[]</td>\n",
       "      <td>2019-07-22 17:44:03</td>\n",
       "      <td>2</td>\n",
       "      <td>0</td>\n",
       "      <td>0</td>\n",
       "    </tr>\n",
       "    <tr>\n",
       "      <th>10018</th>\n",
       "      <td>1153420459075145733</td>\n",
       "      <td>on_steals</td>\n",
       "      <td>You can score select sizes under 11 for the “A...</td>\n",
       "      <td>[]</td>\n",
       "      <td>2019-07-22 17:44:01</td>\n",
       "      <td>2</td>\n",
       "      <td>1</td>\n",
       "      <td>1</td>\n",
       "    </tr>\n",
       "  </tbody>\n",
       "</table>\n",
       "</div>"
      ],
      "text/plain": [
       "                        id     username  \\\n",
       "10014  1153420611064127488      RIGO_NY   \n",
       "10015  1153420599005499396     FlashMQT   \n",
       "10016  1153420572933709825    karahead_   \n",
       "10017  1153420466792607744  Chollomaton   \n",
       "10018  1153420459075145733    on_steals   \n",
       "\n",
       "                                                   tweet hashtags  \\\n",
       "10014  🤣🤣🤣🤣🤣 o Bale o el mencionado Lucas son adidas ...       []   \n",
       "10015  Adidas shouting out child rapists now?  Wow, r...       []   \n",
       "10016  Does Adidas just have one very overwhelmed kit...       []   \n",
       "10017  adidas Harden Short2 Pantalón Corto de Balonce...       []   \n",
       "10018  You can score select sizes under 11 for the “A...       []   \n",
       "\n",
       "                      date  day  nlikes  nretweets  \n",
       "10014  2019-07-22 17:44:37    2       0          0  \n",
       "10015  2019-07-22 17:44:34    2       0          0  \n",
       "10016  2019-07-22 17:44:28    2      15          1  \n",
       "10017  2019-07-22 17:44:03    2       0          0  \n",
       "10018  2019-07-22 17:44:01    2       1          1  "
      ]
     },
     "execution_count": 23,
     "metadata": {},
     "output_type": "execute_result"
    }
   ],
   "source": [
    "adidas_tweets.tail()"
   ]
  },
  {
   "cell_type": "code",
   "execution_count": null,
   "metadata": {},
   "outputs": [],
   "source": []
  },
  {
   "cell_type": "code",
   "execution_count": null,
   "metadata": {},
   "outputs": [],
   "source": []
  },
  {
   "cell_type": "code",
   "execution_count": 22,
   "metadata": {},
   "outputs": [
    {
     "name": "stdout",
     "output_type": "stream",
     "text": [
      "(10012, 8)\n"
     ]
    },
    {
     "data": {
      "text/html": [
       "<div>\n",
       "<style scoped>\n",
       "    .dataframe tbody tr th:only-of-type {\n",
       "        vertical-align: middle;\n",
       "    }\n",
       "\n",
       "    .dataframe tbody tr th {\n",
       "        vertical-align: top;\n",
       "    }\n",
       "\n",
       "    .dataframe thead th {\n",
       "        text-align: right;\n",
       "    }\n",
       "</style>\n",
       "<table border=\"1\" class=\"dataframe\">\n",
       "  <thead>\n",
       "    <tr style=\"text-align: right;\">\n",
       "      <th></th>\n",
       "      <th>id</th>\n",
       "      <th>username</th>\n",
       "      <th>tweet</th>\n",
       "      <th>hashtags</th>\n",
       "      <th>date</th>\n",
       "      <th>day</th>\n",
       "      <th>nlikes</th>\n",
       "      <th>nretweets</th>\n",
       "    </tr>\n",
       "  </thead>\n",
       "  <tbody>\n",
       "    <tr>\n",
       "      <th>0</th>\n",
       "      <td>1153795835068481537</td>\n",
       "      <td>VirgoJ24</td>\n",
       "      <td>Ima see if nike will at least let me get store...</td>\n",
       "      <td>[]</td>\n",
       "      <td>2019-07-23 18:35:38</td>\n",
       "      <td>2</td>\n",
       "      <td>0</td>\n",
       "      <td>0</td>\n",
       "    </tr>\n",
       "    <tr>\n",
       "      <th>1</th>\n",
       "      <td>1153795826239414273</td>\n",
       "      <td>BobCratchitt</td>\n",
       "      <td>What you mean you can but the same shirt witho...</td>\n",
       "      <td>[]</td>\n",
       "      <td>2019-07-23 18:35:36</td>\n",
       "      <td>2</td>\n",
       "      <td>0</td>\n",
       "      <td>0</td>\n",
       "    </tr>\n",
       "    <tr>\n",
       "      <th>2</th>\n",
       "      <td>1153795816902946816</td>\n",
       "      <td>aknowsense</td>\n",
       "      <td>from the website:   http://soccernx.com  offer...</td>\n",
       "      <td>[]</td>\n",
       "      <td>2019-07-23 18:35:33</td>\n",
       "      <td>2</td>\n",
       "      <td>0</td>\n",
       "      <td>0</td>\n",
       "    </tr>\n",
       "    <tr>\n",
       "      <th>3</th>\n",
       "      <td>1153795813681684482</td>\n",
       "      <td>JeanEsquives</td>\n",
       "      <td>Vendo camiseta nueva con etiquetas de Alianza ...</td>\n",
       "      <td>[]</td>\n",
       "      <td>2019-07-23 18:35:33</td>\n",
       "      <td>2</td>\n",
       "      <td>0</td>\n",
       "      <td>0</td>\n",
       "    </tr>\n",
       "    <tr>\n",
       "      <th>4</th>\n",
       "      <td>1153795736590413834</td>\n",
       "      <td>BrandonDuenas5</td>\n",
       "      <td>Nike outlets ain’t the same anymore</td>\n",
       "      <td>[]</td>\n",
       "      <td>2019-07-23 18:35:14</td>\n",
       "      <td>1</td>\n",
       "      <td>0</td>\n",
       "      <td>0</td>\n",
       "    </tr>\n",
       "  </tbody>\n",
       "</table>\n",
       "</div>"
      ],
      "text/plain": [
       "                    id        username  \\\n",
       "0  1153795835068481537        VirgoJ24   \n",
       "1  1153795826239414273    BobCratchitt   \n",
       "2  1153795816902946816      aknowsense   \n",
       "3  1153795813681684482    JeanEsquives   \n",
       "4  1153795736590413834  BrandonDuenas5   \n",
       "\n",
       "                                               tweet hashtags  \\\n",
       "0  Ima see if nike will at least let me get store...       []   \n",
       "1  What you mean you can but the same shirt witho...       []   \n",
       "2  from the website:   http://soccernx.com  offer...       []   \n",
       "3  Vendo camiseta nueva con etiquetas de Alianza ...       []   \n",
       "4                Nike outlets ain’t the same anymore       []   \n",
       "\n",
       "                  date  day  nlikes  nretweets  \n",
       "0  2019-07-23 18:35:38    2       0          0  \n",
       "1  2019-07-23 18:35:36    2       0          0  \n",
       "2  2019-07-23 18:35:33    2       0          0  \n",
       "3  2019-07-23 18:35:33    2       0          0  \n",
       "4  2019-07-23 18:35:14    1       0          0  "
      ]
     },
     "execution_count": 22,
     "metadata": {},
     "output_type": "execute_result"
    }
   ],
   "source": [
    "\n",
    "nike_tweets = get_tweets(\"nike\", limit=10000)\n",
    "print(nike_tweets.shape)\n",
    "nike_tweets.head()"
   ]
  },
  {
   "cell_type": "code",
   "execution_count": null,
   "metadata": {},
   "outputs": [],
   "source": []
  },
  {
   "cell_type": "code",
   "execution_count": null,
   "metadata": {},
   "outputs": [],
   "source": []
  },
  {
   "cell_type": "code",
   "execution_count": null,
   "metadata": {},
   "outputs": [],
   "source": []
  },
  {
   "cell_type": "code",
   "execution_count": null,
   "metadata": {},
   "outputs": [],
   "source": []
  },
  {
   "cell_type": "code",
   "execution_count": null,
   "metadata": {},
   "outputs": [],
   "source": []
  },
  {
   "cell_type": "markdown",
   "metadata": {},
   "source": [
    "# Vader Module for Sentiment Analysis"
   ]
  },
  {
   "cell_type": "markdown",
   "metadata": {},
   "source": [
    "> first let's test out Vader on a simple line of text and analyze the results"
   ]
  },
  {
   "cell_type": "code",
   "execution_count": null,
   "metadata": {},
   "outputs": [],
   "source": [
    "#!pip install vaderSentiment"
   ]
  },
  {
   "cell_type": "code",
   "execution_count": null,
   "metadata": {},
   "outputs": [],
   "source": [
    "from vaderSentiment.vaderSentiment import SentimentIntensityAnalyzer\n",
    "analyser = SentimentIntensityAnalyzer()"
   ]
  },
  {
   "cell_type": "code",
   "execution_count": null,
   "metadata": {},
   "outputs": [],
   "source": [
    "def sentiment_analyzer_scores(sentence):\n",
    "    score = analyser.polarity_scores(sentence)\n",
    "    print('sentence: \"{}\"'.format(sentence))\n",
    "    print('scores: {}'.format(str(score))) "
   ]
  },
  {
   "cell_type": "code",
   "execution_count": null,
   "metadata": {},
   "outputs": [],
   "source": [
    "sentiment_analyzer_scores(\"Nike is the best.\")"
   ]
  },
  {
   "cell_type": "code",
   "execution_count": null,
   "metadata": {},
   "outputs": [],
   "source": []
  },
  {
   "cell_type": "markdown",
   "metadata": {},
   "source": [
    "> Let's try another simple example"
   ]
  },
  {
   "cell_type": "code",
   "execution_count": null,
   "metadata": {},
   "outputs": [],
   "source": [
    "sentiment_analyzer_scores(\"Adidas sucks, but I like their sustainability initiative.\")"
   ]
  },
  {
   "cell_type": "code",
   "execution_count": null,
   "metadata": {},
   "outputs": [],
   "source": []
  },
  {
   "cell_type": "code",
   "execution_count": null,
   "metadata": {},
   "outputs": [],
   "source": []
  },
  {
   "cell_type": "code",
   "execution_count": null,
   "metadata": {},
   "outputs": [],
   "source": []
  },
  {
   "cell_type": "code",
   "execution_count": null,
   "metadata": {},
   "outputs": [],
   "source": []
  },
  {
   "cell_type": "code",
   "execution_count": null,
   "metadata": {},
   "outputs": [],
   "source": []
  },
  {
   "cell_type": "code",
   "execution_count": null,
   "metadata": {},
   "outputs": [],
   "source": []
  },
  {
   "cell_type": "code",
   "execution_count": null,
   "metadata": {},
   "outputs": [],
   "source": []
  },
  {
   "cell_type": "code",
   "execution_count": null,
   "metadata": {},
   "outputs": [],
   "source": []
  },
  {
   "cell_type": "code",
   "execution_count": null,
   "metadata": {},
   "outputs": [],
   "source": []
  }
 ],
 "metadata": {
  "kernelspec": {
   "display_name": "learn-env",
   "language": "python",
   "name": "learn-env"
  },
  "language_info": {
   "codemirror_mode": {
    "name": "ipython",
    "version": 3
   },
   "file_extension": ".py",
   "mimetype": "text/x-python",
   "name": "python",
   "nbconvert_exporter": "python",
   "pygments_lexer": "ipython3",
   "version": "3.6.8"
  }
 },
 "nbformat": 4,
 "nbformat_minor": 2
}
