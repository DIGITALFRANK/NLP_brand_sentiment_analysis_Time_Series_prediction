{
 "cells": [
  {
   "cell_type": "markdown",
   "metadata": {},
   "source": [
    "# Analysing and Predicting Public Perception on Social Media"
   ]
  },
  {
   "cell_type": "markdown",
   "metadata": {},
   "source": [
    "Understanding public brand perception can be a challenge.  With the rise of social media, good data on pulic opinion about specific topics and brands is widely available. Twitter is the perfect platform for this.  By scrapping twitter data we will try to implement sentiment analysis on particular brands and topics, we will then implement a Time Series model and train it on past sentiment trends to help it predict future sentiment trajectory.  (Bitcoin, Nike vs Adidas - Twitter sentiment trend analysis + prediction)"
   ]
  },
  {
   "cell_type": "code",
   "execution_count": null,
   "metadata": {},
   "outputs": [],
   "source": []
  },
  {
   "cell_type": "markdown",
   "metadata": {},
   "source": [
    "> Importing our standard libraries, the autoreload module.."
   ]
  },
  {
   "cell_type": "code",
   "execution_count": 1,
   "metadata": {},
   "outputs": [],
   "source": [
    "import pandas as pd\n",
    "import numpy as np\n",
    "\n",
    "import matplotlib.pyplot as plt\n",
    "%matplotlib inline"
   ]
  },
  {
   "cell_type": "code",
   "execution_count": 2,
   "metadata": {},
   "outputs": [],
   "source": [
    "%load_ext autoreload\n",
    "%autoreload 2\n",
    "\n",
    "import sys, os\n",
    "from os import path\n",
    "sys.path.append(\"twint/\")"
   ]
  },
  {
   "cell_type": "markdown",
   "metadata": {},
   "source": [
    "# 1 . Scrapping Twitter with TWINT\n",
    "\n",
    "We'll begin by scrapping Twitter using the TWINT module, since Twitter's standard search API is very limited. The TWINT modules allows us to search for target tweets by keyword, within a date range, and much more almost without limitations, the enitre Twittersphere is now available to us.  We can then perform sentiment analysis on specific tweets.\n",
    "  \n",
    "We've installed TWINT through the command line and appended it to our system path in the cell above.  Next, we will import the module and set up its configuration and start running queries.  \n",
    "  "
   ]
  },
  {
   "cell_type": "code",
   "execution_count": 3,
   "metadata": {},
   "outputs": [],
   "source": [
    "# load TWINT and set up its configuration\n",
    "import twint\n",
    "c = twint.Config()"
   ]
  },
  {
   "cell_type": "code",
   "execution_count": 4,
   "metadata": {},
   "outputs": [],
   "source": [
    "# Solve compatibility issues with notebooks and RunTime errors.\n",
    "import nest_asyncio\n",
    "nest_asyncio.apply()"
   ]
  },
  {
   "cell_type": "code",
   "execution_count": 5,
   "metadata": {},
   "outputs": [
    {
     "name": "stdout",
     "output_type": "stream",
     "text": [
      "1155608805062959105 2019-07-28 18:39:43 EDT <dream_in_music_> investing in bitcoin change my life\n",
      "1155608798742175744 2019-07-28 18:39:42 EDT <My_CryptoNews> US Department of Defense to Use Tech Underlying Bitcoin for Experimental Communication Platform  https://bitnews.press/news/us-department-of-defense-to-use-tech-underlying-bitcoin-for-experimental-communication-platform?uid=8390 …\n",
      "1155608780870041601 2019-07-28 18:39:38 EDT <parrotgeek1> bitcoin minecraft\n",
      "1155608755167326209 2019-07-28 18:39:32 EDT <kayaponpon> I sell $70,000  of #Bitcoin account  Send me a #DM #selling #account #sellingaccount #accountforsale #sale #sell #buy #buyaccount\n",
      "1155608737853399040 2019-07-28 18:39:27 EDT <CryptTradingbot> Crypto Trading basic training Bitcoin BOT & Crypto Signals  https://cryptotradingsignals.wordpress.com/2019/07/28/crypto-trading-basic-training-bitcoin-bot-crypto-signals/ …\n",
      "1155608735265513474 2019-07-28 18:39:27 EDT <___jaws____> Bitcoin Suisse 'Highest BTC Trade Ever' Over 4,000 Metres Above Sea Level  https://www.cryptoglobe.com/latest/2019/07/bitcoin-suisse-mountaintop-btc-trade-record/ … #BTC\n",
      "1155608726167904257 2019-07-28 18:39:25 EDT <24global1> Bitcoin Weekly Close Nears as Bears Maintain Control; Will BTC Soon Drop Below $9,000?   https://www.newsbtc.com/2019/07/28/bitcoin-weekly-close-nears-as-bears-maintain-control-will-btc-soon-drop-below-9000/ …\n",
      "1155608721730547712 2019-07-28 18:39:24 EDT <denisenko2806> Drawing one Bitcoin for an hour on the live broadcast -  https://mixer.com/JacketedBeret34  come soon.\n",
      "1155608701476098048 2019-07-28 18:39:19 EDT <Jajarz42> Once a handful of Eth's dapps see some mainstream usage Bitcoin wont be able to compete. Took them years to build channels on BTC with Lightning network, something common in dapps and thats just a single thing.\n",
      "1155608683650285568 2019-07-28 18:39:15 EDT <TonyLisk> $BTC stay on target... #bitcoin  pic.twitter.com/OGnr2gU87c\n",
      "1155608677006696454 2019-07-28 18:39:13 EDT <harry_bigs> 🔶Bitcoin investor🅱 🔶Entrepreneur 🔶Forex trader📊 🔶24hours trading📈 DM me now for more info...  pic.twitter.com/VqyE8rQsmK\n",
      "1155608672023842816 2019-07-28 18:39:12 EDT <Cryptomaster_fr> La fermeture hebdomadaire de Bitcoin approche à mesure que les ours gardent le contrôle; La BTC va-t-elle bientôt tomber en dessous de 9 000 dollars? -   Bitcoin (BTC) et les marchés de la cryptographie agrégée ont légèrement progressé aujourd’hui ap ... -  https://cryptoactus.fr/la-fermeture-hebdomadaire-de-bitcoin-approche-a-mesure-que-les-ours-gardent-le-controle-la-btc-va-t-elle-bientot-tomber-en-dessous-de-9-000-dollars …\n",
      "1155608661680689153 2019-07-28 18:39:09 EDT <auditmeplease> In due time. If it is forced, there will be nothing left of traditional finance to apply any of its infrastructure to Bitcoin. Its shoving a wet dollar into a vending machine..\n",
      "1155608655460540417 2019-07-28 18:39:08 EDT <DeltaLemur> Just started using Lolli 🍭 to earn bitcoin when I shop online. It’s awesome & I think you should check it out! Use my link & we’ll both earn $10 in bitcoin:  https://lolli.com/ref/cnfgFzFHnD  via @trylolli\n",
      "1155608639320875014 2019-07-28 18:39:04 EDT <fxmacro> Bitcoin getting banged up again... IRS and regularity scrutiny has picked up ever since Libra was announced....\n",
      "1155608631796281345 2019-07-28 18:39:02 EDT <Lana520k> Caixa, Itaú, Bradesco, PayPal e Bitcoin\n",
      "1155608630797975557 2019-07-28 18:39:02 EDT <Wizxbt> Target hit! No brainer! #bitcoin #btcusd  https://twitter.com/Wizxbt/status/1155092697402740736 … pic.twitter.com/ykCQSf6P7O\n",
      "1155608627610148864 2019-07-28 18:39:01 EDT <DaRealEZE>  https://www.google.com/amp/s/www.foxnews.com/tech/russian-billion-dollar-bitcoin-theft-suspect-hit-with-civil-lawsuit-in-california-as-us-prosecutors-seek-to-extradite-him.amp … #bitcoin $btc $ltc $eth $xrp $bch $bsv #crypto $spy\n",
      "1155608626091790336 2019-07-28 18:39:01 EDT <farmer_spence> Bitcoin Cash is still working wonderful for them and they really love all the times people feed them!\n",
      "1155608622271029248 2019-07-28 18:39:00 EDT <BlockchainRDO> The Humans of Bitcoin on Blockchain Radio - How bitcoin helps when your life falls apart - Peter McCormack\n"
     ]
    }
   ],
   "source": [
    "c.Search = \"bitcoin\"\n",
    "c.Limit = 1 # results are returned in blocks of 20 tweets, 1 here means 20\n",
    "c.Pandas = True\n",
    "twint.run.Search(c)"
   ]
  },
  {
   "cell_type": "markdown",
   "metadata": {},
   "source": [
    "### Great!\n",
    "> We have tweets being output as our result!  Now let's format this output into a dataframe we can work with"
   ]
  },
  {
   "cell_type": "code",
   "execution_count": 6,
   "metadata": {},
   "outputs": [],
   "source": [
    "def available_columns():\n",
    "    return twint.output.panda.Tweets_df.columns\n",
    "\n",
    "def twint_to_pandas(columns):\n",
    "    return twint.output.panda.Tweets_df[columns]"
   ]
  },
  {
   "cell_type": "code",
   "execution_count": 7,
   "metadata": {},
   "outputs": [
    {
     "data": {
      "text/plain": [
       "Index(['cashtags', 'conversation_id', 'created_at', 'date', 'day', 'geo',\n",
       "       'hashtags', 'hour', 'id', 'link', 'name', 'near', 'nlikes', 'nreplies',\n",
       "       'nretweets', 'place', 'quote_url', 'retweet', 'search', 'timezone',\n",
       "       'tweet', 'user_id', 'user_id_str', 'username'],\n",
       "      dtype='object')"
      ]
     },
     "execution_count": 7,
     "metadata": {},
     "output_type": "execute_result"
    }
   ],
   "source": [
    "# see what columns are available\n",
    "available_columns()"
   ]
  },
  {
   "cell_type": "code",
   "execution_count": 8,
   "metadata": {},
   "outputs": [
    {
     "name": "stdout",
     "output_type": "stream",
     "text": [
      "(20, 11)\n"
     ]
    },
    {
     "data": {
      "text/html": [
       "<div>\n",
       "<style scoped>\n",
       "    .dataframe tbody tr th:only-of-type {\n",
       "        vertical-align: middle;\n",
       "    }\n",
       "\n",
       "    .dataframe tbody tr th {\n",
       "        vertical-align: top;\n",
       "    }\n",
       "\n",
       "    .dataframe thead th {\n",
       "        text-align: right;\n",
       "    }\n",
       "</style>\n",
       "<table border=\"1\" class=\"dataframe\">\n",
       "  <thead>\n",
       "    <tr style=\"text-align: right;\">\n",
       "      <th></th>\n",
       "      <th>conversation_id</th>\n",
       "      <th>created_at</th>\n",
       "      <th>id</th>\n",
       "      <th>user_id</th>\n",
       "      <th>username</th>\n",
       "      <th>tweet</th>\n",
       "      <th>hashtags</th>\n",
       "      <th>date</th>\n",
       "      <th>day</th>\n",
       "      <th>nlikes</th>\n",
       "      <th>nretweets</th>\n",
       "    </tr>\n",
       "  </thead>\n",
       "  <tbody>\n",
       "    <tr>\n",
       "      <th>0</th>\n",
       "      <td>1155608805062959105</td>\n",
       "      <td>1564353583000</td>\n",
       "      <td>1155608805062959105</td>\n",
       "      <td>4304021292</td>\n",
       "      <td>dream_in_music_</td>\n",
       "      <td>investing in bitcoin change my life</td>\n",
       "      <td>[]</td>\n",
       "      <td>2019-07-28 18:39:43</td>\n",
       "      <td>7</td>\n",
       "      <td>0</td>\n",
       "      <td>0</td>\n",
       "    </tr>\n",
       "    <tr>\n",
       "      <th>1</th>\n",
       "      <td>1155608798742175744</td>\n",
       "      <td>1564353582000</td>\n",
       "      <td>1155608798742175744</td>\n",
       "      <td>1044925377188179969</td>\n",
       "      <td>My_CryptoNews</td>\n",
       "      <td>US Department of Defense to Use Tech Underlyin...</td>\n",
       "      <td>[]</td>\n",
       "      <td>2019-07-28 18:39:42</td>\n",
       "      <td>7</td>\n",
       "      <td>0</td>\n",
       "      <td>0</td>\n",
       "    </tr>\n",
       "    <tr>\n",
       "      <th>2</th>\n",
       "      <td>1155608780870041601</td>\n",
       "      <td>1564353578000</td>\n",
       "      <td>1155608780870041601</td>\n",
       "      <td>1016773437988061184</td>\n",
       "      <td>parrotgeek1</td>\n",
       "      <td>bitcoin minecraft</td>\n",
       "      <td>[]</td>\n",
       "      <td>2019-07-28 18:39:38</td>\n",
       "      <td>7</td>\n",
       "      <td>0</td>\n",
       "      <td>0</td>\n",
       "    </tr>\n",
       "    <tr>\n",
       "      <th>3</th>\n",
       "      <td>1155608755167326209</td>\n",
       "      <td>1564353572000</td>\n",
       "      <td>1155608755167326209</td>\n",
       "      <td>151347422</td>\n",
       "      <td>kayaponpon</td>\n",
       "      <td>I sell $70,000  of #Bitcoin account  Send me a...</td>\n",
       "      <td>[#bitcoin, #dm, #selling, #account, #sellingac...</td>\n",
       "      <td>2019-07-28 18:39:32</td>\n",
       "      <td>6</td>\n",
       "      <td>0</td>\n",
       "      <td>0</td>\n",
       "    </tr>\n",
       "    <tr>\n",
       "      <th>4</th>\n",
       "      <td>1155608737853399040</td>\n",
       "      <td>1564353567000</td>\n",
       "      <td>1155608737853399040</td>\n",
       "      <td>788498519573225472</td>\n",
       "      <td>CryptTradingbot</td>\n",
       "      <td>Crypto Trading basic training Bitcoin BOT &amp; Cr...</td>\n",
       "      <td>[]</td>\n",
       "      <td>2019-07-28 18:39:27</td>\n",
       "      <td>6</td>\n",
       "      <td>0</td>\n",
       "      <td>0</td>\n",
       "    </tr>\n",
       "  </tbody>\n",
       "</table>\n",
       "</div>"
      ],
      "text/plain": [
       "       conversation_id     created_at                   id  \\\n",
       "0  1155608805062959105  1564353583000  1155608805062959105   \n",
       "1  1155608798742175744  1564353582000  1155608798742175744   \n",
       "2  1155608780870041601  1564353578000  1155608780870041601   \n",
       "3  1155608755167326209  1564353572000  1155608755167326209   \n",
       "4  1155608737853399040  1564353567000  1155608737853399040   \n",
       "\n",
       "               user_id         username  \\\n",
       "0           4304021292  dream_in_music_   \n",
       "1  1044925377188179969    My_CryptoNews   \n",
       "2  1016773437988061184      parrotgeek1   \n",
       "3            151347422       kayaponpon   \n",
       "4   788498519573225472  CryptTradingbot   \n",
       "\n",
       "                                               tweet  \\\n",
       "0                investing in bitcoin change my life   \n",
       "1  US Department of Defense to Use Tech Underlyin...   \n",
       "2                                  bitcoin minecraft   \n",
       "3  I sell $70,000  of #Bitcoin account  Send me a...   \n",
       "4  Crypto Trading basic training Bitcoin BOT & Cr...   \n",
       "\n",
       "                                            hashtags                 date  \\\n",
       "0                                                 []  2019-07-28 18:39:43   \n",
       "1                                                 []  2019-07-28 18:39:42   \n",
       "2                                                 []  2019-07-28 18:39:38   \n",
       "3  [#bitcoin, #dm, #selling, #account, #sellingac...  2019-07-28 18:39:32   \n",
       "4                                                 []  2019-07-28 18:39:27   \n",
       "\n",
       "   day  nlikes  nretweets  \n",
       "0    7       0          0  \n",
       "1    7       0          0  \n",
       "2    7       0          0  \n",
       "3    6       0          0  \n",
       "4    6       0          0  "
      ]
     },
     "execution_count": 8,
     "metadata": {},
     "output_type": "execute_result"
    }
   ],
   "source": [
    "# create Pandas dataframe with desired columns\n",
    "df = twint_to_pandas(['conversation_id', 'created_at', 'id', 'user_id', 'username', 'tweet', 'hashtags', 'date', 'day', 'nlikes', 'nretweets'])\n",
    "print(df.shape)\n",
    "df.head()"
   ]
  },
  {
   "cell_type": "markdown",
   "metadata": {},
   "source": [
    "### Success!\n",
    "> We now have a data frame with 20 tweets all containing the keyword \"bitcoin\", along with some additional information about the tweets"
   ]
  },
  {
   "cell_type": "code",
   "execution_count": null,
   "metadata": {},
   "outputs": [],
   "source": []
  },
  {
   "cell_type": "code",
   "execution_count": null,
   "metadata": {},
   "outputs": [],
   "source": []
  },
  {
   "cell_type": "markdown",
   "metadata": {},
   "source": [
    "> Now let's make our code a bit more modular so that we can run constant queries"
   ]
  },
  {
   "cell_type": "code",
   "execution_count": 9,
   "metadata": {},
   "outputs": [],
   "source": [
    "# Disable annoying printing\n",
    "class HiddenPrints:\n",
    "    def __enter__(self):\n",
    "        self._original_stdout = sys.stdout\n",
    "        sys.stdout = open(os.devnull, 'w')\n",
    "\n",
    "    def __exit__(self, exc_type, exc_val, exc_tb):\n",
    "        sys.stdout.close()\n",
    "        sys.stdout = self._original_stdout"
   ]
  },
  {
   "cell_type": "code",
   "execution_count": 10,
   "metadata": {},
   "outputs": [],
   "source": [
    "# test Twitter scraping\n",
    "def get_tweets(search_term, limit=100):\n",
    "    c = twint.Config()\n",
    "    c.Search = search_term\n",
    "    c.Limit = limit\n",
    "    c.Pandas = True\n",
    "    c.Pandas_clean = True\n",
    "    \n",
    "    result_columns = ['id', 'username', 'tweet', 'hashtags', 'date', 'day', 'nlikes', 'nretweets']\n",
    "    with HiddenPrints():\n",
    "        print(twint.run.Search(c))\n",
    "    return twint.output.panda.Tweets_df[result_columns]"
   ]
  },
  {
   "cell_type": "code",
   "execution_count": null,
   "metadata": {},
   "outputs": [],
   "source": []
  },
  {
   "cell_type": "code",
   "execution_count": null,
   "metadata": {},
   "outputs": [],
   "source": []
  },
  {
   "cell_type": "code",
   "execution_count": 11,
   "metadata": {},
   "outputs": [
    {
     "name": "stdout",
     "output_type": "stream",
     "text": [
      "(10004, 8)\n"
     ]
    },
    {
     "data": {
      "text/html": [
       "<div>\n",
       "<style scoped>\n",
       "    .dataframe tbody tr th:only-of-type {\n",
       "        vertical-align: middle;\n",
       "    }\n",
       "\n",
       "    .dataframe tbody tr th {\n",
       "        vertical-align: top;\n",
       "    }\n",
       "\n",
       "    .dataframe thead th {\n",
       "        text-align: right;\n",
       "    }\n",
       "</style>\n",
       "<table border=\"1\" class=\"dataframe\">\n",
       "  <thead>\n",
       "    <tr style=\"text-align: right;\">\n",
       "      <th></th>\n",
       "      <th>id</th>\n",
       "      <th>username</th>\n",
       "      <th>tweet</th>\n",
       "      <th>hashtags</th>\n",
       "      <th>date</th>\n",
       "      <th>day</th>\n",
       "      <th>nlikes</th>\n",
       "      <th>nretweets</th>\n",
       "    </tr>\n",
       "  </thead>\n",
       "  <tbody>\n",
       "    <tr>\n",
       "      <th>0</th>\n",
       "      <td>1154070862536028161</td>\n",
       "      <td>maksimmerili</td>\n",
       "      <td>Long/Short Bitcoin &amp; altcoin volatility with u...</td>\n",
       "      <td>[]</td>\n",
       "      <td>2019-07-24 12:48:29</td>\n",
       "      <td>5</td>\n",
       "      <td>0</td>\n",
       "      <td>0</td>\n",
       "    </tr>\n",
       "    <tr>\n",
       "      <th>1</th>\n",
       "      <td>1154070855380623360</td>\n",
       "      <td>RadsickTrrance</td>\n",
       "      <td>#Bitcoin Price Shuns Volatility as Analysts Wa...</td>\n",
       "      <td>[#bitcoin, #crypto]</td>\n",
       "      <td>2019-07-24 12:48:28</td>\n",
       "      <td>5</td>\n",
       "      <td>0</td>\n",
       "      <td>0</td>\n",
       "    </tr>\n",
       "    <tr>\n",
       "      <th>2</th>\n",
       "      <td>1154070832827813890</td>\n",
       "      <td>TurgayMutlucan</td>\n",
       "      <td>Bitcoin bu,  her an herşey olabilir!</td>\n",
       "      <td>[]</td>\n",
       "      <td>2019-07-24 12:48:22</td>\n",
       "      <td>5</td>\n",
       "      <td>0</td>\n",
       "      <td>0</td>\n",
       "    </tr>\n",
       "    <tr>\n",
       "      <th>3</th>\n",
       "      <td>1154070829812125707</td>\n",
       "      <td>WallyGideon</td>\n",
       "      <td>New video by Legit TV: Why Coincola is the bes...</td>\n",
       "      <td>[]</td>\n",
       "      <td>2019-07-24 12:48:22</td>\n",
       "      <td>5</td>\n",
       "      <td>0</td>\n",
       "      <td>0</td>\n",
       "    </tr>\n",
       "    <tr>\n",
       "      <th>4</th>\n",
       "      <td>1154070822828617729</td>\n",
       "      <td>cryptosnarf</td>\n",
       "      <td>When real bitcoin back</td>\n",
       "      <td>[]</td>\n",
       "      <td>2019-07-24 12:48:20</td>\n",
       "      <td>5</td>\n",
       "      <td>0</td>\n",
       "      <td>0</td>\n",
       "    </tr>\n",
       "  </tbody>\n",
       "</table>\n",
       "</div>"
      ],
      "text/plain": [
       "                    id        username  \\\n",
       "0  1154070862536028161    maksimmerili   \n",
       "1  1154070855380623360  RadsickTrrance   \n",
       "2  1154070832827813890  TurgayMutlucan   \n",
       "3  1154070829812125707     WallyGideon   \n",
       "4  1154070822828617729     cryptosnarf   \n",
       "\n",
       "                                               tweet             hashtags  \\\n",
       "0  Long/Short Bitcoin & altcoin volatility with u...                   []   \n",
       "1  #Bitcoin Price Shuns Volatility as Analysts Wa...  [#bitcoin, #crypto]   \n",
       "2               Bitcoin bu,  her an herşey olabilir!                   []   \n",
       "3  New video by Legit TV: Why Coincola is the bes...                   []   \n",
       "4                             When real bitcoin back                   []   \n",
       "\n",
       "                  date  day  nlikes  nretweets  \n",
       "0  2019-07-24 12:48:29    5       0          0  \n",
       "1  2019-07-24 12:48:28    5       0          0  \n",
       "2  2019-07-24 12:48:22    5       0          0  \n",
       "3  2019-07-24 12:48:22    5       0          0  \n",
       "4  2019-07-24 12:48:20    5       0          0  "
      ]
     },
     "execution_count": 11,
     "metadata": {},
     "output_type": "execute_result"
    }
   ],
   "source": [
    "bitcoin_tweets = get_tweets(\"bitcoin\", limit=10000)\n",
    "print(bitcoin_tweets.shape)\n",
    "bitcoin_tweets.head()"
   ]
  },
  {
   "cell_type": "code",
   "execution_count": null,
   "metadata": {},
   "outputs": [],
   "source": []
  },
  {
   "cell_type": "code",
   "execution_count": null,
   "metadata": {},
   "outputs": [],
   "source": []
  },
  {
   "cell_type": "code",
   "execution_count": 12,
   "metadata": {},
   "outputs": [
    {
     "name": "stdout",
     "output_type": "stream",
     "text": [
      "(10016, 8)\n"
     ]
    },
    {
     "data": {
      "text/html": [
       "<div>\n",
       "<style scoped>\n",
       "    .dataframe tbody tr th:only-of-type {\n",
       "        vertical-align: middle;\n",
       "    }\n",
       "\n",
       "    .dataframe tbody tr th {\n",
       "        vertical-align: top;\n",
       "    }\n",
       "\n",
       "    .dataframe thead th {\n",
       "        text-align: right;\n",
       "    }\n",
       "</style>\n",
       "<table border=\"1\" class=\"dataframe\">\n",
       "  <thead>\n",
       "    <tr style=\"text-align: right;\">\n",
       "      <th></th>\n",
       "      <th>id</th>\n",
       "      <th>username</th>\n",
       "      <th>tweet</th>\n",
       "      <th>hashtags</th>\n",
       "      <th>date</th>\n",
       "      <th>day</th>\n",
       "      <th>nlikes</th>\n",
       "      <th>nretweets</th>\n",
       "    </tr>\n",
       "  </thead>\n",
       "  <tbody>\n",
       "    <tr>\n",
       "      <th>0</th>\n",
       "      <td>1154072907297054720</td>\n",
       "      <td>swerve1973</td>\n",
       "      <td>Classy combo! I had a Raleigh Burner and Adida...</td>\n",
       "      <td>[]</td>\n",
       "      <td>2019-07-24 12:56:37</td>\n",
       "      <td>3</td>\n",
       "      <td>0</td>\n",
       "      <td>0</td>\n",
       "    </tr>\n",
       "    <tr>\n",
       "      <th>1</th>\n",
       "      <td>1154072900816662528</td>\n",
       "      <td>RoopGautam</td>\n",
       "      <td>कभी नंगे पैर दौड़ना पड़ता था, क्योंकि जूते खरी...</td>\n",
       "      <td>[]</td>\n",
       "      <td>2019-07-24 12:56:35</td>\n",
       "      <td>3</td>\n",
       "      <td>1</td>\n",
       "      <td>0</td>\n",
       "    </tr>\n",
       "    <tr>\n",
       "      <th>2</th>\n",
       "      <td>1154072900418359296</td>\n",
       "      <td>cinj00</td>\n",
       "      <td>Elite 8 game is a W!! We beat a tough CBC Elit...</td>\n",
       "      <td>[]</td>\n",
       "      <td>2019-07-24 12:56:35</td>\n",
       "      <td>3</td>\n",
       "      <td>0</td>\n",
       "      <td>0</td>\n",
       "    </tr>\n",
       "    <tr>\n",
       "      <th>3</th>\n",
       "      <td>1154072890951819265</td>\n",
       "      <td>checkthekicks</td>\n",
       "      <td>http://rover.ebay.com/rover/1/711-53200-19255...</td>\n",
       "      <td>[#kidsshoes]</td>\n",
       "      <td>2019-07-24 12:56:33</td>\n",
       "      <td>3</td>\n",
       "      <td>0</td>\n",
       "      <td>0</td>\n",
       "    </tr>\n",
       "    <tr>\n",
       "      <th>4</th>\n",
       "      <td>1154072886635880448</td>\n",
       "      <td>liberosans</td>\n",
       "      <td>i'm sick his entire wardrobe is different blac...</td>\n",
       "      <td>[]</td>\n",
       "      <td>2019-07-24 12:56:32</td>\n",
       "      <td>3</td>\n",
       "      <td>0</td>\n",
       "      <td>0</td>\n",
       "    </tr>\n",
       "  </tbody>\n",
       "</table>\n",
       "</div>"
      ],
      "text/plain": [
       "                    id       username  \\\n",
       "0  1154072907297054720     swerve1973   \n",
       "1  1154072900816662528     RoopGautam   \n",
       "2  1154072900418359296         cinj00   \n",
       "3  1154072890951819265  checkthekicks   \n",
       "4  1154072886635880448     liberosans   \n",
       "\n",
       "                                               tweet      hashtags  \\\n",
       "0  Classy combo! I had a Raleigh Burner and Adida...            []   \n",
       "1  कभी नंगे पैर दौड़ना पड़ता था, क्योंकि जूते खरी...            []   \n",
       "2  Elite 8 game is a W!! We beat a tough CBC Elit...            []   \n",
       "3   http://rover.ebay.com/rover/1/711-53200-19255...  [#kidsshoes]   \n",
       "4  i'm sick his entire wardrobe is different blac...            []   \n",
       "\n",
       "                  date  day  nlikes  nretweets  \n",
       "0  2019-07-24 12:56:37    3       0          0  \n",
       "1  2019-07-24 12:56:35    3       1          0  \n",
       "2  2019-07-24 12:56:35    3       0          0  \n",
       "3  2019-07-24 12:56:33    3       0          0  \n",
       "4  2019-07-24 12:56:32    3       0          0  "
      ]
     },
     "execution_count": 12,
     "metadata": {},
     "output_type": "execute_result"
    }
   ],
   "source": [
    "adidas_tweets = get_tweets(\"adidas\", limit=10000)\n",
    "print(adidas_tweets.shape)\n",
    "adidas_tweets.head()"
   ]
  },
  {
   "cell_type": "code",
   "execution_count": 13,
   "metadata": {},
   "outputs": [
    {
     "data": {
      "text/html": [
       "<div>\n",
       "<style scoped>\n",
       "    .dataframe tbody tr th:only-of-type {\n",
       "        vertical-align: middle;\n",
       "    }\n",
       "\n",
       "    .dataframe tbody tr th {\n",
       "        vertical-align: top;\n",
       "    }\n",
       "\n",
       "    .dataframe thead th {\n",
       "        text-align: right;\n",
       "    }\n",
       "</style>\n",
       "<table border=\"1\" class=\"dataframe\">\n",
       "  <thead>\n",
       "    <tr style=\"text-align: right;\">\n",
       "      <th></th>\n",
       "      <th>id</th>\n",
       "      <th>username</th>\n",
       "      <th>tweet</th>\n",
       "      <th>hashtags</th>\n",
       "      <th>date</th>\n",
       "      <th>day</th>\n",
       "      <th>nlikes</th>\n",
       "      <th>nretweets</th>\n",
       "    </tr>\n",
       "  </thead>\n",
       "  <tbody>\n",
       "    <tr>\n",
       "      <th>10011</th>\n",
       "      <td>1153716514215698432</td>\n",
       "      <td>New_preloved</td>\n",
       "      <td>{NP} Ada yang mau thread tas tas branded dari ...</td>\n",
       "      <td>[]</td>\n",
       "      <td>2019-07-23 13:20:26</td>\n",
       "      <td>7</td>\n",
       "      <td>6</td>\n",
       "      <td>0</td>\n",
       "    </tr>\n",
       "    <tr>\n",
       "      <th>10012</th>\n",
       "      <td>1153716480917344258</td>\n",
       "      <td>Felipekrf</td>\n",
       "      <td>Meninaaaas, chegaram os vestidos de moletom da...</td>\n",
       "      <td>[]</td>\n",
       "      <td>2019-07-23 13:20:18</td>\n",
       "      <td>7</td>\n",
       "      <td>0</td>\n",
       "      <td>1</td>\n",
       "    </tr>\n",
       "    <tr>\n",
       "      <th>10013</th>\n",
       "      <td>1153716470469267458</td>\n",
       "      <td>giselamlopez</td>\n",
       "      <td>Adidas wow #daretocreate   New adidas ad Dare ...</td>\n",
       "      <td>[#daretocreate]</td>\n",
       "      <td>2019-07-23 13:20:16</td>\n",
       "      <td>7</td>\n",
       "      <td>0</td>\n",
       "      <td>0</td>\n",
       "    </tr>\n",
       "    <tr>\n",
       "      <th>10014</th>\n",
       "      <td>1153716458704310273</td>\n",
       "      <td>masterthegamerp</td>\n",
       "      <td>I like ADIDAS or Vans maybe?</td>\n",
       "      <td>[]</td>\n",
       "      <td>2019-07-23 13:20:13</td>\n",
       "      <td>7</td>\n",
       "      <td>2</td>\n",
       "      <td>0</td>\n",
       "    </tr>\n",
       "    <tr>\n",
       "      <th>10015</th>\n",
       "      <td>1153716452496674816</td>\n",
       "      <td>steezy_jay__</td>\n",
       "      <td>They actually sell think about it it’s only we...</td>\n",
       "      <td>[]</td>\n",
       "      <td>2019-07-23 13:20:11</td>\n",
       "      <td>7</td>\n",
       "      <td>0</td>\n",
       "      <td>0</td>\n",
       "    </tr>\n",
       "  </tbody>\n",
       "</table>\n",
       "</div>"
      ],
      "text/plain": [
       "                        id         username  \\\n",
       "10011  1153716514215698432     New_preloved   \n",
       "10012  1153716480917344258        Felipekrf   \n",
       "10013  1153716470469267458     giselamlopez   \n",
       "10014  1153716458704310273  masterthegamerp   \n",
       "10015  1153716452496674816     steezy_jay__   \n",
       "\n",
       "                                                   tweet         hashtags  \\\n",
       "10011  {NP} Ada yang mau thread tas tas branded dari ...               []   \n",
       "10012  Meninaaaas, chegaram os vestidos de moletom da...               []   \n",
       "10013  Adidas wow #daretocreate   New adidas ad Dare ...  [#daretocreate]   \n",
       "10014                       I like ADIDAS or Vans maybe?               []   \n",
       "10015  They actually sell think about it it’s only we...               []   \n",
       "\n",
       "                      date  day  nlikes  nretweets  \n",
       "10011  2019-07-23 13:20:26    7       6          0  \n",
       "10012  2019-07-23 13:20:18    7       0          1  \n",
       "10013  2019-07-23 13:20:16    7       0          0  \n",
       "10014  2019-07-23 13:20:13    7       2          0  \n",
       "10015  2019-07-23 13:20:11    7       0          0  "
      ]
     },
     "execution_count": 13,
     "metadata": {},
     "output_type": "execute_result"
    }
   ],
   "source": [
    "adidas_tweets.tail()"
   ]
  },
  {
   "cell_type": "code",
   "execution_count": null,
   "metadata": {},
   "outputs": [],
   "source": []
  },
  {
   "cell_type": "code",
   "execution_count": null,
   "metadata": {},
   "outputs": [],
   "source": []
  },
  {
   "cell_type": "code",
   "execution_count": 14,
   "metadata": {},
   "outputs": [
    {
     "name": "stdout",
     "output_type": "stream",
     "text": [
      "(10000, 8)\n"
     ]
    },
    {
     "data": {
      "text/html": [
       "<div>\n",
       "<style scoped>\n",
       "    .dataframe tbody tr th:only-of-type {\n",
       "        vertical-align: middle;\n",
       "    }\n",
       "\n",
       "    .dataframe tbody tr th {\n",
       "        vertical-align: top;\n",
       "    }\n",
       "\n",
       "    .dataframe thead th {\n",
       "        text-align: right;\n",
       "    }\n",
       "</style>\n",
       "<table border=\"1\" class=\"dataframe\">\n",
       "  <thead>\n",
       "    <tr style=\"text-align: right;\">\n",
       "      <th></th>\n",
       "      <th>id</th>\n",
       "      <th>username</th>\n",
       "      <th>tweet</th>\n",
       "      <th>hashtags</th>\n",
       "      <th>date</th>\n",
       "      <th>day</th>\n",
       "      <th>nlikes</th>\n",
       "      <th>nretweets</th>\n",
       "    </tr>\n",
       "  </thead>\n",
       "  <tbody>\n",
       "    <tr>\n",
       "      <th>0</th>\n",
       "      <td>1154077508133933058</td>\n",
       "      <td>twanAthon</td>\n",
       "      <td>I’m glad he went to Jordan. That speaks volume...</td>\n",
       "      <td>[]</td>\n",
       "      <td>2019-07-24 13:14:54</td>\n",
       "      <td>2</td>\n",
       "      <td>0</td>\n",
       "      <td>0</td>\n",
       "    </tr>\n",
       "    <tr>\n",
       "      <th>1</th>\n",
       "      <td>1154077437912866818</td>\n",
       "      <td>crackyspen</td>\n",
       "      <td>2009 Polo Jeans Perfect Circle/Godspeed The St...</td>\n",
       "      <td>[]</td>\n",
       "      <td>2019-07-24 13:14:37</td>\n",
       "      <td>2</td>\n",
       "      <td>0</td>\n",
       "      <td>0</td>\n",
       "    </tr>\n",
       "    <tr>\n",
       "      <th>2</th>\n",
       "      <td>1154077431860551682</td>\n",
       "      <td>somto_jr</td>\n",
       "      <td>Nike shoes are better than adidas shoes</td>\n",
       "      <td>[]</td>\n",
       "      <td>2019-07-24 13:14:36</td>\n",
       "      <td>2</td>\n",
       "      <td>0</td>\n",
       "      <td>0</td>\n",
       "    </tr>\n",
       "    <tr>\n",
       "      <th>3</th>\n",
       "      <td>1154077420665921536</td>\n",
       "      <td>alcarazpedro</td>\n",
       "      <td>la última de nike?</td>\n",
       "      <td>[]</td>\n",
       "      <td>2019-07-24 13:14:33</td>\n",
       "      <td>2</td>\n",
       "      <td>0</td>\n",
       "      <td>0</td>\n",
       "    </tr>\n",
       "    <tr>\n",
       "      <th>4</th>\n",
       "      <td>1154077405717417988</td>\n",
       "      <td>FernandzCande</td>\n",
       "      <td>me calzo las Nike y me voy a caminar lejos con...</td>\n",
       "      <td>[]</td>\n",
       "      <td>2019-07-24 13:14:29</td>\n",
       "      <td>2</td>\n",
       "      <td>0</td>\n",
       "      <td>0</td>\n",
       "    </tr>\n",
       "  </tbody>\n",
       "</table>\n",
       "</div>"
      ],
      "text/plain": [
       "                    id       username  \\\n",
       "0  1154077508133933058      twanAthon   \n",
       "1  1154077437912866818     crackyspen   \n",
       "2  1154077431860551682       somto_jr   \n",
       "3  1154077420665921536   alcarazpedro   \n",
       "4  1154077405717417988  FernandzCande   \n",
       "\n",
       "                                               tweet hashtags  \\\n",
       "0  I’m glad he went to Jordan. That speaks volume...       []   \n",
       "1  2009 Polo Jeans Perfect Circle/Godspeed The St...       []   \n",
       "2            Nike shoes are better than adidas shoes       []   \n",
       "3                                 la última de nike?       []   \n",
       "4  me calzo las Nike y me voy a caminar lejos con...       []   \n",
       "\n",
       "                  date  day  nlikes  nretweets  \n",
       "0  2019-07-24 13:14:54    2       0          0  \n",
       "1  2019-07-24 13:14:37    2       0          0  \n",
       "2  2019-07-24 13:14:36    2       0          0  \n",
       "3  2019-07-24 13:14:33    2       0          0  \n",
       "4  2019-07-24 13:14:29    2       0          0  "
      ]
     },
     "execution_count": 14,
     "metadata": {},
     "output_type": "execute_result"
    }
   ],
   "source": [
    "nike_tweets = get_tweets(\"nike\", limit=10000)\n",
    "print(nike_tweets.shape)\n",
    "nike_tweets.head()"
   ]
  },
  {
   "cell_type": "code",
   "execution_count": null,
   "metadata": {},
   "outputs": [],
   "source": []
  },
  {
   "cell_type": "code",
   "execution_count": null,
   "metadata": {},
   "outputs": [],
   "source": []
  },
  {
   "cell_type": "code",
   "execution_count": null,
   "metadata": {},
   "outputs": [],
   "source": []
  },
  {
   "cell_type": "code",
   "execution_count": null,
   "metadata": {},
   "outputs": [],
   "source": []
  },
  {
   "cell_type": "code",
   "execution_count": null,
   "metadata": {},
   "outputs": [],
   "source": []
  },
  {
   "cell_type": "markdown",
   "metadata": {},
   "source": [
    "# 2 . Testing the Vader Module for Sentiment Analysis"
   ]
  },
  {
   "cell_type": "markdown",
   "metadata": {},
   "source": [
    "> first let's test out Vader on a simple line of text and analyze the results"
   ]
  },
  {
   "cell_type": "code",
   "execution_count": null,
   "metadata": {},
   "outputs": [],
   "source": [
    "#!pip install vaderSentiment"
   ]
  },
  {
   "cell_type": "code",
   "execution_count": 11,
   "metadata": {},
   "outputs": [],
   "source": [
    "from vaderSentiment.vaderSentiment import SentimentIntensityAnalyzer\n",
    "analyser = SentimentIntensityAnalyzer()"
   ]
  },
  {
   "cell_type": "code",
   "execution_count": 12,
   "metadata": {},
   "outputs": [],
   "source": [
    "def sentiment_analyzer_scores(sentence):\n",
    "    score = analyser.polarity_scores(sentence)\n",
    "    print('sentence: \"{}\"'.format(sentence))\n",
    "    print('scores: {}'.format(str(score))) \n",
    "    return score['compound']"
   ]
  },
  {
   "cell_type": "code",
   "execution_count": 13,
   "metadata": {},
   "outputs": [
    {
     "name": "stdout",
     "output_type": "stream",
     "text": [
      "sentence: \"Nike is the best.\"\n",
      "scores: {'neg': 0.0, 'neu': 0.417, 'pos': 0.583, 'compound': 0.6369}\n"
     ]
    },
    {
     "data": {
      "text/plain": [
       "0.6369"
      ]
     },
     "execution_count": 13,
     "metadata": {},
     "output_type": "execute_result"
    }
   ],
   "source": [
    "sentiment_analyzer_scores(\"Nike is the best.\")"
   ]
  },
  {
   "cell_type": "markdown",
   "metadata": {},
   "source": [
    "> Pretty positive sentiment, how about..."
   ]
  },
  {
   "cell_type": "code",
   "execution_count": 14,
   "metadata": {},
   "outputs": [
    {
     "name": "stdout",
     "output_type": "stream",
     "text": [
      "sentence: \"Nike is the BEST!\"\n",
      "scores: {'neg': 0.0, 'neu': 0.365, 'pos': 0.635, 'compound': 0.7371}\n"
     ]
    },
    {
     "data": {
      "text/plain": [
       "0.7371"
      ]
     },
     "execution_count": 14,
     "metadata": {},
     "output_type": "execute_result"
    }
   ],
   "source": [
    "sentiment_analyzer_scores(\"Nike is the BEST!\")"
   ]
  },
  {
   "cell_type": "markdown",
   "metadata": {},
   "source": [
    "> See the increase in positivity from .63 to .73"
   ]
  },
  {
   "cell_type": "markdown",
   "metadata": {},
   "source": [
    "> Let's try another simple example"
   ]
  },
  {
   "cell_type": "code",
   "execution_count": 22,
   "metadata": {},
   "outputs": [
    {
     "name": "stdout",
     "output_type": "stream",
     "text": [
      "sentence: \"Adidas sucks, but I like their sustainability initiative.\"\n",
      "scores: {'neg': 0.175, 'neu': 0.5, 'pos': 0.325, 'compound': 0.3612}\n"
     ]
    },
    {
     "data": {
      "text/plain": [
       "0.3612"
      ]
     },
     "execution_count": 22,
     "metadata": {},
     "output_type": "execute_result"
    }
   ],
   "source": [
    "sentiment_analyzer_scores(\"Adidas sucks, but I like their sustainability initiative.\")"
   ]
  },
  {
   "cell_type": "markdown",
   "metadata": {},
   "source": [
    "> How about..."
   ]
  },
  {
   "cell_type": "code",
   "execution_count": 24,
   "metadata": {},
   "outputs": [
    {
     "name": "stdout",
     "output_type": "stream",
     "text": [
      "sentence: \"Adidas is terrible!  I just hate all their designs, and that Kanye West line looked like clothing for homeless people.  I'll never buy Adidas, ever!\"\n",
      "scores: {'neg': 0.239, 'neu': 0.68, 'pos': 0.081, 'compound': -0.7081}\n"
     ]
    },
    {
     "data": {
      "text/plain": [
       "-0.7081"
      ]
     },
     "execution_count": 24,
     "metadata": {},
     "output_type": "execute_result"
    }
   ],
   "source": [
    "sentiment_analyzer_scores(\"Adidas is terrible!  I just hate all their designs, and that Kanye West line looked like clothing for homeless people.  I'll never buy Adidas, ever!\")"
   ]
  },
  {
   "cell_type": "markdown",
   "metadata": {},
   "source": [
    "> Now that we've tested Vader, let's apply it to our dataframes and see the overall sentiment in about 10,000 tweets on each topic/brand"
   ]
  },
  {
   "cell_type": "code",
   "execution_count": 15,
   "metadata": {},
   "outputs": [],
   "source": [
    "import warnings\n",
    "warnings.filterwarnings('ignore')"
   ]
  },
  {
   "cell_type": "code",
   "execution_count": 16,
   "metadata": {},
   "outputs": [],
   "source": [
    "def compound_score(tweet):\n",
    "    return analyser.polarity_scores(tweet)['compound']\n",
    "\n",
    "def overall_sentiment(df):\n",
    "    df['sentiment_score'] = df['tweet'].apply(compound_score)\n",
    "    return round(df['sentiment_score'].sum() / len(df['sentiment_score']), 2)"
   ]
  },
  {
   "cell_type": "code",
   "execution_count": 38,
   "metadata": {},
   "outputs": [
    {
     "data": {
      "text/plain": [
       "0.6155"
      ]
     },
     "execution_count": 38,
     "metadata": {},
     "output_type": "execute_result"
    }
   ],
   "source": [
    "compound_score('Adidas is one of my FAV sports brands!')"
   ]
  },
  {
   "cell_type": "code",
   "execution_count": 44,
   "metadata": {},
   "outputs": [
    {
     "name": "stdout",
     "output_type": "stream",
     "text": [
      "The overall sentiment score for the \"Bitcoin\" related set of tweets is: 0.1\n"
     ]
    },
    {
     "data": {
      "text/html": [
       "<div>\n",
       "<style scoped>\n",
       "    .dataframe tbody tr th:only-of-type {\n",
       "        vertical-align: middle;\n",
       "    }\n",
       "\n",
       "    .dataframe tbody tr th {\n",
       "        vertical-align: top;\n",
       "    }\n",
       "\n",
       "    .dataframe thead th {\n",
       "        text-align: right;\n",
       "    }\n",
       "</style>\n",
       "<table border=\"1\" class=\"dataframe\">\n",
       "  <thead>\n",
       "    <tr style=\"text-align: right;\">\n",
       "      <th></th>\n",
       "      <th>id</th>\n",
       "      <th>username</th>\n",
       "      <th>tweet</th>\n",
       "      <th>hashtags</th>\n",
       "      <th>date</th>\n",
       "      <th>day</th>\n",
       "      <th>nlikes</th>\n",
       "      <th>nretweets</th>\n",
       "      <th>sentiment_score</th>\n",
       "    </tr>\n",
       "  </thead>\n",
       "  <tbody>\n",
       "    <tr>\n",
       "      <th>0</th>\n",
       "      <td>1154070862536028161</td>\n",
       "      <td>maksimmerili</td>\n",
       "      <td>Long/Short Bitcoin &amp; altcoin volatility with u...</td>\n",
       "      <td>[]</td>\n",
       "      <td>2019-07-24 12:48:29</td>\n",
       "      <td>5</td>\n",
       "      <td>0</td>\n",
       "      <td>0</td>\n",
       "      <td>0.4184</td>\n",
       "    </tr>\n",
       "    <tr>\n",
       "      <th>1</th>\n",
       "      <td>1154070855380623360</td>\n",
       "      <td>RadsickTrrance</td>\n",
       "      <td>#Bitcoin Price Shuns Volatility as Analysts Wa...</td>\n",
       "      <td>[#bitcoin, #crypto]</td>\n",
       "      <td>2019-07-24 12:48:28</td>\n",
       "      <td>5</td>\n",
       "      <td>0</td>\n",
       "      <td>0</td>\n",
       "      <td>-0.3612</td>\n",
       "    </tr>\n",
       "  </tbody>\n",
       "</table>\n",
       "</div>"
      ],
      "text/plain": [
       "                    id        username  \\\n",
       "0  1154070862536028161    maksimmerili   \n",
       "1  1154070855380623360  RadsickTrrance   \n",
       "\n",
       "                                               tweet             hashtags  \\\n",
       "0  Long/Short Bitcoin & altcoin volatility with u...                   []   \n",
       "1  #Bitcoin Price Shuns Volatility as Analysts Wa...  [#bitcoin, #crypto]   \n",
       "\n",
       "                  date  day  nlikes  nretweets  sentiment_score  \n",
       "0  2019-07-24 12:48:29    5       0          0           0.4184  \n",
       "1  2019-07-24 12:48:28    5       0          0          -0.3612  "
      ]
     },
     "execution_count": 44,
     "metadata": {},
     "output_type": "execute_result"
    }
   ],
   "source": [
    "bitcoin_total_score = overall_sentiment(bitcoin_tweets)\n",
    "print(f'The overall sentiment score for the \"Bitcoin\" related set of tweets is: {bitcoin_total_score}')\n",
    "bitcoin_tweets.head(2)"
   ]
  },
  {
   "cell_type": "markdown",
   "metadata": {},
   "source": [
    "> People are currently pretty neutral on Bitcoin, not surprising."
   ]
  },
  {
   "cell_type": "code",
   "execution_count": 48,
   "metadata": {},
   "outputs": [
    {
     "name": "stdout",
     "output_type": "stream",
     "text": [
      "The overall sentiment score for the \"Adidas\" related set of tweets is: 0.12\n"
     ]
    },
    {
     "data": {
      "text/html": [
       "<div>\n",
       "<style scoped>\n",
       "    .dataframe tbody tr th:only-of-type {\n",
       "        vertical-align: middle;\n",
       "    }\n",
       "\n",
       "    .dataframe tbody tr th {\n",
       "        vertical-align: top;\n",
       "    }\n",
       "\n",
       "    .dataframe thead th {\n",
       "        text-align: right;\n",
       "    }\n",
       "</style>\n",
       "<table border=\"1\" class=\"dataframe\">\n",
       "  <thead>\n",
       "    <tr style=\"text-align: right;\">\n",
       "      <th></th>\n",
       "      <th>id</th>\n",
       "      <th>username</th>\n",
       "      <th>tweet</th>\n",
       "      <th>hashtags</th>\n",
       "      <th>date</th>\n",
       "      <th>day</th>\n",
       "      <th>nlikes</th>\n",
       "      <th>nretweets</th>\n",
       "      <th>sentiment_score</th>\n",
       "    </tr>\n",
       "  </thead>\n",
       "  <tbody>\n",
       "    <tr>\n",
       "      <th>0</th>\n",
       "      <td>1154072907297054720</td>\n",
       "      <td>swerve1973</td>\n",
       "      <td>Classy combo! I had a Raleigh Burner and Adida...</td>\n",
       "      <td>[]</td>\n",
       "      <td>2019-07-24 12:56:37</td>\n",
       "      <td>3</td>\n",
       "      <td>0</td>\n",
       "      <td>0</td>\n",
       "      <td>0.4926</td>\n",
       "    </tr>\n",
       "    <tr>\n",
       "      <th>1</th>\n",
       "      <td>1154072900816662528</td>\n",
       "      <td>RoopGautam</td>\n",
       "      <td>कभी नंगे पैर दौड़ना पड़ता था, क्योंकि जूते खरी...</td>\n",
       "      <td>[]</td>\n",
       "      <td>2019-07-24 12:56:35</td>\n",
       "      <td>3</td>\n",
       "      <td>1</td>\n",
       "      <td>0</td>\n",
       "      <td>0.0000</td>\n",
       "    </tr>\n",
       "  </tbody>\n",
       "</table>\n",
       "</div>"
      ],
      "text/plain": [
       "                    id    username  \\\n",
       "0  1154072907297054720  swerve1973   \n",
       "1  1154072900816662528  RoopGautam   \n",
       "\n",
       "                                               tweet hashtags  \\\n",
       "0  Classy combo! I had a Raleigh Burner and Adida...       []   \n",
       "1  कभी नंगे पैर दौड़ना पड़ता था, क्योंकि जूते खरी...       []   \n",
       "\n",
       "                  date  day  nlikes  nretweets  sentiment_score  \n",
       "0  2019-07-24 12:56:37    3       0          0           0.4926  \n",
       "1  2019-07-24 12:56:35    3       1          0           0.0000  "
      ]
     },
     "execution_count": 48,
     "metadata": {},
     "output_type": "execute_result"
    }
   ],
   "source": [
    "adidas_total_score = overall_sentiment(adidas_tweets)\n",
    "print(f'The overall sentiment score for the \"Adidas\" related set of tweets is: {adidas_total_score}')\n",
    "adidas_tweets.head(2)"
   ]
  },
  {
   "cell_type": "markdown",
   "metadata": {},
   "source": [
    "> Notice how a foreign language gives us a sentiment score of 0 (neutral, but this ruins our averages!)  \n",
    "> What if the foreign language contained characters from the English alphabet?  how would our scores be affected?"
   ]
  },
  {
   "cell_type": "code",
   "execution_count": 51,
   "metadata": {},
   "outputs": [
    {
     "name": "stdout",
     "output_type": "stream",
     "text": [
      "The overall sentiment score for the \"Nike\" related set of tweets is: 0.07\n"
     ]
    },
    {
     "data": {
      "text/html": [
       "<div>\n",
       "<style scoped>\n",
       "    .dataframe tbody tr th:only-of-type {\n",
       "        vertical-align: middle;\n",
       "    }\n",
       "\n",
       "    .dataframe tbody tr th {\n",
       "        vertical-align: top;\n",
       "    }\n",
       "\n",
       "    .dataframe thead th {\n",
       "        text-align: right;\n",
       "    }\n",
       "</style>\n",
       "<table border=\"1\" class=\"dataframe\">\n",
       "  <thead>\n",
       "    <tr style=\"text-align: right;\">\n",
       "      <th></th>\n",
       "      <th>id</th>\n",
       "      <th>username</th>\n",
       "      <th>tweet</th>\n",
       "      <th>hashtags</th>\n",
       "      <th>date</th>\n",
       "      <th>day</th>\n",
       "      <th>nlikes</th>\n",
       "      <th>nretweets</th>\n",
       "      <th>sentiment_score</th>\n",
       "    </tr>\n",
       "  </thead>\n",
       "  <tbody>\n",
       "    <tr>\n",
       "      <th>0</th>\n",
       "      <td>1154077508133933058</td>\n",
       "      <td>twanAthon</td>\n",
       "      <td>I’m glad he went to Jordan. That speaks volume...</td>\n",
       "      <td>[]</td>\n",
       "      <td>2019-07-24 13:14:54</td>\n",
       "      <td>2</td>\n",
       "      <td>0</td>\n",
       "      <td>0</td>\n",
       "      <td>0.7096</td>\n",
       "    </tr>\n",
       "    <tr>\n",
       "      <th>1</th>\n",
       "      <td>1154077437912866818</td>\n",
       "      <td>crackyspen</td>\n",
       "      <td>2009 Polo Jeans Perfect Circle/Godspeed The St...</td>\n",
       "      <td>[]</td>\n",
       "      <td>2019-07-24 13:14:37</td>\n",
       "      <td>2</td>\n",
       "      <td>0</td>\n",
       "      <td>0</td>\n",
       "      <td>0.9396</td>\n",
       "    </tr>\n",
       "  </tbody>\n",
       "</table>\n",
       "</div>"
      ],
      "text/plain": [
       "                    id    username  \\\n",
       "0  1154077508133933058   twanAthon   \n",
       "1  1154077437912866818  crackyspen   \n",
       "\n",
       "                                               tweet hashtags  \\\n",
       "0  I’m glad he went to Jordan. That speaks volume...       []   \n",
       "1  2009 Polo Jeans Perfect Circle/Godspeed The St...       []   \n",
       "\n",
       "                  date  day  nlikes  nretweets  sentiment_score  \n",
       "0  2019-07-24 13:14:54    2       0          0           0.7096  \n",
       "1  2019-07-24 13:14:37    2       0          0           0.9396  "
      ]
     },
     "execution_count": 51,
     "metadata": {},
     "output_type": "execute_result"
    }
   ],
   "source": [
    "nike_total_score = overall_sentiment(nike_tweets)\n",
    "print(f'The overall sentiment score for the \"Nike\" related set of tweets is: {nike_total_score}')\n",
    "nike_tweets.head(2)"
   ]
  },
  {
   "cell_type": "markdown",
   "metadata": {},
   "source": [
    "> Adidas currently trumps Nike! Whaaaaaat?? look at Nike's first two sentiment scores\n",
    "\n",
    "Though averaging the entire dataset may have played a true role in this, we're still pretty skeptical that Adidas had better sentiment ratings than Nike.  We can also see that all of our overall scores are pretty neutral... This is where Data Cleaning and preparing our tweets to be analyzed for sentiment will play a big role.  Additionally, the popularity of a tweet should be taken into account, tweets with a large number of 'likes' and many retweets should have a stronger effect on our overall score.  We will tackle this shortly.  \n",
    "\n",
    "For now, let's understand that we will these sentiment scores to individually classify tweets into 5 classes:  \n",
    "  \n",
    "- 0 = negative\t\n",
    "- 1 = neutral_negative\t\t\n",
    "- 2 = neutral\t\t\n",
    "- 3 = neutral_positive\t\n",
    "- 4 = positive    \n",
    "\n",
    "  \n",
    "The scores will aslo be averaged per day, month, and year for trend visualizaiton purposes and for our Time Series analysis.  \n",
    "We should aggregate and organize our tweet data accordingly"
   ]
  },
  {
   "cell_type": "code",
   "execution_count": null,
   "metadata": {},
   "outputs": [],
   "source": [
    "# how can we take into account an average score for the day as well as the whole month\n",
    "# we will want to visualize sentiment trends day by day as well as month by month over the year+"
   ]
  },
  {
   "cell_type": "markdown",
   "metadata": {},
   "source": [
    "### Real Data\n",
    "Let's note that before we apply Vader to our real data, there are multiple things we have to consider.  \n",
    "Firsly, a considerable amount of data cleaning needs to be done on the tweets for the sentiment scores to be accurate and valuable.  In our example above, some tweets remain in foreign languages, so those sentiment scores are actually null to us, yet they still affect the overall average of compound score.  Additionally, some special characters may be throwing off the NLP implementation within Vader, and should be removed.  \n",
    "\n",
    "Moving forward, we will keep these considerations and many more in mind, and generate the most accurate possible sentiment scores we can.  We will begin by aggragating our real data, keeping in mind our date ranges so to represent real time-linear data for our Time Series analysis.  We will then continue to Data Cleaning, and make sure our tweets are in perfect form before moving on to analysing sentiment with Vader. "
   ]
  },
  {
   "cell_type": "code",
   "execution_count": null,
   "metadata": {},
   "outputs": [],
   "source": []
  },
  {
   "cell_type": "code",
   "execution_count": null,
   "metadata": {},
   "outputs": [],
   "source": []
  },
  {
   "cell_type": "markdown",
   "metadata": {},
   "source": [
    "# 3 . Real Data Aggregation"
   ]
  },
  {
   "cell_type": "markdown",
   "metadata": {},
   "source": [
    "We will now scrape Twitter for targeted tweets dating back to 2017 (2 and 1/2 + years in total).  We want these tweets aggragated monthly, and we will save each month of tweets in its own .json file inside our twitter_dataset directory.  We will then concactenate this data into a single dataframe for each topic/brand, representing the topic/brands' entire \"recent\" public Twitter data."
   ]
  },
  {
   "cell_type": "markdown",
   "metadata": {},
   "source": [
    "> We want popular and significant tweets - let's keep that in mind when scraping as well as when evaluating sentiment"
   ]
  },
  {
   "cell_type": "markdown",
   "metadata": {},
   "source": [
    "> So ...  \n",
    "- We will set TWINT's 'popular-tweets' option to True in order to retrieve only popular tweets  \n",
    "- We will also use TWINT's 'lang' option to make sure we only retrieve tweets that are in English  \n",
    "-  Finally, we will set 'since' amd 'until' to the approriate dates to retrive our tweets in a monthly fashion  "
   ]
  },
  {
   "cell_type": "code",
   "execution_count": null,
   "metadata": {},
   "outputs": [],
   "source": []
  },
  {
   "cell_type": "code",
   "execution_count": null,
   "metadata": {},
   "outputs": [],
   "source": []
  },
  {
   "cell_type": "code",
   "execution_count": 17,
   "metadata": {},
   "outputs": [
    {
     "data": {
      "text/plain": [
       "[(datetime.datetime(2017, 1, 1, 0, 0), datetime.datetime(2017, 1, 31, 0, 0)),\n",
       " (datetime.datetime(2017, 2, 1, 0, 0), datetime.datetime(2017, 2, 28, 0, 0)),\n",
       " (datetime.datetime(2017, 3, 1, 0, 0), datetime.datetime(2017, 3, 31, 0, 0)),\n",
       " (datetime.datetime(2017, 4, 1, 0, 0), datetime.datetime(2017, 4, 30, 0, 0)),\n",
       " (datetime.datetime(2017, 5, 1, 0, 0), datetime.datetime(2017, 5, 31, 0, 0)),\n",
       " (datetime.datetime(2017, 6, 1, 0, 0), datetime.datetime(2017, 6, 30, 0, 0)),\n",
       " (datetime.datetime(2017, 7, 1, 0, 0), datetime.datetime(2017, 7, 31, 0, 0)),\n",
       " (datetime.datetime(2017, 8, 1, 0, 0), datetime.datetime(2017, 8, 31, 0, 0)),\n",
       " (datetime.datetime(2017, 9, 1, 0, 0), datetime.datetime(2017, 9, 30, 0, 0)),\n",
       " (datetime.datetime(2017, 10, 1, 0, 0), datetime.datetime(2017, 10, 31, 0, 0)),\n",
       " (datetime.datetime(2017, 11, 1, 0, 0), datetime.datetime(2017, 11, 30, 0, 0)),\n",
       " (datetime.datetime(2017, 12, 1, 0, 0), datetime.datetime(2017, 12, 31, 0, 0)),\n",
       " (datetime.datetime(2018, 1, 1, 0, 0), datetime.datetime(2018, 1, 31, 0, 0)),\n",
       " (datetime.datetime(2018, 2, 1, 0, 0), datetime.datetime(2018, 2, 28, 0, 0)),\n",
       " (datetime.datetime(2018, 3, 1, 0, 0), datetime.datetime(2018, 3, 31, 0, 0)),\n",
       " (datetime.datetime(2018, 4, 1, 0, 0), datetime.datetime(2018, 4, 30, 0, 0)),\n",
       " (datetime.datetime(2018, 5, 1, 0, 0), datetime.datetime(2018, 5, 31, 0, 0)),\n",
       " (datetime.datetime(2018, 6, 1, 0, 0), datetime.datetime(2018, 6, 30, 0, 0)),\n",
       " (datetime.datetime(2018, 7, 1, 0, 0), datetime.datetime(2018, 7, 31, 0, 0)),\n",
       " (datetime.datetime(2018, 8, 1, 0, 0), datetime.datetime(2018, 8, 31, 0, 0)),\n",
       " (datetime.datetime(2018, 9, 1, 0, 0), datetime.datetime(2018, 9, 30, 0, 0)),\n",
       " (datetime.datetime(2018, 10, 1, 0, 0), datetime.datetime(2018, 10, 31, 0, 0)),\n",
       " (datetime.datetime(2018, 11, 1, 0, 0), datetime.datetime(2018, 11, 30, 0, 0)),\n",
       " (datetime.datetime(2018, 12, 1, 0, 0), datetime.datetime(2018, 12, 31, 0, 0)),\n",
       " (datetime.datetime(2019, 1, 1, 0, 0), datetime.datetime(2019, 1, 31, 0, 0)),\n",
       " (datetime.datetime(2019, 2, 1, 0, 0), datetime.datetime(2019, 2, 28, 0, 0)),\n",
       " (datetime.datetime(2019, 3, 1, 0, 0), datetime.datetime(2019, 3, 31, 0, 0)),\n",
       " (datetime.datetime(2019, 4, 1, 0, 0), datetime.datetime(2019, 4, 30, 0, 0)),\n",
       " (datetime.datetime(2019, 5, 1, 0, 0), datetime.datetime(2019, 5, 31, 0, 0)),\n",
       " (datetime.datetime(2019, 6, 1, 0, 0), datetime.datetime(2019, 6, 30, 0, 0)),\n",
       " (datetime.datetime(2019, 7, 1, 0, 0), datetime.datetime(2019, 7, 24, 0, 0))]"
      ]
     },
     "execution_count": 17,
     "metadata": {},
     "output_type": "execute_result"
    }
   ],
   "source": [
    "# slice our ~ 3 year time range into tuples of montlhy time ranges\n",
    "import datetime\n",
    "begin = '2017-01-01'\n",
    "end = '2019-7-24'\n",
    "month_ranges = []\n",
    "\n",
    "dt_start = datetime.datetime.strptime(begin, '%Y-%m-%d')\n",
    "dt_end = datetime.datetime.strptime(end, '%Y-%m-%d')\n",
    "one_day = datetime.timedelta(1)\n",
    "start_dates = [dt_start]\n",
    "end_dates = []\n",
    "today = dt_start\n",
    "\n",
    "while today <= dt_end:\n",
    "    #print(today)\n",
    "    tomorrow = today + one_day\n",
    "    if tomorrow.month != today.month:\n",
    "        start_dates.append(tomorrow)\n",
    "        end_dates.append(today)\n",
    "    today = tomorrow\n",
    "\n",
    "end_dates.append(dt_end)\n",
    "\n",
    "for start, end in zip(start_dates,end_dates):\n",
    "    month_ranges.append((start, end))\n",
    "    \n",
    "    \n",
    "month_ranges"
   ]
  },
  {
   "cell_type": "code",
   "execution_count": 18,
   "metadata": {},
   "outputs": [],
   "source": [
    "import json"
   ]
  },
  {
   "cell_type": "code",
   "execution_count": 19,
   "metadata": {},
   "outputs": [],
   "source": [
    "# let's rewrite our get_tweets function, i will serve as the index of the month_range tuple\n",
    "def get_real_data_tweets(search_term, i, limit=100):\n",
    "    \"\"\"\n",
    "    scrappes Twitter for tweets within the specified date range\n",
    "    makes sure month_ranges list is in memory and contains tuples of 2 dates ([0]=starting, [1]=ending)\n",
    "    pass in a search term, returns Pandas dataframe\n",
    "    \"\"\"\n",
    "    # real data mining\n",
    "    c = twint.Config()\n",
    "    c.Search = search_term\n",
    "    c.Limit = limit\n",
    "    c.Pandas = True\n",
    "    c.Pandas_clean = True\n",
    "    c.Lang = 'en'\n",
    "    c.Since = str(month_ranges[i][0])[:10]\n",
    "    c.Until = str(month_ranges[i][1])[:10]\n",
    "    c.Popular_tweets = True\n",
    "    c.Store_json = True\n",
    "\n",
    "    result_columns = ['id', 'username', 'tweet', 'hashtags', 'date', 'day', 'nlikes', 'nretweets']\n",
    "    with HiddenPrints():\n",
    "        print(twint.run.Search(c))\n",
    "    return twint.output.panda.Tweets_df[result_columns]"
   ]
  },
  {
   "cell_type": "code",
   "execution_count": 155,
   "metadata": {},
   "outputs": [
    {
     "name": "stderr",
     "output_type": "stream",
     "text": [
      "CRITICAL:root:twint.output:checkData:copyrightedTweet\n"
     ]
    },
    {
     "name": "stdout",
     "output_type": "stream",
     "text": [
      "(4294, 8)\n"
     ]
    },
    {
     "data": {
      "text/html": [
       "<div>\n",
       "<style scoped>\n",
       "    .dataframe tbody tr th:only-of-type {\n",
       "        vertical-align: middle;\n",
       "    }\n",
       "\n",
       "    .dataframe tbody tr th {\n",
       "        vertical-align: top;\n",
       "    }\n",
       "\n",
       "    .dataframe thead th {\n",
       "        text-align: right;\n",
       "    }\n",
       "</style>\n",
       "<table border=\"1\" class=\"dataframe\">\n",
       "  <thead>\n",
       "    <tr style=\"text-align: right;\">\n",
       "      <th></th>\n",
       "      <th>id</th>\n",
       "      <th>username</th>\n",
       "      <th>tweet</th>\n",
       "      <th>hashtags</th>\n",
       "      <th>date</th>\n",
       "      <th>day</th>\n",
       "      <th>nlikes</th>\n",
       "      <th>nretweets</th>\n",
       "    </tr>\n",
       "  </thead>\n",
       "  <tbody>\n",
       "    <tr>\n",
       "      <th>0</th>\n",
       "      <td>826218195908456449</td>\n",
       "      <td>coindesk</td>\n",
       "      <td>The latest Bitcoin Price Index is 920.09 USD  ...</td>\n",
       "      <td>[]</td>\n",
       "      <td>2017-01-30 18:59:02</td>\n",
       "      <td>5</td>\n",
       "      <td>19</td>\n",
       "      <td>20</td>\n",
       "    </tr>\n",
       "    <tr>\n",
       "      <th>1</th>\n",
       "      <td>826216967724007425</td>\n",
       "      <td>sharkybit</td>\n",
       "      <td>Blythe Masters said #Bitcoin is bad because yo...</td>\n",
       "      <td>[#bitcoin]</td>\n",
       "      <td>2017-01-30 18:54:10</td>\n",
       "      <td>1</td>\n",
       "      <td>31</td>\n",
       "      <td>15</td>\n",
       "    </tr>\n",
       "    <tr>\n",
       "      <th>2</th>\n",
       "      <td>826214708260765696</td>\n",
       "      <td>blockchain</td>\n",
       "      <td>A warning &amp; important message to users &amp; the #...</td>\n",
       "      <td>[#bitcoin]</td>\n",
       "      <td>2017-01-30 18:45:11</td>\n",
       "      <td>2</td>\n",
       "      <td>41</td>\n",
       "      <td>48</td>\n",
       "    </tr>\n",
       "    <tr>\n",
       "      <th>3</th>\n",
       "      <td>826214582045728768</td>\n",
       "      <td>Steven_McKie</td>\n",
       "      <td>Just had a really awesome interview with @bala...</td>\n",
       "      <td>[]</td>\n",
       "      <td>2017-01-30 18:44:41</td>\n",
       "      <td>2</td>\n",
       "      <td>21</td>\n",
       "      <td>6</td>\n",
       "    </tr>\n",
       "    <tr>\n",
       "      <th>4</th>\n",
       "      <td>826207612253458434</td>\n",
       "      <td>Xentagz</td>\n",
       "      <td>Stable #bitcoin price  pic.twitter.com/ZlSiY8jb5d</td>\n",
       "      <td>[#bitcoin]</td>\n",
       "      <td>2017-01-30 18:16:59</td>\n",
       "      <td>3</td>\n",
       "      <td>16</td>\n",
       "      <td>2</td>\n",
       "    </tr>\n",
       "  </tbody>\n",
       "</table>\n",
       "</div>"
      ],
      "text/plain": [
       "                   id      username  \\\n",
       "0  826218195908456449      coindesk   \n",
       "1  826216967724007425     sharkybit   \n",
       "2  826214708260765696    blockchain   \n",
       "3  826214582045728768  Steven_McKie   \n",
       "4  826207612253458434       Xentagz   \n",
       "\n",
       "                                               tweet    hashtags  \\\n",
       "0  The latest Bitcoin Price Index is 920.09 USD  ...          []   \n",
       "1  Blythe Masters said #Bitcoin is bad because yo...  [#bitcoin]   \n",
       "2  A warning & important message to users & the #...  [#bitcoin]   \n",
       "3  Just had a really awesome interview with @bala...          []   \n",
       "4  Stable #bitcoin price  pic.twitter.com/ZlSiY8jb5d  [#bitcoin]   \n",
       "\n",
       "                  date  day  nlikes  nretweets  \n",
       "0  2017-01-30 18:59:02    5      19         20  \n",
       "1  2017-01-30 18:54:10    1      31         15  \n",
       "2  2017-01-30 18:45:11    2      41         48  \n",
       "3  2017-01-30 18:44:41    2      21          6  \n",
       "4  2017-01-30 18:16:59    3      16          2  "
      ]
     },
     "execution_count": 155,
     "metadata": {},
     "output_type": "execute_result"
    }
   ],
   "source": [
    "# let's test it for one month\n",
    "january_2017_bitcoin_tweets = get_real_data_tweets('bitcoin', 0, limit=100000)\n",
    "print(january_2017_bitcoin_tweets.shape)\n",
    "january_2017_bitcoin_tweets.head()"
   ]
  },
  {
   "cell_type": "code",
   "execution_count": null,
   "metadata": {},
   "outputs": [],
   "source": []
  },
  {
   "cell_type": "code",
   "execution_count": null,
   "metadata": {},
   "outputs": [],
   "source": []
  },
  {
   "cell_type": "markdown",
   "metadata": {},
   "source": [
    "### Ok let's scrape our full recent Twitter dataset (~ 3 years) for \"bitcoin\", \"adidas\", and \"nike\""
   ]
  },
  {
   "cell_type": "code",
   "execution_count": 20,
   "metadata": {},
   "outputs": [],
   "source": [
    "def create_dataset(search_term):\n",
    "    \"\"\"\n",
    "    gets monthly .json files and dataframes for tweets dating back to January 2017\n",
    "    concats them into one large dataframe \n",
    "    please pass in a search term\n",
    "    \"\"\"    \n",
    "    dataframes={}\n",
    "    \n",
    "    for i, month in enumerate(month_ranges):\n",
    "        key = str(month[0])[:4] + '_' + str(month[0])[5:7] + '_' + search_term + '_tweets'\n",
    "        dataframes[key] = get_real_data_tweets(search_term, i,  limit=100000)\n",
    "        dataframes[key].sort_values(by=['date'], inplace=True, ascending=True)\n",
    "        dataframes[key].to_json(str(month[0])[:4] + '_' + str(month[0])[5:7] + '_' + search_term + '_tweets.json')\n",
    "        \n",
    "    df = pd.concat([v for v in dataframes.values()])\n",
    "    df.reset_index(inplace=True)\n",
    "    df.drop(['index'], axis=1, inplace=True)\n",
    "\n",
    "    print(df.shape)\n",
    "    return df, dataframes"
   ]
  },
  {
   "cell_type": "code",
   "execution_count": 21,
   "metadata": {},
   "outputs": [
    {
     "name": "stderr",
     "output_type": "stream",
     "text": [
      "CRITICAL:root:twint.output:checkData:copyrightedTweet\n",
      "CRITICAL:root:twint.output:checkData:copyrightedTweet\n",
      "CRITICAL:root:twint.output:checkData:copyrightedTweet\n"
     ]
    },
    {
     "name": "stdout",
     "output_type": "stream",
     "text": [
      "(285541, 8)\n"
     ]
    }
   ],
   "source": [
    "bitcoin_dataset, bitcoin_dataframes = create_dataset('bitcoin')"
   ]
  },
  {
   "cell_type": "code",
   "execution_count": 22,
   "metadata": {},
   "outputs": [
    {
     "data": {
      "text/html": [
       "<div>\n",
       "<style scoped>\n",
       "    .dataframe tbody tr th:only-of-type {\n",
       "        vertical-align: middle;\n",
       "    }\n",
       "\n",
       "    .dataframe tbody tr th {\n",
       "        vertical-align: top;\n",
       "    }\n",
       "\n",
       "    .dataframe thead th {\n",
       "        text-align: right;\n",
       "    }\n",
       "</style>\n",
       "<table border=\"1\" class=\"dataframe\">\n",
       "  <thead>\n",
       "    <tr style=\"text-align: right;\">\n",
       "      <th></th>\n",
       "      <th>id</th>\n",
       "      <th>username</th>\n",
       "      <th>tweet</th>\n",
       "      <th>hashtags</th>\n",
       "      <th>date</th>\n",
       "      <th>day</th>\n",
       "      <th>nlikes</th>\n",
       "      <th>nretweets</th>\n",
       "    </tr>\n",
       "  </thead>\n",
       "  <tbody>\n",
       "    <tr>\n",
       "      <th>0</th>\n",
       "      <td>815422325629796353</td>\n",
       "      <td>calestous</td>\n",
       "      <td>#Bitcoin Ends 2016 as the Top Currency as It N...</td>\n",
       "      <td>[#bitcoin]</td>\n",
       "      <td>2017-01-01 00:00:06</td>\n",
       "      <td>6</td>\n",
       "      <td>5</td>\n",
       "      <td>10</td>\n",
       "    </tr>\n",
       "    <tr>\n",
       "      <th>1</th>\n",
       "      <td>815423070919921664</td>\n",
       "      <td>Satoshi_N_</td>\n",
       "      <td>Happy New Year @Bitcoin.</td>\n",
       "      <td>[]</td>\n",
       "      <td>2017-01-01 00:03:04</td>\n",
       "      <td>1</td>\n",
       "      <td>44</td>\n",
       "      <td>18</td>\n",
       "    </tr>\n",
       "    <tr>\n",
       "      <th>2</th>\n",
       "      <td>815423326332088320</td>\n",
       "      <td>RedditBTC</td>\n",
       "      <td>\"It's a HUGE deal. It's a HUGE, HUGE, HUGE dea...</td>\n",
       "      <td>[]</td>\n",
       "      <td>2017-01-01 00:04:05</td>\n",
       "      <td>2</td>\n",
       "      <td>8</td>\n",
       "      <td>2</td>\n",
       "    </tr>\n",
       "    <tr>\n",
       "      <th>3</th>\n",
       "      <td>815425340420001792</td>\n",
       "      <td>TigoCTM</td>\n",
       "      <td>Crypto Currency  #Bitcoin #Dash #Crypto  http:...</td>\n",
       "      <td>[#bitcoin, #dash, #crypto]</td>\n",
       "      <td>2017-01-01 00:12:05</td>\n",
       "      <td>7</td>\n",
       "      <td>17</td>\n",
       "      <td>21</td>\n",
       "    </tr>\n",
       "    <tr>\n",
       "      <th>4</th>\n",
       "      <td>815426865561210880</td>\n",
       "      <td>DollarVigilante</td>\n",
       "      <td>Trends Generated By Jubilee 2016 Will Continue...</td>\n",
       "      <td>[#bitcoin, #investing]</td>\n",
       "      <td>2017-01-01 00:18:09</td>\n",
       "      <td>4</td>\n",
       "      <td>15</td>\n",
       "      <td>7</td>\n",
       "    </tr>\n",
       "  </tbody>\n",
       "</table>\n",
       "</div>"
      ],
      "text/plain": [
       "                   id         username  \\\n",
       "0  815422325629796353        calestous   \n",
       "1  815423070919921664       Satoshi_N_   \n",
       "2  815423326332088320        RedditBTC   \n",
       "3  815425340420001792          TigoCTM   \n",
       "4  815426865561210880  DollarVigilante   \n",
       "\n",
       "                                               tweet  \\\n",
       "0  #Bitcoin Ends 2016 as the Top Currency as It N...   \n",
       "1                           Happy New Year @Bitcoin.   \n",
       "2  \"It's a HUGE deal. It's a HUGE, HUGE, HUGE dea...   \n",
       "3  Crypto Currency  #Bitcoin #Dash #Crypto  http:...   \n",
       "4  Trends Generated By Jubilee 2016 Will Continue...   \n",
       "\n",
       "                     hashtags                 date  day  nlikes  nretweets  \n",
       "0                  [#bitcoin]  2017-01-01 00:00:06    6       5         10  \n",
       "1                          []  2017-01-01 00:03:04    1      44         18  \n",
       "2                          []  2017-01-01 00:04:05    2       8          2  \n",
       "3  [#bitcoin, #dash, #crypto]  2017-01-01 00:12:05    7      17         21  \n",
       "4      [#bitcoin, #investing]  2017-01-01 00:18:09    4      15          7  "
      ]
     },
     "execution_count": 22,
     "metadata": {},
     "output_type": "execute_result"
    }
   ],
   "source": [
    "bitcoin_dataset.head()"
   ]
  },
  {
   "cell_type": "code",
   "execution_count": 23,
   "metadata": {},
   "outputs": [
    {
     "data": {
      "text/html": [
       "<div>\n",
       "<style scoped>\n",
       "    .dataframe tbody tr th:only-of-type {\n",
       "        vertical-align: middle;\n",
       "    }\n",
       "\n",
       "    .dataframe tbody tr th {\n",
       "        vertical-align: top;\n",
       "    }\n",
       "\n",
       "    .dataframe thead th {\n",
       "        text-align: right;\n",
       "    }\n",
       "</style>\n",
       "<table border=\"1\" class=\"dataframe\">\n",
       "  <thead>\n",
       "    <tr style=\"text-align: right;\">\n",
       "      <th></th>\n",
       "      <th>id</th>\n",
       "      <th>username</th>\n",
       "      <th>tweet</th>\n",
       "      <th>hashtags</th>\n",
       "      <th>date</th>\n",
       "      <th>day</th>\n",
       "      <th>nlikes</th>\n",
       "      <th>nretweets</th>\n",
       "    </tr>\n",
       "  </thead>\n",
       "  <tbody>\n",
       "    <tr>\n",
       "      <th>285536</th>\n",
       "      <td>1153794367104012288</td>\n",
       "      <td>bobcatbsv</td>\n",
       "      <td>My bitcoin towel is getting a workout on holid...</td>\n",
       "      <td>[#bsv, #bitcoin]</td>\n",
       "      <td>2019-07-23 18:29:48</td>\n",
       "      <td>5</td>\n",
       "      <td>48</td>\n",
       "      <td>2</td>\n",
       "    </tr>\n",
       "    <tr>\n",
       "      <th>285537</th>\n",
       "      <td>1153810079981813761</td>\n",
       "      <td>TraderEscobar</td>\n",
       "      <td>$BTC   You will never see Bitcoin below 10k ag...</td>\n",
       "      <td>[]</td>\n",
       "      <td>2019-07-23 19:32:14</td>\n",
       "      <td>6</td>\n",
       "      <td>56</td>\n",
       "      <td>4</td>\n",
       "    </tr>\n",
       "    <tr>\n",
       "      <th>285538</th>\n",
       "      <td>1153810115331424257</td>\n",
       "      <td>parachutetoken</td>\n",
       "      <td>#ParJar is so pretty we had to give it a home ...</td>\n",
       "      <td>[#parjar, #cryptoforeveryone, #bitcoin, #litec...</td>\n",
       "      <td>2019-07-23 19:32:22</td>\n",
       "      <td>6</td>\n",
       "      <td>30</td>\n",
       "      <td>15</td>\n",
       "    </tr>\n",
       "    <tr>\n",
       "      <th>285539</th>\n",
       "      <td>1153813918906585089</td>\n",
       "      <td>StrictlyBidnazz</td>\n",
       "      <td>Respect the Bitcoin Marketing Team #Bitcoin #B...</td>\n",
       "      <td>[#bitcoin, #btc]</td>\n",
       "      <td>2019-07-23 19:47:29</td>\n",
       "      <td>3</td>\n",
       "      <td>120</td>\n",
       "      <td>24</td>\n",
       "    </tr>\n",
       "    <tr>\n",
       "      <th>285540</th>\n",
       "      <td>1153817057697226752</td>\n",
       "      <td>BigChonis</td>\n",
       "      <td>$BTC daily close below EMA50, spreading bear c...</td>\n",
       "      <td>[#bitcoin]</td>\n",
       "      <td>2019-07-23 19:59:58</td>\n",
       "      <td>4</td>\n",
       "      <td>100</td>\n",
       "      <td>9</td>\n",
       "    </tr>\n",
       "  </tbody>\n",
       "</table>\n",
       "</div>"
      ],
      "text/plain": [
       "                         id         username  \\\n",
       "285536  1153794367104012288        bobcatbsv   \n",
       "285537  1153810079981813761    TraderEscobar   \n",
       "285538  1153810115331424257   parachutetoken   \n",
       "285539  1153813918906585089  StrictlyBidnazz   \n",
       "285540  1153817057697226752        BigChonis   \n",
       "\n",
       "                                                    tweet  \\\n",
       "285536  My bitcoin towel is getting a workout on holid...   \n",
       "285537  $BTC   You will never see Bitcoin below 10k ag...   \n",
       "285538  #ParJar is so pretty we had to give it a home ...   \n",
       "285539  Respect the Bitcoin Marketing Team #Bitcoin #B...   \n",
       "285540  $BTC daily close below EMA50, spreading bear c...   \n",
       "\n",
       "                                                 hashtags  \\\n",
       "285536                                   [#bsv, #bitcoin]   \n",
       "285537                                                 []   \n",
       "285538  [#parjar, #cryptoforeveryone, #bitcoin, #litec...   \n",
       "285539                                   [#bitcoin, #btc]   \n",
       "285540                                         [#bitcoin]   \n",
       "\n",
       "                       date  day  nlikes  nretweets  \n",
       "285536  2019-07-23 18:29:48    5      48          2  \n",
       "285537  2019-07-23 19:32:14    6      56          4  \n",
       "285538  2019-07-23 19:32:22    6      30         15  \n",
       "285539  2019-07-23 19:47:29    3     120         24  \n",
       "285540  2019-07-23 19:59:58    4     100          9  "
      ]
     },
     "execution_count": 23,
     "metadata": {},
     "output_type": "execute_result"
    }
   ],
   "source": [
    "bitcoin_dataset.tail()"
   ]
  },
  {
   "cell_type": "code",
   "execution_count": 24,
   "metadata": {},
   "outputs": [
    {
     "data": {
      "text/plain": [
       "dict_keys(['2017_01_bitcoin_tweets', '2017_02_bitcoin_tweets', '2017_03_bitcoin_tweets', '2017_04_bitcoin_tweets', '2017_05_bitcoin_tweets', '2017_06_bitcoin_tweets', '2017_07_bitcoin_tweets', '2017_08_bitcoin_tweets', '2017_09_bitcoin_tweets', '2017_10_bitcoin_tweets', '2017_11_bitcoin_tweets', '2017_12_bitcoin_tweets', '2018_01_bitcoin_tweets', '2018_02_bitcoin_tweets', '2018_03_bitcoin_tweets', '2018_04_bitcoin_tweets', '2018_05_bitcoin_tweets', '2018_06_bitcoin_tweets', '2018_07_bitcoin_tweets', '2018_08_bitcoin_tweets', '2018_09_bitcoin_tweets', '2018_10_bitcoin_tweets', '2018_11_bitcoin_tweets', '2018_12_bitcoin_tweets', '2019_01_bitcoin_tweets', '2019_02_bitcoin_tweets', '2019_03_bitcoin_tweets', '2019_04_bitcoin_tweets', '2019_05_bitcoin_tweets', '2019_06_bitcoin_tweets', '2019_07_bitcoin_tweets'])"
      ]
     },
     "execution_count": 24,
     "metadata": {},
     "output_type": "execute_result"
    }
   ],
   "source": [
    "bitcoin_dataframes.keys()"
   ]
  },
  {
   "cell_type": "markdown",
   "metadata": {},
   "source": [
    "### Perfect!  \n",
    "- We now have a dataset of strictly popular bitcoin tweets that is timed linearly dating back to January 1st 2017.  \n",
    "- We've also saved each month of the tweets in its own .json file.    \n",
    "- Be sure to manually move the jason files to their appropriate directory"
   ]
  },
  {
   "cell_type": "code",
   "execution_count": null,
   "metadata": {},
   "outputs": [],
   "source": []
  },
  {
   "cell_type": "markdown",
   "metadata": {},
   "source": [
    "### Let's now do the same for Adidas and Nike  "
   ]
  },
  {
   "cell_type": "code",
   "execution_count": 25,
   "metadata": {},
   "outputs": [
    {
     "name": "stderr",
     "output_type": "stream",
     "text": [
      "CRITICAL:root:twint.output:checkData:copyrightedTweet\n"
     ]
    },
    {
     "name": "stdout",
     "output_type": "stream",
     "text": [
      "(59219, 8)\n"
     ]
    }
   ],
   "source": [
    "adidas_dataset, adidas_dataframes = create_dataset('adidas')"
   ]
  },
  {
   "cell_type": "code",
   "execution_count": 26,
   "metadata": {},
   "outputs": [
    {
     "data": {
      "text/html": [
       "<div>\n",
       "<style scoped>\n",
       "    .dataframe tbody tr th:only-of-type {\n",
       "        vertical-align: middle;\n",
       "    }\n",
       "\n",
       "    .dataframe tbody tr th {\n",
       "        vertical-align: top;\n",
       "    }\n",
       "\n",
       "    .dataframe thead th {\n",
       "        text-align: right;\n",
       "    }\n",
       "</style>\n",
       "<table border=\"1\" class=\"dataframe\">\n",
       "  <thead>\n",
       "    <tr style=\"text-align: right;\">\n",
       "      <th></th>\n",
       "      <th>id</th>\n",
       "      <th>username</th>\n",
       "      <th>tweet</th>\n",
       "      <th>hashtags</th>\n",
       "      <th>date</th>\n",
       "      <th>day</th>\n",
       "      <th>nlikes</th>\n",
       "      <th>nretweets</th>\n",
       "    </tr>\n",
       "  </thead>\n",
       "  <tbody>\n",
       "    <tr>\n",
       "      <th>0</th>\n",
       "      <td>815465043437506564</td>\n",
       "      <td>pure_market</td>\n",
       "      <td>We are giving away a pair of #YEEZYBOOST350V2 ...</td>\n",
       "      <td>[#yeezyboost350v2, #firstneverfollows]</td>\n",
       "      <td>2017-01-01 02:49:51</td>\n",
       "      <td>5</td>\n",
       "      <td>45</td>\n",
       "      <td>10</td>\n",
       "    </tr>\n",
       "    <tr>\n",
       "      <th>1</th>\n",
       "      <td>815482711343333376</td>\n",
       "      <td>adidas</td>\n",
       "      <td>1/365. Don't wish for results, get out there a...</td>\n",
       "      <td>[#heretocreate]</td>\n",
       "      <td>2017-01-01 04:00:03</td>\n",
       "      <td>4</td>\n",
       "      <td>884</td>\n",
       "      <td>236</td>\n",
       "    </tr>\n",
       "    <tr>\n",
       "      <th>2</th>\n",
       "      <td>815507853628866560</td>\n",
       "      <td>briaclew</td>\n",
       "      <td>New Journey for @TTOlympic . After years of wo...</td>\n",
       "      <td>[#teamtto]</td>\n",
       "      <td>2017-01-01 05:39:58</td>\n",
       "      <td>4</td>\n",
       "      <td>10</td>\n",
       "      <td>8</td>\n",
       "    </tr>\n",
       "    <tr>\n",
       "      <th>3</th>\n",
       "      <td>815543221682114560</td>\n",
       "      <td>adidasalerts</td>\n",
       "      <td>Now available on #adidas US. adidas January Ne...</td>\n",
       "      <td>[#adidas]</td>\n",
       "      <td>2017-01-01 08:00:30</td>\n",
       "      <td>3</td>\n",
       "      <td>93</td>\n",
       "      <td>15</td>\n",
       "    </tr>\n",
       "    <tr>\n",
       "      <th>4</th>\n",
       "      <td>815543248403898368</td>\n",
       "      <td>SneakerNews</td>\n",
       "      <td>We expect big things from the adidas adiZero P...</td>\n",
       "      <td>[]</td>\n",
       "      <td>2017-01-01 08:00:37</td>\n",
       "      <td>3</td>\n",
       "      <td>110</td>\n",
       "      <td>13</td>\n",
       "    </tr>\n",
       "  </tbody>\n",
       "</table>\n",
       "</div>"
      ],
      "text/plain": [
       "                   id      username  \\\n",
       "0  815465043437506564   pure_market   \n",
       "1  815482711343333376        adidas   \n",
       "2  815507853628866560      briaclew   \n",
       "3  815543221682114560  adidasalerts   \n",
       "4  815543248403898368   SneakerNews   \n",
       "\n",
       "                                               tweet  \\\n",
       "0  We are giving away a pair of #YEEZYBOOST350V2 ...   \n",
       "1  1/365. Don't wish for results, get out there a...   \n",
       "2  New Journey for @TTOlympic . After years of wo...   \n",
       "3  Now available on #adidas US. adidas January Ne...   \n",
       "4  We expect big things from the adidas adiZero P...   \n",
       "\n",
       "                                 hashtags                 date  day  nlikes  \\\n",
       "0  [#yeezyboost350v2, #firstneverfollows]  2017-01-01 02:49:51    5      45   \n",
       "1                         [#heretocreate]  2017-01-01 04:00:03    4     884   \n",
       "2                              [#teamtto]  2017-01-01 05:39:58    4      10   \n",
       "3                               [#adidas]  2017-01-01 08:00:30    3      93   \n",
       "4                                      []  2017-01-01 08:00:37    3     110   \n",
       "\n",
       "   nretweets  \n",
       "0         10  \n",
       "1        236  \n",
       "2          8  \n",
       "3         15  \n",
       "4         13  "
      ]
     },
     "execution_count": 26,
     "metadata": {},
     "output_type": "execute_result"
    }
   ],
   "source": [
    "adidas_dataset.head()"
   ]
  },
  {
   "cell_type": "code",
   "execution_count": 27,
   "metadata": {},
   "outputs": [
    {
     "data": {
      "text/html": [
       "<div>\n",
       "<style scoped>\n",
       "    .dataframe tbody tr th:only-of-type {\n",
       "        vertical-align: middle;\n",
       "    }\n",
       "\n",
       "    .dataframe tbody tr th {\n",
       "        vertical-align: top;\n",
       "    }\n",
       "\n",
       "    .dataframe thead th {\n",
       "        text-align: right;\n",
       "    }\n",
       "</style>\n",
       "<table border=\"1\" class=\"dataframe\">\n",
       "  <thead>\n",
       "    <tr style=\"text-align: right;\">\n",
       "      <th></th>\n",
       "      <th>id</th>\n",
       "      <th>username</th>\n",
       "      <th>tweet</th>\n",
       "      <th>hashtags</th>\n",
       "      <th>date</th>\n",
       "      <th>day</th>\n",
       "      <th>nlikes</th>\n",
       "      <th>nretweets</th>\n",
       "    </tr>\n",
       "  </thead>\n",
       "  <tbody>\n",
       "    <tr>\n",
       "      <th>59214</th>\n",
       "      <td>1153709593404592134</td>\n",
       "      <td>itsabiodun1</td>\n",
       "      <td>Guys, Nike or Adidas? 😋  pic.twitter.com/E78yn...</td>\n",
       "      <td>[]</td>\n",
       "      <td>2019-07-23 12:52:56</td>\n",
       "      <td>2</td>\n",
       "      <td>1499</td>\n",
       "      <td>131</td>\n",
       "    </tr>\n",
       "    <tr>\n",
       "      <th>59215</th>\n",
       "      <td>1153756053231685633</td>\n",
       "      <td>ayemrdee</td>\n",
       "      <td>I’ll wear Adidas shorts and Nike shoes and wha...</td>\n",
       "      <td>[]</td>\n",
       "      <td>2019-07-23 15:57:33</td>\n",
       "      <td>4</td>\n",
       "      <td>233</td>\n",
       "      <td>63</td>\n",
       "    </tr>\n",
       "    <tr>\n",
       "      <th>59216</th>\n",
       "      <td>1153760730296016897</td>\n",
       "      <td>ZartonkMedia</td>\n",
       "      <td>Arsenal Midfielder Henrikh Mkhitaryan speaks A...</td>\n",
       "      <td>[]</td>\n",
       "      <td>2019-07-23 16:16:08</td>\n",
       "      <td>3</td>\n",
       "      <td>792</td>\n",
       "      <td>349</td>\n",
       "    </tr>\n",
       "    <tr>\n",
       "      <th>59217</th>\n",
       "      <td>1153797032596819968</td>\n",
       "      <td>Anna98626768</td>\n",
       "      <td>Introducing the adidas Yeezy Boost 700 \"Teal B...</td>\n",
       "      <td>[]</td>\n",
       "      <td>2019-07-23 18:40:23</td>\n",
       "      <td>5</td>\n",
       "      <td>5</td>\n",
       "      <td>2</td>\n",
       "    </tr>\n",
       "    <tr>\n",
       "      <th>59218</th>\n",
       "      <td>1153800371933872128</td>\n",
       "      <td>UniqueSportplus</td>\n",
       "      <td>Who Wins?  RT for Jordan Like for Adidas  pic....</td>\n",
       "      <td>[]</td>\n",
       "      <td>2019-07-23 18:53:39</td>\n",
       "      <td>7</td>\n",
       "      <td>1988</td>\n",
       "      <td>446</td>\n",
       "    </tr>\n",
       "  </tbody>\n",
       "</table>\n",
       "</div>"
      ],
      "text/plain": [
       "                        id         username  \\\n",
       "59214  1153709593404592134      itsabiodun1   \n",
       "59215  1153756053231685633         ayemrdee   \n",
       "59216  1153760730296016897     ZartonkMedia   \n",
       "59217  1153797032596819968     Anna98626768   \n",
       "59218  1153800371933872128  UniqueSportplus   \n",
       "\n",
       "                                                   tweet hashtags  \\\n",
       "59214  Guys, Nike or Adidas? 😋  pic.twitter.com/E78yn...       []   \n",
       "59215  I’ll wear Adidas shorts and Nike shoes and wha...       []   \n",
       "59216  Arsenal Midfielder Henrikh Mkhitaryan speaks A...       []   \n",
       "59217  Introducing the adidas Yeezy Boost 700 \"Teal B...       []   \n",
       "59218  Who Wins?  RT for Jordan Like for Adidas  pic....       []   \n",
       "\n",
       "                      date  day  nlikes  nretweets  \n",
       "59214  2019-07-23 12:52:56    2    1499        131  \n",
       "59215  2019-07-23 15:57:33    4     233         63  \n",
       "59216  2019-07-23 16:16:08    3     792        349  \n",
       "59217  2019-07-23 18:40:23    5       5          2  \n",
       "59218  2019-07-23 18:53:39    7    1988        446  "
      ]
     },
     "execution_count": 27,
     "metadata": {},
     "output_type": "execute_result"
    }
   ],
   "source": [
    "adidas_dataset.tail()"
   ]
  },
  {
   "cell_type": "code",
   "execution_count": 28,
   "metadata": {},
   "outputs": [
    {
     "data": {
      "text/plain": [
       "dict_keys(['2017_01_adidas_tweets', '2017_02_adidas_tweets', '2017_03_adidas_tweets', '2017_04_adidas_tweets', '2017_05_adidas_tweets', '2017_06_adidas_tweets', '2017_07_adidas_tweets', '2017_08_adidas_tweets', '2017_09_adidas_tweets', '2017_10_adidas_tweets', '2017_11_adidas_tweets', '2017_12_adidas_tweets', '2018_01_adidas_tweets', '2018_02_adidas_tweets', '2018_03_adidas_tweets', '2018_04_adidas_tweets', '2018_05_adidas_tweets', '2018_06_adidas_tweets', '2018_07_adidas_tweets', '2018_08_adidas_tweets', '2018_09_adidas_tweets', '2018_10_adidas_tweets', '2018_11_adidas_tweets', '2018_12_adidas_tweets', '2019_01_adidas_tweets', '2019_02_adidas_tweets', '2019_03_adidas_tweets', '2019_04_adidas_tweets', '2019_05_adidas_tweets', '2019_06_adidas_tweets', '2019_07_adidas_tweets'])"
      ]
     },
     "execution_count": 28,
     "metadata": {},
     "output_type": "execute_result"
    }
   ],
   "source": [
    "adidas_dataframes.keys()"
   ]
  },
  {
   "cell_type": "code",
   "execution_count": null,
   "metadata": {},
   "outputs": [],
   "source": []
  },
  {
   "cell_type": "code",
   "execution_count": 29,
   "metadata": {},
   "outputs": [
    {
     "name": "stderr",
     "output_type": "stream",
     "text": [
      "CRITICAL:root:twint.output:checkData:copyrightedTweet\n",
      "CRITICAL:root:twint.output:checkData:copyrightedTweet\n",
      "CRITICAL:root:twint.output:checkData:copyrightedTweet\n",
      "CRITICAL:root:twint.output:checkData:copyrightedTweet\n"
     ]
    },
    {
     "name": "stdout",
     "output_type": "stream",
     "text": [
      "(133574, 8)\n"
     ]
    }
   ],
   "source": [
    "nike_dataset, nike_dataframes = create_dataset('nike')"
   ]
  },
  {
   "cell_type": "code",
   "execution_count": 30,
   "metadata": {},
   "outputs": [
    {
     "data": {
      "text/html": [
       "<div>\n",
       "<style scoped>\n",
       "    .dataframe tbody tr th:only-of-type {\n",
       "        vertical-align: middle;\n",
       "    }\n",
       "\n",
       "    .dataframe tbody tr th {\n",
       "        vertical-align: top;\n",
       "    }\n",
       "\n",
       "    .dataframe thead th {\n",
       "        text-align: right;\n",
       "    }\n",
       "</style>\n",
       "<table border=\"1\" class=\"dataframe\">\n",
       "  <thead>\n",
       "    <tr style=\"text-align: right;\">\n",
       "      <th></th>\n",
       "      <th>id</th>\n",
       "      <th>username</th>\n",
       "      <th>tweet</th>\n",
       "      <th>hashtags</th>\n",
       "      <th>date</th>\n",
       "      <th>day</th>\n",
       "      <th>nlikes</th>\n",
       "      <th>nretweets</th>\n",
       "    </tr>\n",
       "  </thead>\n",
       "  <tbody>\n",
       "    <tr>\n",
       "      <th>0</th>\n",
       "      <td>815422357066092544</td>\n",
       "      <td>JDayGolf</td>\n",
       "      <td>Don't make a New Years resolution. #Justdoit @...</td>\n",
       "      <td>[#justdoit]</td>\n",
       "      <td>2017-01-01 00:00:14</td>\n",
       "      <td>6</td>\n",
       "      <td>518</td>\n",
       "      <td>81</td>\n",
       "    </tr>\n",
       "    <tr>\n",
       "      <th>1</th>\n",
       "      <td>815427354872999937</td>\n",
       "      <td>KicksDeals</td>\n",
       "      <td>'Pure Platinum' Nike Air Max BW Ultra Breathe ...</td>\n",
       "      <td>[]</td>\n",
       "      <td>2017-01-01 00:20:05</td>\n",
       "      <td>6</td>\n",
       "      <td>19</td>\n",
       "      <td>5</td>\n",
       "    </tr>\n",
       "    <tr>\n",
       "      <th>2</th>\n",
       "      <td>815432901516922880</td>\n",
       "      <td>Nine_Inch_Beef</td>\n",
       "      <td>basic bitches need to leave that nike hat in 2016</td>\n",
       "      <td>[]</td>\n",
       "      <td>2017-01-01 00:42:08</td>\n",
       "      <td>7</td>\n",
       "      <td>13</td>\n",
       "      <td>1</td>\n",
       "    </tr>\n",
       "    <tr>\n",
       "      <th>3</th>\n",
       "      <td>815433981940219904</td>\n",
       "      <td>CalStars</td>\n",
       "      <td>Co MVPs &amp; All Tourney.@evinawestbrook @aleahgo...</td>\n",
       "      <td>[#onetwostars]</td>\n",
       "      <td>2017-01-01 00:46:25</td>\n",
       "      <td>3</td>\n",
       "      <td>42</td>\n",
       "      <td>8</td>\n",
       "    </tr>\n",
       "    <tr>\n",
       "      <th>4</th>\n",
       "      <td>815434907388444672</td>\n",
       "      <td>KicksDeals</td>\n",
       "      <td>Nike Air Zoom Pegasus 92 in white/black-volt i...</td>\n",
       "      <td>[]</td>\n",
       "      <td>2017-01-01 00:50:06</td>\n",
       "      <td>5</td>\n",
       "      <td>16</td>\n",
       "      <td>3</td>\n",
       "    </tr>\n",
       "  </tbody>\n",
       "</table>\n",
       "</div>"
      ],
      "text/plain": [
       "                   id        username  \\\n",
       "0  815422357066092544        JDayGolf   \n",
       "1  815427354872999937      KicksDeals   \n",
       "2  815432901516922880  Nine_Inch_Beef   \n",
       "3  815433981940219904        CalStars   \n",
       "4  815434907388444672      KicksDeals   \n",
       "\n",
       "                                               tweet        hashtags  \\\n",
       "0  Don't make a New Years resolution. #Justdoit @...     [#justdoit]   \n",
       "1  'Pure Platinum' Nike Air Max BW Ultra Breathe ...              []   \n",
       "2  basic bitches need to leave that nike hat in 2016              []   \n",
       "3  Co MVPs & All Tourney.@evinawestbrook @aleahgo...  [#onetwostars]   \n",
       "4  Nike Air Zoom Pegasus 92 in white/black-volt i...              []   \n",
       "\n",
       "                  date  day  nlikes  nretweets  \n",
       "0  2017-01-01 00:00:14    6     518         81  \n",
       "1  2017-01-01 00:20:05    6      19          5  \n",
       "2  2017-01-01 00:42:08    7      13          1  \n",
       "3  2017-01-01 00:46:25    3      42          8  \n",
       "4  2017-01-01 00:50:06    5      16          3  "
      ]
     },
     "execution_count": 30,
     "metadata": {},
     "output_type": "execute_result"
    }
   ],
   "source": [
    "nike_dataset.head()"
   ]
  },
  {
   "cell_type": "code",
   "execution_count": 31,
   "metadata": {},
   "outputs": [
    {
     "data": {
      "text/html": [
       "<div>\n",
       "<style scoped>\n",
       "    .dataframe tbody tr th:only-of-type {\n",
       "        vertical-align: middle;\n",
       "    }\n",
       "\n",
       "    .dataframe tbody tr th {\n",
       "        vertical-align: top;\n",
       "    }\n",
       "\n",
       "    .dataframe thead th {\n",
       "        text-align: right;\n",
       "    }\n",
       "</style>\n",
       "<table border=\"1\" class=\"dataframe\">\n",
       "  <thead>\n",
       "    <tr style=\"text-align: right;\">\n",
       "      <th></th>\n",
       "      <th>id</th>\n",
       "      <th>username</th>\n",
       "      <th>tweet</th>\n",
       "      <th>hashtags</th>\n",
       "      <th>date</th>\n",
       "      <th>day</th>\n",
       "      <th>nlikes</th>\n",
       "      <th>nretweets</th>\n",
       "    </tr>\n",
       "  </thead>\n",
       "  <tbody>\n",
       "    <tr>\n",
       "      <th>133569</th>\n",
       "      <td>1153772746595340290</td>\n",
       "      <td>BDABASKETBALL</td>\n",
       "      <td>At the Nike National Championship in ATL  pic....</td>\n",
       "      <td>[]</td>\n",
       "      <td>2019-07-23 17:03:53</td>\n",
       "      <td>1</td>\n",
       "      <td>31</td>\n",
       "      <td>6</td>\n",
       "    </tr>\n",
       "    <tr>\n",
       "      <th>133570</th>\n",
       "      <td>1153782661455855617</td>\n",
       "      <td>robtfrank</td>\n",
       "      <td>The 1972 Nike Waffle Racing Flat ‘Moon Shoe’ s...</td>\n",
       "      <td>[#shoedog]</td>\n",
       "      <td>2019-07-23 17:43:17</td>\n",
       "      <td>7</td>\n",
       "      <td>469</td>\n",
       "      <td>107</td>\n",
       "    </tr>\n",
       "    <tr>\n",
       "      <th>133571</th>\n",
       "      <td>1153789409772261376</td>\n",
       "      <td>SneakerScouts</td>\n",
       "      <td>Release Date: Parra x Nike SB Dunk Low - July ...</td>\n",
       "      <td>[#sneakerscouts, #nikesb]</td>\n",
       "      <td>2019-07-23 18:10:06</td>\n",
       "      <td>5</td>\n",
       "      <td>30</td>\n",
       "      <td>14</td>\n",
       "    </tr>\n",
       "    <tr>\n",
       "      <th>133572</th>\n",
       "      <td>1153796369183674370</td>\n",
       "      <td>Anna98626768</td>\n",
       "      <td>The Nike KD 12 NRG has appeared in a crisp \"Wo...</td>\n",
       "      <td>[]</td>\n",
       "      <td>2019-07-23 18:37:45</td>\n",
       "      <td>3</td>\n",
       "      <td>4</td>\n",
       "      <td>2</td>\n",
       "    </tr>\n",
       "    <tr>\n",
       "      <th>133573</th>\n",
       "      <td>1153811473887453188</td>\n",
       "      <td>JGolden5</td>\n",
       "      <td>Nike’s 'Moon Shoe' sells for  $437,500 at Soth...</td>\n",
       "      <td>[]</td>\n",
       "      <td>2019-07-23 19:37:46</td>\n",
       "      <td>3</td>\n",
       "      <td>864</td>\n",
       "      <td>252</td>\n",
       "    </tr>\n",
       "  </tbody>\n",
       "</table>\n",
       "</div>"
      ],
      "text/plain": [
       "                         id       username  \\\n",
       "133569  1153772746595340290  BDABASKETBALL   \n",
       "133570  1153782661455855617      robtfrank   \n",
       "133571  1153789409772261376  SneakerScouts   \n",
       "133572  1153796369183674370   Anna98626768   \n",
       "133573  1153811473887453188       JGolden5   \n",
       "\n",
       "                                                    tweet  \\\n",
       "133569  At the Nike National Championship in ATL  pic....   \n",
       "133570  The 1972 Nike Waffle Racing Flat ‘Moon Shoe’ s...   \n",
       "133571  Release Date: Parra x Nike SB Dunk Low - July ...   \n",
       "133572  The Nike KD 12 NRG has appeared in a crisp \"Wo...   \n",
       "133573  Nike’s 'Moon Shoe' sells for  $437,500 at Soth...   \n",
       "\n",
       "                         hashtags                 date  day  nlikes  nretweets  \n",
       "133569                         []  2019-07-23 17:03:53    1      31          6  \n",
       "133570                 [#shoedog]  2019-07-23 17:43:17    7     469        107  \n",
       "133571  [#sneakerscouts, #nikesb]  2019-07-23 18:10:06    5      30         14  \n",
       "133572                         []  2019-07-23 18:37:45    3       4          2  \n",
       "133573                         []  2019-07-23 19:37:46    3     864        252  "
      ]
     },
     "execution_count": 31,
     "metadata": {},
     "output_type": "execute_result"
    }
   ],
   "source": [
    "nike_dataset.tail()"
   ]
  },
  {
   "cell_type": "code",
   "execution_count": 32,
   "metadata": {},
   "outputs": [
    {
     "data": {
      "text/plain": [
       "dict_keys(['2017_01_nike_tweets', '2017_02_nike_tweets', '2017_03_nike_tweets', '2017_04_nike_tweets', '2017_05_nike_tweets', '2017_06_nike_tweets', '2017_07_nike_tweets', '2017_08_nike_tweets', '2017_09_nike_tweets', '2017_10_nike_tweets', '2017_11_nike_tweets', '2017_12_nike_tweets', '2018_01_nike_tweets', '2018_02_nike_tweets', '2018_03_nike_tweets', '2018_04_nike_tweets', '2018_05_nike_tweets', '2018_06_nike_tweets', '2018_07_nike_tweets', '2018_08_nike_tweets', '2018_09_nike_tweets', '2018_10_nike_tweets', '2018_11_nike_tweets', '2018_12_nike_tweets', '2019_01_nike_tweets', '2019_02_nike_tweets', '2019_03_nike_tweets', '2019_04_nike_tweets', '2019_05_nike_tweets', '2019_06_nike_tweets', '2019_07_nike_tweets'])"
      ]
     },
     "execution_count": 32,
     "metadata": {},
     "output_type": "execute_result"
    }
   ],
   "source": [
    "nike_dataframes.keys()"
   ]
  },
  {
   "cell_type": "code",
   "execution_count": null,
   "metadata": {},
   "outputs": [],
   "source": []
  },
  {
   "cell_type": "code",
   "execution_count": null,
   "metadata": {},
   "outputs": [],
   "source": []
  },
  {
   "cell_type": "code",
   "execution_count": null,
   "metadata": {},
   "outputs": [],
   "source": []
  },
  {
   "cell_type": "code",
   "execution_count": null,
   "metadata": {},
   "outputs": [],
   "source": []
  },
  {
   "cell_type": "code",
   "execution_count": null,
   "metadata": {},
   "outputs": [],
   "source": []
  },
  {
   "cell_type": "code",
   "execution_count": null,
   "metadata": {},
   "outputs": [],
   "source": []
  },
  {
   "cell_type": "code",
   "execution_count": null,
   "metadata": {},
   "outputs": [],
   "source": []
  },
  {
   "cell_type": "code",
   "execution_count": null,
   "metadata": {},
   "outputs": [],
   "source": []
  },
  {
   "cell_type": "code",
   "execution_count": null,
   "metadata": {},
   "outputs": [],
   "source": []
  },
  {
   "cell_type": "code",
   "execution_count": null,
   "metadata": {},
   "outputs": [],
   "source": []
  },
  {
   "cell_type": "markdown",
   "metadata": {},
   "source": [
    "### The following function allows us to recreate our dataframes from the .json files in case of memory loss"
   ]
  },
  {
   "cell_type": "code",
   "execution_count": 15,
   "metadata": {},
   "outputs": [],
   "source": [
    "def recreate_dataframe(search_term):\n",
    "    \"\"\"\n",
    "    recreate full ~3 year dataset (df) and monthly dataframes dict from json files\n",
    "    make sure the search_term you pass in has a directory of the same name in the twitter_dataset folder\n",
    "    make sure json files inside that directory are appropriately named\n",
    "    \"\"\"\n",
    "    dataframes={}\n",
    "    \n",
    "    for i, month in enumerate(month_ranges):\n",
    "        #print(f'creating df no. {i+1}')\n",
    "        key = str(month[0])[:4] + '_' + str(month[0])[5:7] + '_' + search_term + '_tweets'\n",
    "        dataframes[key] = pd.read_json('twitter_dataset/' + search_term + '/' + key + '.json')\n",
    "        dataframes[key].sort_values(by=['date'], inplace=True, ascending=True)\n",
    "\n",
    "    df = pd.concat([v for v in dataframes.values()])\n",
    "    df.reset_index(inplace=True)\n",
    "    df.drop(['index'], axis=1, inplace=True)\n",
    "\n",
    "    print(df.shape)\n",
    "    return df, dataframes"
   ]
  },
  {
   "cell_type": "code",
   "execution_count": null,
   "metadata": {},
   "outputs": [],
   "source": []
  },
  {
   "cell_type": "markdown",
   "metadata": {},
   "source": [
    "## Some Quick EDA for NLP"
   ]
  },
  {
   "cell_type": "code",
   "execution_count": null,
   "metadata": {},
   "outputs": [],
   "source": []
  },
  {
   "cell_type": "code",
   "execution_count": null,
   "metadata": {},
   "outputs": [],
   "source": []
  },
  {
   "cell_type": "code",
   "execution_count": null,
   "metadata": {},
   "outputs": [],
   "source": []
  },
  {
   "cell_type": "code",
   "execution_count": null,
   "metadata": {},
   "outputs": [],
   "source": []
  },
  {
   "cell_type": "code",
   "execution_count": null,
   "metadata": {},
   "outputs": [],
   "source": []
  },
  {
   "cell_type": "code",
   "execution_count": null,
   "metadata": {},
   "outputs": [],
   "source": []
  },
  {
   "cell_type": "code",
   "execution_count": null,
   "metadata": {},
   "outputs": [],
   "source": []
  },
  {
   "cell_type": "code",
   "execution_count": null,
   "metadata": {},
   "outputs": [],
   "source": []
  },
  {
   "cell_type": "code",
   "execution_count": null,
   "metadata": {},
   "outputs": [],
   "source": []
  },
  {
   "cell_type": "markdown",
   "metadata": {},
   "source": [
    "# 4 . Data Cleaning"
   ]
  },
  {
   "cell_type": "code",
   "execution_count": null,
   "metadata": {},
   "outputs": [],
   "source": []
  },
  {
   "cell_type": "code",
   "execution_count": null,
   "metadata": {},
   "outputs": [],
   "source": []
  },
  {
   "cell_type": "code",
   "execution_count": null,
   "metadata": {},
   "outputs": [],
   "source": []
  },
  {
   "cell_type": "code",
   "execution_count": null,
   "metadata": {},
   "outputs": [],
   "source": []
  },
  {
   "cell_type": "code",
   "execution_count": null,
   "metadata": {},
   "outputs": [],
   "source": []
  },
  {
   "cell_type": "code",
   "execution_count": null,
   "metadata": {},
   "outputs": [],
   "source": []
  },
  {
   "cell_type": "code",
   "execution_count": null,
   "metadata": {},
   "outputs": [],
   "source": []
  },
  {
   "cell_type": "code",
   "execution_count": null,
   "metadata": {},
   "outputs": [],
   "source": []
  },
  {
   "cell_type": "code",
   "execution_count": null,
   "metadata": {},
   "outputs": [],
   "source": []
  },
  {
   "cell_type": "code",
   "execution_count": null,
   "metadata": {},
   "outputs": [],
   "source": []
  },
  {
   "cell_type": "markdown",
   "metadata": {},
   "source": [
    "# 5 . Implementing VaderSentiment"
   ]
  },
  {
   "cell_type": "markdown",
   "metadata": {},
   "source": [
    "> Let's use our function to get a sentiment score for each tweet and the overall sentiment average score each dataset "
   ]
  },
  {
   "cell_type": "code",
   "execution_count": 35,
   "metadata": {},
   "outputs": [
    {
     "data": {
      "text/plain": [
       "0.15"
      ]
     },
     "execution_count": 35,
     "metadata": {},
     "output_type": "execute_result"
    }
   ],
   "source": [
    "overall_sentiment(bitcoin_dataset)"
   ]
  },
  {
   "cell_type": "code",
   "execution_count": 33,
   "metadata": {},
   "outputs": [
    {
     "data": {
      "text/plain": [
       "0.23"
      ]
     },
     "execution_count": 33,
     "metadata": {},
     "output_type": "execute_result"
    }
   ],
   "source": [
    "overall_sentiment(adidas_dataset)"
   ]
  },
  {
   "cell_type": "code",
   "execution_count": 34,
   "metadata": {},
   "outputs": [
    {
     "data": {
      "text/plain": [
       "0.14"
      ]
     },
     "execution_count": 34,
     "metadata": {},
     "output_type": "execute_result"
    }
   ],
   "source": [
    "overall_sentiment(nike_dataset)"
   ]
  },
  {
   "cell_type": "code",
   "execution_count": null,
   "metadata": {},
   "outputs": [],
   "source": []
  },
  {
   "cell_type": "markdown",
   "metadata": {},
   "source": [
    "> Easy Peasy, now each dataset has a `sentiment_score` feature with the Vader compound score of the tweet as we explained earlier "
   ]
  },
  {
   "cell_type": "code",
   "execution_count": null,
   "metadata": {},
   "outputs": [],
   "source": []
  },
  {
   "cell_type": "code",
   "execution_count": null,
   "metadata": {},
   "outputs": [],
   "source": []
  },
  {
   "cell_type": "code",
   "execution_count": null,
   "metadata": {},
   "outputs": [],
   "source": []
  },
  {
   "cell_type": "markdown",
   "metadata": {},
   "source": [
    "# 6 . Visualizing Sentiment Distribution & Trends"
   ]
  },
  {
   "cell_type": "markdown",
   "metadata": {},
   "source": [
    "## Data prep for Times Series Modeling\n",
    "\n",
    "Our task being an uni-variate Time Series, we can now get rid of all other features since our real concern is simply time and the sentiment score.  \n",
    "\n",
    "We'll set the `date` feature as our index to analyze the `sentiment_score` over the period of time  \n",
    "Remember, times series data is observed by setting the index to be the date and time component of the data.\n",
    "\n",
    "Finally, We will downsample our data to be represented weelly, showing an average of compound sentiment score for the given week."
   ]
  },
  {
   "cell_type": "code",
   "execution_count": 128,
   "metadata": {},
   "outputs": [
    {
     "data": {
      "text/html": [
       "<div>\n",
       "<style scoped>\n",
       "    .dataframe tbody tr th:only-of-type {\n",
       "        vertical-align: middle;\n",
       "    }\n",
       "\n",
       "    .dataframe tbody tr th {\n",
       "        vertical-align: top;\n",
       "    }\n",
       "\n",
       "    .dataframe thead th {\n",
       "        text-align: right;\n",
       "    }\n",
       "</style>\n",
       "<table border=\"1\" class=\"dataframe\">\n",
       "  <thead>\n",
       "    <tr style=\"text-align: right;\">\n",
       "      <th></th>\n",
       "      <th>id</th>\n",
       "      <th>username</th>\n",
       "      <th>tweet</th>\n",
       "      <th>hashtags</th>\n",
       "      <th>date</th>\n",
       "      <th>day</th>\n",
       "      <th>nlikes</th>\n",
       "      <th>nretweets</th>\n",
       "      <th>sentiment_score</th>\n",
       "    </tr>\n",
       "  </thead>\n",
       "  <tbody>\n",
       "    <tr>\n",
       "      <th>0</th>\n",
       "      <td>815422357066092544</td>\n",
       "      <td>JDayGolf</td>\n",
       "      <td>Don't make a New Years resolution. #Justdoit @...</td>\n",
       "      <td>[#justdoit]</td>\n",
       "      <td>2017-01-01 00:00:14</td>\n",
       "      <td>6</td>\n",
       "      <td>518</td>\n",
       "      <td>81</td>\n",
       "      <td>0.0000</td>\n",
       "    </tr>\n",
       "    <tr>\n",
       "      <th>1</th>\n",
       "      <td>815427354872999937</td>\n",
       "      <td>KicksDeals</td>\n",
       "      <td>'Pure Platinum' Nike Air Max BW Ultra Breathe ...</td>\n",
       "      <td>[]</td>\n",
       "      <td>2017-01-01 00:20:05</td>\n",
       "      <td>6</td>\n",
       "      <td>19</td>\n",
       "      <td>5</td>\n",
       "      <td>0.0000</td>\n",
       "    </tr>\n",
       "    <tr>\n",
       "      <th>2</th>\n",
       "      <td>815432901516922880</td>\n",
       "      <td>Nine_Inch_Beef</td>\n",
       "      <td>basic bitches need to leave that nike hat in 2016</td>\n",
       "      <td>[]</td>\n",
       "      <td>2017-01-01 00:42:08</td>\n",
       "      <td>7</td>\n",
       "      <td>13</td>\n",
       "      <td>1</td>\n",
       "      <td>-0.6249</td>\n",
       "    </tr>\n",
       "    <tr>\n",
       "      <th>3</th>\n",
       "      <td>815433981940219904</td>\n",
       "      <td>CalStars</td>\n",
       "      <td>Co MVPs &amp; All Tourney.@evinawestbrook @aleahgo...</td>\n",
       "      <td>[#onetwostars]</td>\n",
       "      <td>2017-01-01 00:46:25</td>\n",
       "      <td>3</td>\n",
       "      <td>42</td>\n",
       "      <td>8</td>\n",
       "      <td>0.0000</td>\n",
       "    </tr>\n",
       "    <tr>\n",
       "      <th>4</th>\n",
       "      <td>815434907388444672</td>\n",
       "      <td>KicksDeals</td>\n",
       "      <td>Nike Air Zoom Pegasus 92 in white/black-volt i...</td>\n",
       "      <td>[]</td>\n",
       "      <td>2017-01-01 00:50:06</td>\n",
       "      <td>5</td>\n",
       "      <td>16</td>\n",
       "      <td>3</td>\n",
       "      <td>0.0000</td>\n",
       "    </tr>\n",
       "  </tbody>\n",
       "</table>\n",
       "</div>"
      ],
      "text/plain": [
       "                   id        username  \\\n",
       "0  815422357066092544        JDayGolf   \n",
       "1  815427354872999937      KicksDeals   \n",
       "2  815432901516922880  Nine_Inch_Beef   \n",
       "3  815433981940219904        CalStars   \n",
       "4  815434907388444672      KicksDeals   \n",
       "\n",
       "                                               tweet        hashtags  \\\n",
       "0  Don't make a New Years resolution. #Justdoit @...     [#justdoit]   \n",
       "1  'Pure Platinum' Nike Air Max BW Ultra Breathe ...              []   \n",
       "2  basic bitches need to leave that nike hat in 2016              []   \n",
       "3  Co MVPs & All Tourney.@evinawestbrook @aleahgo...  [#onetwostars]   \n",
       "4  Nike Air Zoom Pegasus 92 in white/black-volt i...              []   \n",
       "\n",
       "                 date  day  nlikes  nretweets  sentiment_score  \n",
       "0 2017-01-01 00:00:14    6     518         81           0.0000  \n",
       "1 2017-01-01 00:20:05    6      19          5           0.0000  \n",
       "2 2017-01-01 00:42:08    7      13          1          -0.6249  \n",
       "3 2017-01-01 00:46:25    3      42          8           0.0000  \n",
       "4 2017-01-01 00:50:06    5      16          3           0.0000  "
      ]
     },
     "execution_count": 128,
     "metadata": {},
     "output_type": "execute_result"
    }
   ],
   "source": [
    "nike_dataset.head()"
   ]
  },
  {
   "cell_type": "code",
   "execution_count": 127,
   "metadata": {},
   "outputs": [
    {
     "data": {
      "text/plain": [
       "\"'Pure Platinum' Nike Air Max BW Ultra Breathe is over 50% OFF at $62.99 + ship!  http://bit.ly/2i8O53T\\xa0 pic.twitter.com/4AjLLtwiFJ\""
      ]
     },
     "execution_count": 127,
     "metadata": {},
     "output_type": "execute_result"
    }
   ],
   "source": [
    "nike_dataset.loc[1].tweet"
   ]
  },
  {
   "cell_type": "code",
   "execution_count": null,
   "metadata": {},
   "outputs": [],
   "source": [
    "# drop pure neutrals - usually adds that have no substence to our public sentiment analysis \n",
    "# MinMax() scale - to expand sentiment range for better readability "
   ]
  },
  {
   "cell_type": "code",
   "execution_count": null,
   "metadata": {},
   "outputs": [],
   "source": []
  },
  {
   "cell_type": "code",
   "execution_count": 129,
   "metadata": {},
   "outputs": [],
   "source": [
    "def get_monthly_mean(df):\n",
    "    \"\"\"\n",
    "    Takes dataset as argument and returns montlhy mean of the sentiment score in a Times Series format\n",
    "    Prints out a visualization of the monthly sentiment score\n",
    "    \"\"\"\n",
    "    df.date = pd.to_datetime(df.date)\n",
    "    df_sentiment = df[['date', 'sentiment_score']]\n",
    "    df_sentiment.set_index('date', inplace=True)\n",
    "    df_sentiment = df_sentiment[df_sentiment['sentiment_score'] != 0]\n",
    "    temp_monthly= df_sentiment.resample('W-MON')\n",
    "    df_sentiment_montlhy = temp_monthly.mean()\n",
    "    df_sentiment_montlhy = df_sentiment_montlhy[df_sentiment_montlhy['sentiment_score'] != 0]\n",
    "    df_sentiment_montlhy.dropna(inplace=True)\n",
    "    df_sentiment_montlhy.sentiment_score.plot(figsize = (22,8))\n",
    "    plt.show()\n",
    "    \n",
    "    return df_sentiment_montlhy\n"
   ]
  },
  {
   "cell_type": "code",
   "execution_count": 130,
   "metadata": {},
   "outputs": [
    {
     "data": {
      "image/png": "[encoded data removed]",
      "text/plain": [
       "<Figure size 1584x576 with 1 Axes>"
      ]
     },
     "metadata": {
      "needs_background": "light"
     },
     "output_type": "display_data"
    }
   ],
   "source": [
    "bitcoin_sentiment_monthly = get_monthly_mean(bitcoin_dataset)"
   ]
  },
  {
   "cell_type": "markdown",
   "metadata": {},
   "source": [
    "> Bitcoin seems to be enjoying a strong rise in their Twitter sentiment since it hit the 5 figure price-point in the fall of 2017"
   ]
  },
  {
   "cell_type": "code",
   "execution_count": 131,
   "metadata": {},
   "outputs": [
    {
     "data": {
      "image/png": "[encoded data removed]",
      "text/plain": [
       "<Figure size 1584x576 with 1 Axes>"
      ]
     },
     "metadata": {
      "needs_background": "light"
     },
     "output_type": "display_data"
    }
   ],
   "source": [
    "adidas_sentiment_monthly = get_monthly_mean(adidas_dataset)"
   ]
  },
  {
   "cell_type": "markdown",
   "metadata": {},
   "source": [
    "> Since early 2018, Adidas' Twitter sentiment seems to be on a fairly steady rise, maybe their sustainability efforts have something to do with that"
   ]
  },
  {
   "cell_type": "code",
   "execution_count": 132,
   "metadata": {},
   "outputs": [
    {
     "data": {
      "image/png": "[encoded data removed]",
      "text/plain": [
       "<Figure size 1584x576 with 1 Axes>"
      ]
     },
     "metadata": {
      "needs_background": "light"
     },
     "output_type": "display_data"
    }
   ],
   "source": [
    "nike_sentiment_monthly = get_monthly_mean(nike_dataset)"
   ]
  },
  {
   "cell_type": "markdown",
   "metadata": {},
   "source": [
    "> Look at Nike's Twitter sentiment September 2018, remember the boycott over their Colin Kaepernick Ad?"
   ]
  },
  {
   "cell_type": "code",
   "execution_count": null,
   "metadata": {},
   "outputs": [],
   "source": []
  },
  {
   "cell_type": "code",
   "execution_count": null,
   "metadata": {},
   "outputs": [],
   "source": []
  },
  {
   "cell_type": "code",
   "execution_count": null,
   "metadata": {},
   "outputs": [],
   "source": []
  },
  {
   "cell_type": "code",
   "execution_count": null,
   "metadata": {},
   "outputs": [],
   "source": []
  },
  {
   "cell_type": "code",
   "execution_count": null,
   "metadata": {},
   "outputs": [],
   "source": []
  },
  {
   "cell_type": "code",
   "execution_count": null,
   "metadata": {},
   "outputs": [],
   "source": []
  },
  {
   "cell_type": "markdown",
   "metadata": {},
   "source": [
    "## Stationarity - Key concepts in Time Series Forecasting\n",
    "\n",
    "Time Series predictions are dependent upon stationary data.  \n",
    "Stationarity of data refers to consistency in the mean, variance, and covariance of the data over the period of time it is observed.\n",
    "See the illustrations below:  \n",
    "\n",
    "\n",
    "Though the Adidas and Nike sentiments seem pretty stationary, we'll run a _Dickey-Fuller_ test as well as analyze the rolling mean and rolling standard deviation to more accurately measure Stationarity.  We will preprocess all of our sentiment score series to achieve optimal stationarity before computing our forecasts.  \n",
    "\n",
    "We will do this using the `log transformation`, then `deseasonalization` and finally by `scaling` the data.  We will also consider `first differences` for removing the component of trend in the data.  "
   ]
  },
  {
   "cell_type": "code",
   "execution_count": 61,
   "metadata": {},
   "outputs": [],
   "source": [
    "from statsmodels.tsa.stattools import adfuller"
   ]
  },
  {
   "cell_type": "code",
   "execution_count": 140,
   "metadata": {},
   "outputs": [],
   "source": [
    "def test_stationarity(timeseries):\n",
    "    \"\"\"\n",
    "    Takes in a Time Series and plots data with rolling mean + rolling standard deviation \n",
    "    Prints out results of Dickey-Fuller Test\n",
    "    \"\"\"\n",
    "    #Determining rolling statistics\n",
    "    rolmean = timeseries.rolling(window=12, center=False).mean()\n",
    "    rolstd = timeseries.rolling(window=12, center=False).std()\n",
    "\n",
    "    #Plot rolling statistics:\n",
    "    fig = plt.figure(figsize=(22, 8))\n",
    "    orig = plt.plot(timeseries, color='blue',label='Original')\n",
    "    mean = plt.plot(rolmean, color='red', label='Rolling Mean')\n",
    "    std = plt.plot(rolstd, color='black', label = 'Rolling Std')\n",
    "    plt.legend(loc='best')\n",
    "    plt.title('Rolling Mean & Standard Deviation')\n",
    "    plt.show()\n",
    "    \n",
    "    #Perform Dickey-Fuller test:\n",
    "    print('Results of Dickey-Fuller Test:')\n",
    "    dftest = adfuller(timeseries, autolag='AIC')\n",
    "    dfoutput = pd.Series(dftest[0:4], index=['Test Statistic','p-value','#Lags Used','Number of Observations Used'])\n",
    "    for key,value in dftest[4].items():\n",
    "        dfoutput['Critical Value (%s)'%key] = value\n",
    "    print(dfoutput)"
   ]
  },
  {
   "cell_type": "code",
   "execution_count": 141,
   "metadata": {},
   "outputs": [
    {
     "data": {
      "image/png": "[encoded data removed]",
      "text/plain": [
       "<Figure size 1584x576 with 1 Axes>"
      ]
     },
     "metadata": {
      "needs_background": "light"
     },
     "output_type": "display_data"
    },
    {
     "name": "stdout",
     "output_type": "stream",
     "text": [
      "Results of Dickey-Fuller Test:\n",
      "Test Statistic                  -0.999906\n",
      "p-value                          0.753299\n",
      "#Lags Used                      10.000000\n",
      "Number of Observations Used    122.000000\n",
      "Critical Value (1%)             -3.485122\n",
      "Critical Value (5%)             -2.885538\n",
      "Critical Value (10%)            -2.579569\n",
      "dtype: float64\n"
     ]
    }
   ],
   "source": [
    "test_stationarity(bitcoin_sentiment_monthly['sentiment_score'])"
   ]
  },
  {
   "cell_type": "code",
   "execution_count": null,
   "metadata": {},
   "outputs": [],
   "source": []
  },
  {
   "cell_type": "code",
   "execution_count": 142,
   "metadata": {},
   "outputs": [
    {
     "data": {
      "image/png": "[encoded data removed]",
      "text/plain": [
       "<Figure size 1584x576 with 1 Axes>"
      ]
     },
     "metadata": {
      "needs_background": "light"
     },
     "output_type": "display_data"
    },
    {
     "name": "stdout",
     "output_type": "stream",
     "text": [
      "Results of Dickey-Fuller Test:\n",
      "Test Statistic                -8.147268e+00\n",
      "p-value                        9.911441e-13\n",
      "#Lags Used                     0.000000e+00\n",
      "Number of Observations Used    1.300000e+02\n",
      "Critical Value (1%)           -3.481682e+00\n",
      "Critical Value (5%)           -2.884042e+00\n",
      "Critical Value (10%)          -2.578770e+00\n",
      "dtype: float64\n"
     ]
    }
   ],
   "source": [
    "test_stationarity(adidas_sentiment_monthly['sentiment_score'])"
   ]
  },
  {
   "cell_type": "code",
   "execution_count": null,
   "metadata": {},
   "outputs": [],
   "source": []
  },
  {
   "cell_type": "code",
   "execution_count": 143,
   "metadata": {},
   "outputs": [
    {
     "data": {
      "image/png": "[encoded data removed]",
      "text/plain": [
       "<Figure size 1584x576 with 1 Axes>"
      ]
     },
     "metadata": {
      "needs_background": "light"
     },
     "output_type": "display_data"
    },
    {
     "name": "stdout",
     "output_type": "stream",
     "text": [
      "Results of Dickey-Fuller Test:\n",
      "Test Statistic                  -3.689363\n",
      "p-value                          0.004265\n",
      "#Lags Used                       3.000000\n",
      "Number of Observations Used    129.000000\n",
      "Critical Value (1%)             -3.482088\n",
      "Critical Value (5%)             -2.884219\n",
      "Critical Value (10%)            -2.578864\n",
      "dtype: float64\n"
     ]
    }
   ],
   "source": [
    "test_stationarity(nike_sentiment_monthly['sentiment_score'])"
   ]
  },
  {
   "cell_type": "code",
   "execution_count": null,
   "metadata": {},
   "outputs": [],
   "source": []
  },
  {
   "cell_type": "code",
   "execution_count": null,
   "metadata": {},
   "outputs": [],
   "source": []
  },
  {
   "cell_type": "code",
   "execution_count": 144,
   "metadata": {},
   "outputs": [
    {
     "name": "stderr",
     "output_type": "stream",
     "text": [
      "/Users/Frankie/anaconda3/envs/learn-env/lib/python3.6/site-packages/ipykernel_launcher.py:1: UserWarning: Pandas doesn't allow columns to be created via a new attribute name - see https://pandas.pydata.org/pandas-docs/stable/indexing.html#attribute-access\n",
      "  \"\"\"Entry point for launching an IPython kernel.\n"
     ]
    },
    {
     "data": {
      "image/png": "[encoded data removed]",
      "text/plain": [
       "<Figure size 1584x576 with 1 Axes>"
      ]
     },
     "metadata": {
      "needs_background": "light"
     },
     "output_type": "display_data"
    },
    {
     "name": "stdout",
     "output_type": "stream",
     "text": [
      "Results of Dickey-Fuller Test:\n",
      "Test Statistic                  -1.139887\n",
      "p-value                          0.698906\n",
      "#Lags Used                      10.000000\n",
      "Number of Observations Used    122.000000\n",
      "Critical Value (1%)             -3.485122\n",
      "Critical Value (5%)             -2.885538\n",
      "Critical Value (10%)            -2.579569\n",
      "dtype: float64\n"
     ]
    }
   ],
   "source": [
    "bitcoin_sentiment_monthly.score_log = bitcoin_sentiment_monthly.sentiment_score.apply(lambda x: np.log(x))  \n",
    "test_stationarity(bitcoin_sentiment_monthly.score_log)"
   ]
  },
  {
   "cell_type": "code",
   "execution_count": null,
   "metadata": {},
   "outputs": [],
   "source": []
  },
  {
   "cell_type": "code",
   "execution_count": 145,
   "metadata": {},
   "outputs": [
    {
     "name": "stderr",
     "output_type": "stream",
     "text": [
      "/Users/Frankie/anaconda3/envs/learn-env/lib/python3.6/site-packages/ipykernel_launcher.py:1: UserWarning: Pandas doesn't allow columns to be created via a new attribute name - see https://pandas.pydata.org/pandas-docs/stable/indexing.html#attribute-access\n",
      "  \"\"\"Entry point for launching an IPython kernel.\n"
     ]
    },
    {
     "data": {
      "image/png": "[encoded data removed]",
      "text/plain": [
       "<Figure size 1584x576 with 1 Axes>"
      ]
     },
     "metadata": {
      "needs_background": "light"
     },
     "output_type": "display_data"
    },
    {
     "name": "stdout",
     "output_type": "stream",
     "text": [
      "Results of Dickey-Fuller Test:\n",
      "Test Statistic                -8.707634e+00\n",
      "p-value                        3.663456e-14\n",
      "#Lags Used                     0.000000e+00\n",
      "Number of Observations Used    1.300000e+02\n",
      "Critical Value (1%)           -3.481682e+00\n",
      "Critical Value (5%)           -2.884042e+00\n",
      "Critical Value (10%)          -2.578770e+00\n",
      "dtype: float64\n"
     ]
    }
   ],
   "source": [
    "adidas_sentiment_monthly.score_log = adidas_sentiment_monthly.sentiment_score.apply(lambda x: np.log(x))  \n",
    "test_stationarity(adidas_sentiment_monthly.score_log)"
   ]
  },
  {
   "cell_type": "code",
   "execution_count": null,
   "metadata": {},
   "outputs": [],
   "source": []
  },
  {
   "cell_type": "code",
   "execution_count": null,
   "metadata": {},
   "outputs": [],
   "source": []
  },
  {
   "cell_type": "code",
   "execution_count": null,
   "metadata": {},
   "outputs": [],
   "source": []
  },
  {
   "cell_type": "code",
   "execution_count": null,
   "metadata": {},
   "outputs": [],
   "source": []
  },
  {
   "cell_type": "code",
   "execution_count": null,
   "metadata": {},
   "outputs": [],
   "source": []
  },
  {
   "cell_type": "code",
   "execution_count": null,
   "metadata": {},
   "outputs": [],
   "source": []
  },
  {
   "cell_type": "code",
   "execution_count": null,
   "metadata": {},
   "outputs": [],
   "source": []
  },
  {
   "cell_type": "code",
   "execution_count": null,
   "metadata": {},
   "outputs": [],
   "source": []
  },
  {
   "cell_type": "code",
   "execution_count": null,
   "metadata": {},
   "outputs": [],
   "source": []
  },
  {
   "cell_type": "code",
   "execution_count": null,
   "metadata": {},
   "outputs": [],
   "source": []
  },
  {
   "cell_type": "markdown",
   "metadata": {},
   "source": [
    "# 7 . Introducing Time Series Modeling"
   ]
  },
  {
   "cell_type": "code",
   "execution_count": null,
   "metadata": {},
   "outputs": [],
   "source": []
  },
  {
   "cell_type": "code",
   "execution_count": null,
   "metadata": {},
   "outputs": [],
   "source": []
  },
  {
   "cell_type": "code",
   "execution_count": null,
   "metadata": {},
   "outputs": [],
   "source": []
  },
  {
   "cell_type": "code",
   "execution_count": null,
   "metadata": {},
   "outputs": [],
   "source": []
  },
  {
   "cell_type": "code",
   "execution_count": null,
   "metadata": {},
   "outputs": [],
   "source": []
  },
  {
   "cell_type": "code",
   "execution_count": null,
   "metadata": {},
   "outputs": [],
   "source": []
  },
  {
   "cell_type": "code",
   "execution_count": null,
   "metadata": {},
   "outputs": [],
   "source": []
  },
  {
   "cell_type": "code",
   "execution_count": null,
   "metadata": {},
   "outputs": [],
   "source": []
  },
  {
   "cell_type": "code",
   "execution_count": null,
   "metadata": {},
   "outputs": [],
   "source": []
  },
  {
   "cell_type": "code",
   "execution_count": null,
   "metadata": {},
   "outputs": [],
   "source": []
  },
  {
   "cell_type": "code",
   "execution_count": null,
   "metadata": {},
   "outputs": [],
   "source": []
  },
  {
   "cell_type": "code",
   "execution_count": null,
   "metadata": {},
   "outputs": [],
   "source": []
  },
  {
   "cell_type": "code",
   "execution_count": null,
   "metadata": {},
   "outputs": [],
   "source": []
  },
  {
   "cell_type": "code",
   "execution_count": null,
   "metadata": {},
   "outputs": [],
   "source": []
  },
  {
   "cell_type": "code",
   "execution_count": null,
   "metadata": {},
   "outputs": [],
   "source": []
  },
  {
   "cell_type": "markdown",
   "metadata": {},
   "source": [
    "# 8 . Analysing prediction accuracy"
   ]
  },
  {
   "cell_type": "code",
   "execution_count": null,
   "metadata": {},
   "outputs": [],
   "source": [
    "# sMAPE"
   ]
  },
  {
   "cell_type": "code",
   "execution_count": null,
   "metadata": {},
   "outputs": [],
   "source": []
  },
  {
   "cell_type": "code",
   "execution_count": null,
   "metadata": {},
   "outputs": [],
   "source": [
    "# MASE"
   ]
  },
  {
   "cell_type": "code",
   "execution_count": null,
   "metadata": {},
   "outputs": [],
   "source": []
  },
  {
   "cell_type": "code",
   "execution_count": null,
   "metadata": {},
   "outputs": [],
   "source": []
  },
  {
   "cell_type": "code",
   "execution_count": null,
   "metadata": {},
   "outputs": [],
   "source": []
  },
  {
   "cell_type": "code",
   "execution_count": null,
   "metadata": {},
   "outputs": [],
   "source": []
  },
  {
   "cell_type": "code",
   "execution_count": null,
   "metadata": {},
   "outputs": [],
   "source": []
  },
  {
   "cell_type": "markdown",
   "metadata": {},
   "source": [
    "Statistical and Machine Learning forecasting methods: Concerns and ways forward:\n",
    "https://journals.plos.org/plosone/article?id=10.1371/journal.pone.0194889"
   ]
  },
  {
   "cell_type": "code",
   "execution_count": null,
   "metadata": {},
   "outputs": [],
   "source": []
  },
  {
   "cell_type": "markdown",
   "metadata": {},
   "source": [
    "# 9 . Trend predictions on future perception"
   ]
  },
  {
   "cell_type": "code",
   "execution_count": null,
   "metadata": {},
   "outputs": [],
   "source": []
  },
  {
   "cell_type": "code",
   "execution_count": null,
   "metadata": {},
   "outputs": [],
   "source": []
  },
  {
   "cell_type": "code",
   "execution_count": null,
   "metadata": {},
   "outputs": [],
   "source": []
  },
  {
   "cell_type": "code",
   "execution_count": null,
   "metadata": {},
   "outputs": [],
   "source": []
  },
  {
   "cell_type": "code",
   "execution_count": null,
   "metadata": {},
   "outputs": [],
   "source": []
  },
  {
   "cell_type": "code",
   "execution_count": null,
   "metadata": {},
   "outputs": [],
   "source": []
  },
  {
   "cell_type": "code",
   "execution_count": null,
   "metadata": {},
   "outputs": [],
   "source": []
  },
  {
   "cell_type": "code",
   "execution_count": null,
   "metadata": {},
   "outputs": [],
   "source": []
  },
  {
   "cell_type": "code",
   "execution_count": null,
   "metadata": {},
   "outputs": [],
   "source": []
  },
  {
   "cell_type": "code",
   "execution_count": null,
   "metadata": {},
   "outputs": [],
   "source": []
  },
  {
   "cell_type": "markdown",
   "metadata": {},
   "source": [
    "# 10 . Testing for Trends"
   ]
  },
  {
   "cell_type": "code",
   "execution_count": null,
   "metadata": {},
   "outputs": [],
   "source": []
  },
  {
   "cell_type": "code",
   "execution_count": null,
   "metadata": {},
   "outputs": [],
   "source": []
  },
  {
   "cell_type": "code",
   "execution_count": null,
   "metadata": {},
   "outputs": [],
   "source": []
  },
  {
   "cell_type": "code",
   "execution_count": null,
   "metadata": {},
   "outputs": [],
   "source": []
  },
  {
   "cell_type": "code",
   "execution_count": null,
   "metadata": {},
   "outputs": [],
   "source": []
  },
  {
   "cell_type": "code",
   "execution_count": null,
   "metadata": {},
   "outputs": [],
   "source": []
  },
  {
   "cell_type": "code",
   "execution_count": null,
   "metadata": {},
   "outputs": [],
   "source": []
  },
  {
   "cell_type": "code",
   "execution_count": null,
   "metadata": {},
   "outputs": [],
   "source": []
  },
  {
   "cell_type": "code",
   "execution_count": null,
   "metadata": {},
   "outputs": [],
   "source": []
  },
  {
   "cell_type": "markdown",
   "metadata": {},
   "source": [
    "# 11 . Conclusions and real world applications"
   ]
  },
  {
   "cell_type": "code",
   "execution_count": null,
   "metadata": {},
   "outputs": [],
   "source": []
  },
  {
   "cell_type": "code",
   "execution_count": null,
   "metadata": {},
   "outputs": [],
   "source": []
  },
  {
   "cell_type": "code",
   "execution_count": null,
   "metadata": {},
   "outputs": [],
   "source": []
  },
  {
   "cell_type": "code",
   "execution_count": null,
   "metadata": {},
   "outputs": [],
   "source": []
  },
  {
   "cell_type": "code",
   "execution_count": null,
   "metadata": {},
   "outputs": [],
   "source": []
  },
  {
   "cell_type": "code",
   "execution_count": null,
   "metadata": {},
   "outputs": [],
   "source": []
  },
  {
   "cell_type": "code",
   "execution_count": null,
   "metadata": {},
   "outputs": [],
   "source": []
  },
  {
   "cell_type": "code",
   "execution_count": null,
   "metadata": {},
   "outputs": [],
   "source": []
  },
  {
   "cell_type": "code",
   "execution_count": null,
   "metadata": {},
   "outputs": [],
   "source": []
  }
 ],
 "metadata": {
  "kernelspec": {
   "display_name": "learn-env",
   "language": "python",
   "name": "learn-env"
  },
  "language_info": {
   "codemirror_mode": {
    "name": "ipython",
    "version": 3
   },
   "file_extension": ".py",
   "mimetype": "text/x-python",
   "name": "python",
   "nbconvert_exporter": "python",
   "pygments_lexer": "ipython3",
   "version": "3.6.8"
  }
 },
 "nbformat": 4,
 "nbformat_minor": 2
}
