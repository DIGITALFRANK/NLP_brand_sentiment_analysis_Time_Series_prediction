{
 "cells": [
  {
   "cell_type": "markdown",
   "metadata": {},
   "source": [
    "# Analysing and Predicting Public Perception on Social Media"
   ]
  },
  {
   "cell_type": "markdown",
   "metadata": {},
   "source": [
    "Understanding public brand perception can be a challenge.  With the rise of social media, good data on pulic opinion about specific topics and brands is widely available. Twitter is the perfect platform for this.  By scrapping twitter data we will try to implement sentiment analysis on particular brands and topics, we will then implement a Time Series model and train it on past sentiment trends to help it predict future sentiment trajectory.  (Bitcoin, Nike vs Adidas - Twitter sentiment trend analysis + prediction)"
   ]
  },
  {
   "cell_type": "code",
   "execution_count": null,
   "metadata": {},
   "outputs": [],
   "source": []
  },
  {
   "cell_type": "markdown",
   "metadata": {},
   "source": [
    "> Importing our standard libraries, the autoreload module.."
   ]
  },
  {
   "cell_type": "code",
   "execution_count": 1,
   "metadata": {},
   "outputs": [],
   "source": [
    "import pandas as pd\n",
    "import numpy as np\n",
    "\n",
    "import matplotlib.pyplot as plt\n",
    "%matplotlib inline"
   ]
  },
  {
   "cell_type": "code",
   "execution_count": 31,
   "metadata": {},
   "outputs": [
    {
     "name": "stdout",
     "output_type": "stream",
     "text": [
      "The autoreload extension is already loaded. To reload it, use:\n",
      "  %reload_ext autoreload\n"
     ]
    }
   ],
   "source": [
    "%load_ext autoreload\n",
    "%autoreload 2\n",
    "\n",
    "import sys, os\n",
    "from os import path\n",
    "sys.path.append(\"twint/\")"
   ]
  },
  {
   "cell_type": "markdown",
   "metadata": {},
   "source": [
    "# Scrapping Twitter with TWINT\n",
    "\n",
    "We'll begin by scrapping Twitter using the TWINT module, since Twitter's standard search API is very limited. The TWINT modules allows us to search for target tweets by keyword, within a date range, and much more almost without limitations, the enitre Twittersphere is now available to us.  We can then perform sentiment analysis on specific tweets.\n",
    "  \n",
    "We've installed TWINT through the command line and appended it to our system path in the cell above.  Next, we will import the module and set up its configuration and start running queries.  \n",
    "  "
   ]
  },
  {
   "cell_type": "code",
   "execution_count": 32,
   "metadata": {},
   "outputs": [],
   "source": [
    "# load TWINT and set up its configuration\n",
    "import twint\n",
    "c = twint.Config()"
   ]
  },
  {
   "cell_type": "code",
   "execution_count": 33,
   "metadata": {},
   "outputs": [],
   "source": [
    "# Solve compatibility issues with notebooks and RunTime errors.\n",
    "import nest_asyncio\n",
    "nest_asyncio.apply()"
   ]
  },
  {
   "cell_type": "code",
   "execution_count": 34,
   "metadata": {},
   "outputs": [
    {
     "name": "stdout",
     "output_type": "stream",
     "text": [
      "1154390329648439296 2019-07-25 09:57:56 EDT <CarlosABRB> Lembra que o pavão disse que foi movimentação em Bitcoin? Então... Isso existe na descoberta da PF.\n",
      "1154390294630150145 2019-07-25 09:57:48 EDT <HotNewCrypto> RBI Forced Inter-ministerial Panel to Propose Ban on Bitcoin: Report  https://www.newsbtc.com/2019/07/23/rbi-forced-inter-ministerial-panel-to-propose-ban-on-bitcoin-report/ … #Rbi #Ban #Btc #India #Crypto #Report #Indian #Bitcoin #Hearing #Newdate #Analysis #Committee #Draftbill #Regulation #Cryptocase #Fundamental #Cryptoassets #Prohibitions #Supremecourt\n",
      "1154390286921023490 2019-07-25 09:57:46 EDT <nanaa_aanan> #Bitcoin\n",
      "1154390278813495296 2019-07-25 09:57:44 EDT <Bitcoin_HODLer> 'Right now Bitcoin feels like the Internet before the browser.' - Wences Casares #Quote #Investment #Crypto🤑\n",
      "1154390269527306240 2019-07-25 09:57:42 EDT <griscegna> #DiversityFund ->  http://www.diversity-fund.biz/?r=poccio  #ad Launch Date: December 2017 #RevenueShare: 120% - 125% Daily Return: 0.8% Status : Paying Adpack Price:  $25 - $50 Min withdrawal: 5$ #PerfectMoney #Payeer #Coinpayment #Bitcoin  pic.twitter.com/YEWsIvfGR7\n",
      "1154390261910237186 2019-07-25 09:57:40 EDT <newsbtc> New research by the world’s top crypto exchange, @binance, indicates that portfolios that include Bitcoin exhibited overall better risk-return profiles than traditional multi-asset class portfolios.   https://www.newsbtc.com/2019/07/25/research-bitcoin-provides-great-diversification-benefits-for-multi-asset-portfolios/ …\n",
      "1154390248870371329 2019-07-25 09:57:37 EDT <WallofCoins> #ItsOnlyAMatterOfTimeBefore we acknowledge our existing financial institutions are deeply flawed and irreversibly prone to corruption, which is why we need #bitcoin!\n",
      "1154390248018841600 2019-07-25 09:57:37 EDT <webscale_bot> Stare directly at the sun with BITCOIN. Only on the primitive algorithms by Informix.\n",
      "1154390242662633472 2019-07-25 09:57:36 EDT <maxxrpbtc> It’s good education for #bitcoin maximalists that do not understand @Ripple, the network, and or #xrp $xrp. More education is needed for those inside and outside of the #XRPcommunity that are still learning (or think they know)\n",
      "1154390238569086976 2019-07-25 09:57:35 EDT <rektcapital> It’s natural to seek out reassurance when BTC’s price is falling  But don’t spend too much time & energy seeking it out  Instead focus your energy on figuring out a strategy on how to make the most of what is a fantastic financial opportunity   A four digit Bitcoin $BTC #Bitcoin\n",
      "1154390208822960128 2019-07-25 09:57:27 EDT <bitnearby> Join  http://Bitnearby.com  reddit, we got so many people talking about our flyer designs. #bitcoin for life. #crypto #cryptocurrencies https://www.reddit.com/r/Bitcoin/comments/chjqr2/what_do_yall_think_of_this_bitcoin_flyer_good_or/?utm_source=share&utm_medium=ios_app …\n",
      "1154390172483694593 2019-07-25 09:57:19 EDT <thedavidcoen> Thanks a lot for your help! I know that this article can be a bit difficult, but I hope it can be helpful. We need a clear and consensus ruled standard. Please guys, consider adopting this definition (as sats instead of bitcoin for the asset)!\n",
      "1154390142595031041 2019-07-25 09:57:12 EDT <YassinYassin06> How do you do it? Awesome bro 👍\n",
      "1154390129324253184 2019-07-25 09:57:09 EDT <gordongekko369> LIVE Bitcoin $11,000 or $9,000 NOW! July 2019 Price Prediction, News & T...  https://youtu.be/OFizQCvm1ZM  via @YouTube join the MAN TA legend !\n",
      "1154390124014084097 2019-07-25 09:57:07 EDT <tokentalkco> Indian Bureaucrat Who Favored Bitcoin Regulation Quits Finance Ministry  https://www.tokentalk.co/NewsBTC/indian-bureaucrat-who-favored-bitcoin-regulation-quits-finance-ministry-5d39b221422ed75e2465ed44?utm_source=dlvr.it&utm_medium=twitter … #bitcoin  pic.twitter.com/TacE1Qlsvv\n",
      "1154390108922998786 2019-07-25 09:57:04 EDT <xbtmoney> FBI Suspects Insider Trading Around Long Island Iced Tea’s Blockchain Pivot  https://www.xbt.money/fbi-suspects-insider-trading-around-long-island-iced-teas-blockchain-pivot/ … #XBT #BTC #Bitcoin\n",
      "1154390076593491970 2019-07-25 09:56:56 EDT <cryptosilva> $ETHCD #blockchain #ETHCD #ethereum #bitcoin #ico #tokensale #ripple #stellar #airdrop #cryptocurrency  https://ethereumcard.org/  https://twitter.com/ethereum_card/status/1145316033135140865 …\n",
      "1154390053914861570 2019-07-25 09:56:51 EDT <astrafine> The Fastest Way Bitcoin Cash Flow #bitcoin #traffic #moneyonline http://bit.ly/2zSuzPr \n",
      "1154390039578718209 2019-07-25 09:56:47 EDT <fahim_touhid> Etherbase is the project is very promising and progressive. Good and active work of the team is visible. I want to wish everyone great success.#eterbase #bitcoin #exchange http://eterbase.com \n",
      "1154390033320828929 2019-07-25 09:56:46 EDT <SamFine17> The Fastest Way Bitcoin Cash Flow #bitcoin #traffic #moneyonline  http://bit.ly/2zSuzPr \n"
     ]
    }
   ],
   "source": [
    "c.Search = \"bitcoin\"\n",
    "c.Limit = 1 # results are returned in blocks of 20 tweets, 1 here means 20\n",
    "c.Pandas = True\n",
    "twint.run.Search(c)"
   ]
  },
  {
   "cell_type": "markdown",
   "metadata": {},
   "source": [
    "### Great!\n",
    "> We have tweets being output as our result!  Now let's format this output into a dataframe we can work with"
   ]
  },
  {
   "cell_type": "code",
   "execution_count": 35,
   "metadata": {},
   "outputs": [],
   "source": [
    "def available_columns():\n",
    "    return twint.output.panda.Tweets_df.columns\n",
    "\n",
    "def twint_to_pandas(columns):\n",
    "    return twint.output.panda.Tweets_df[columns]"
   ]
  },
  {
   "cell_type": "code",
   "execution_count": 36,
   "metadata": {},
   "outputs": [
    {
     "data": {
      "text/plain": [
       "Index(['cashtags', 'conversation_id', 'created_at', 'date', 'day', 'geo',\n",
       "       'hashtags', 'hour', 'id', 'link', 'name', 'near', 'nlikes', 'nreplies',\n",
       "       'nretweets', 'place', 'quote_url', 'retweet', 'search', 'timezone',\n",
       "       'tweet', 'user_id', 'user_id_str', 'username'],\n",
       "      dtype='object')"
      ]
     },
     "execution_count": 36,
     "metadata": {},
     "output_type": "execute_result"
    }
   ],
   "source": [
    "# see what columns are available\n",
    "available_columns()"
   ]
  },
  {
   "cell_type": "code",
   "execution_count": 37,
   "metadata": {},
   "outputs": [
    {
     "name": "stdout",
     "output_type": "stream",
     "text": [
      "(20, 11)\n"
     ]
    },
    {
     "data": {
      "text/html": [
       "<div>\n",
       "<style scoped>\n",
       "    .dataframe tbody tr th:only-of-type {\n",
       "        vertical-align: middle;\n",
       "    }\n",
       "\n",
       "    .dataframe tbody tr th {\n",
       "        vertical-align: top;\n",
       "    }\n",
       "\n",
       "    .dataframe thead th {\n",
       "        text-align: right;\n",
       "    }\n",
       "</style>\n",
       "<table border=\"1\" class=\"dataframe\">\n",
       "  <thead>\n",
       "    <tr style=\"text-align: right;\">\n",
       "      <th></th>\n",
       "      <th>conversation_id</th>\n",
       "      <th>created_at</th>\n",
       "      <th>id</th>\n",
       "      <th>user_id</th>\n",
       "      <th>username</th>\n",
       "      <th>tweet</th>\n",
       "      <th>hashtags</th>\n",
       "      <th>date</th>\n",
       "      <th>day</th>\n",
       "      <th>nlikes</th>\n",
       "      <th>nretweets</th>\n",
       "    </tr>\n",
       "  </thead>\n",
       "  <tbody>\n",
       "    <tr>\n",
       "      <th>0</th>\n",
       "      <td>1154093628576321536</td>\n",
       "      <td>1564063076000</td>\n",
       "      <td>1154390329648439296</td>\n",
       "      <td>816407812507103234</td>\n",
       "      <td>CarlosABRB</td>\n",
       "      <td>Lembra que o pavão disse que foi movimentação ...</td>\n",
       "      <td>[]</td>\n",
       "      <td>2019-07-25 09:57:56</td>\n",
       "      <td>4</td>\n",
       "      <td>0</td>\n",
       "      <td>0</td>\n",
       "    </tr>\n",
       "    <tr>\n",
       "      <th>1</th>\n",
       "      <td>1154390294630150145</td>\n",
       "      <td>1564063068000</td>\n",
       "      <td>1154390294630150145</td>\n",
       "      <td>886022401074626560</td>\n",
       "      <td>HotNewCrypto</td>\n",
       "      <td>RBI Forced Inter-ministerial Panel to Propose ...</td>\n",
       "      <td>[#rbi, #ban, #btc, #india, #crypto, #report, #...</td>\n",
       "      <td>2019-07-25 09:57:48</td>\n",
       "      <td>4</td>\n",
       "      <td>0</td>\n",
       "      <td>0</td>\n",
       "    </tr>\n",
       "    <tr>\n",
       "      <th>2</th>\n",
       "      <td>1154361323381243909</td>\n",
       "      <td>1564063066000</td>\n",
       "      <td>1154390286921023490</td>\n",
       "      <td>862633698461700102</td>\n",
       "      <td>nanaa_aanan</td>\n",
       "      <td>#Bitcoin</td>\n",
       "      <td>[#bitcoin]</td>\n",
       "      <td>2019-07-25 09:57:46</td>\n",
       "      <td>4</td>\n",
       "      <td>0</td>\n",
       "      <td>0</td>\n",
       "    </tr>\n",
       "    <tr>\n",
       "      <th>3</th>\n",
       "      <td>1154390278813495296</td>\n",
       "      <td>1564063064000</td>\n",
       "      <td>1154390278813495296</td>\n",
       "      <td>1125171431740932096</td>\n",
       "      <td>Bitcoin_HODLer</td>\n",
       "      <td>'Right now Bitcoin feels like the Internet bef...</td>\n",
       "      <td>[#quote, #investment, #crypto]</td>\n",
       "      <td>2019-07-25 09:57:44</td>\n",
       "      <td>4</td>\n",
       "      <td>0</td>\n",
       "      <td>0</td>\n",
       "    </tr>\n",
       "    <tr>\n",
       "      <th>4</th>\n",
       "      <td>1154390269527306240</td>\n",
       "      <td>1564063062000</td>\n",
       "      <td>1154390269527306240</td>\n",
       "      <td>1045291410</td>\n",
       "      <td>griscegna</td>\n",
       "      <td>#DiversityFund -&gt;  http://www.diversity-fund.b...</td>\n",
       "      <td>[#diversityfund, #ad, #revenueshare, #perfectm...</td>\n",
       "      <td>2019-07-25 09:57:42</td>\n",
       "      <td>4</td>\n",
       "      <td>0</td>\n",
       "      <td>0</td>\n",
       "    </tr>\n",
       "  </tbody>\n",
       "</table>\n",
       "</div>"
      ],
      "text/plain": [
       "       conversation_id     created_at                   id  \\\n",
       "0  1154093628576321536  1564063076000  1154390329648439296   \n",
       "1  1154390294630150145  1564063068000  1154390294630150145   \n",
       "2  1154361323381243909  1564063066000  1154390286921023490   \n",
       "3  1154390278813495296  1564063064000  1154390278813495296   \n",
       "4  1154390269527306240  1564063062000  1154390269527306240   \n",
       "\n",
       "               user_id        username  \\\n",
       "0   816407812507103234      CarlosABRB   \n",
       "1   886022401074626560    HotNewCrypto   \n",
       "2   862633698461700102     nanaa_aanan   \n",
       "3  1125171431740932096  Bitcoin_HODLer   \n",
       "4           1045291410       griscegna   \n",
       "\n",
       "                                               tweet  \\\n",
       "0  Lembra que o pavão disse que foi movimentação ...   \n",
       "1  RBI Forced Inter-ministerial Panel to Propose ...   \n",
       "2                                           #Bitcoin   \n",
       "3  'Right now Bitcoin feels like the Internet bef...   \n",
       "4  #DiversityFund ->  http://www.diversity-fund.b...   \n",
       "\n",
       "                                            hashtags                 date  \\\n",
       "0                                                 []  2019-07-25 09:57:56   \n",
       "1  [#rbi, #ban, #btc, #india, #crypto, #report, #...  2019-07-25 09:57:48   \n",
       "2                                         [#bitcoin]  2019-07-25 09:57:46   \n",
       "3                     [#quote, #investment, #crypto]  2019-07-25 09:57:44   \n",
       "4  [#diversityfund, #ad, #revenueshare, #perfectm...  2019-07-25 09:57:42   \n",
       "\n",
       "   day  nlikes  nretweets  \n",
       "0    4       0          0  \n",
       "1    4       0          0  \n",
       "2    4       0          0  \n",
       "3    4       0          0  \n",
       "4    4       0          0  "
      ]
     },
     "execution_count": 37,
     "metadata": {},
     "output_type": "execute_result"
    }
   ],
   "source": [
    "# create Pandas dataframe with desired columns\n",
    "df = twint_to_pandas(['conversation_id', 'created_at', 'id', 'user_id', 'username', 'tweet', 'hashtags', 'date', 'day', 'nlikes', 'nretweets'])\n",
    "print(df.shape)\n",
    "df.head()"
   ]
  },
  {
   "cell_type": "markdown",
   "metadata": {},
   "source": [
    "### Success!\n",
    "> We now have a data frame with 20 tweets all containing the keyword \"bitcoin\", along with some additional information about the tweets"
   ]
  },
  {
   "cell_type": "code",
   "execution_count": null,
   "metadata": {},
   "outputs": [],
   "source": []
  },
  {
   "cell_type": "code",
   "execution_count": null,
   "metadata": {},
   "outputs": [],
   "source": []
  },
  {
   "cell_type": "markdown",
   "metadata": {},
   "source": [
    "> Now let's make our code a bit more modular so that we can run constant queries"
   ]
  },
  {
   "cell_type": "code",
   "execution_count": 14,
   "metadata": {},
   "outputs": [
    {
     "name": "stdout",
     "output_type": "stream",
     "text": [
      "The autoreload extension is already loaded. To reload it, use:\n",
      "  %reload_ext autoreload\n"
     ]
    }
   ],
   "source": [
    "# # load system utilities \n",
    "# %load_ext autoreload\n",
    "# %autoreload 2\n",
    "\n",
    "# import sys, os\n",
    "# from os import path\n",
    "# sys.path.append(\"twint/\")"
   ]
  },
  {
   "cell_type": "code",
   "execution_count": 15,
   "metadata": {},
   "outputs": [],
   "source": [
    "# # Solve compatibility issues with notebooks and RunTime errors.\n",
    "# import nest_asyncio\n",
    "# nest_asyncio.apply()"
   ]
  },
  {
   "cell_type": "code",
   "execution_count": 38,
   "metadata": {},
   "outputs": [],
   "source": [
    "# Disable annoying printing\n",
    "class HiddenPrints:\n",
    "    def __enter__(self):\n",
    "        self._original_stdout = sys.stdout\n",
    "        sys.stdout = open(os.devnull, 'w')\n",
    "\n",
    "    def __exit__(self, exc_type, exc_val, exc_tb):\n",
    "        sys.stdout.close()\n",
    "        sys.stdout = self._original_stdout"
   ]
  },
  {
   "cell_type": "code",
   "execution_count": 39,
   "metadata": {},
   "outputs": [],
   "source": [
    "# function to easily get tweets\n",
    "def get_tweets(search_term, limit=100):\n",
    "    # test mining\n",
    "    c = twint.Config()\n",
    "    c.Search = search_term\n",
    "    c.Limit = limit\n",
    "    c.Pandas = True\n",
    "    c.Pandas_clean = True\n",
    "    \n",
    "    result_columns = ['id', 'username', 'tweet', 'hashtags', 'date', 'day', 'nlikes', 'nretweets']\n",
    "    with HiddenPrints():\n",
    "        print(twint.run.Search(c))\n",
    "    return twint.output.panda.Tweets_df[result_columns]"
   ]
  },
  {
   "cell_type": "code",
   "execution_count": null,
   "metadata": {},
   "outputs": [],
   "source": []
  },
  {
   "cell_type": "code",
   "execution_count": null,
   "metadata": {},
   "outputs": [],
   "source": []
  },
  {
   "cell_type": "code",
   "execution_count": null,
   "metadata": {},
   "outputs": [],
   "source": []
  },
  {
   "cell_type": "code",
   "execution_count": null,
   "metadata": {},
   "outputs": [],
   "source": []
  },
  {
   "cell_type": "code",
   "execution_count": 11,
   "metadata": {},
   "outputs": [
    {
     "name": "stdout",
     "output_type": "stream",
     "text": [
      "(10004, 8)\n"
     ]
    },
    {
     "data": {
      "text/html": [
       "<div>\n",
       "<style scoped>\n",
       "    .dataframe tbody tr th:only-of-type {\n",
       "        vertical-align: middle;\n",
       "    }\n",
       "\n",
       "    .dataframe tbody tr th {\n",
       "        vertical-align: top;\n",
       "    }\n",
       "\n",
       "    .dataframe thead th {\n",
       "        text-align: right;\n",
       "    }\n",
       "</style>\n",
       "<table border=\"1\" class=\"dataframe\">\n",
       "  <thead>\n",
       "    <tr style=\"text-align: right;\">\n",
       "      <th></th>\n",
       "      <th>id</th>\n",
       "      <th>username</th>\n",
       "      <th>tweet</th>\n",
       "      <th>hashtags</th>\n",
       "      <th>date</th>\n",
       "      <th>day</th>\n",
       "      <th>nlikes</th>\n",
       "      <th>nretweets</th>\n",
       "    </tr>\n",
       "  </thead>\n",
       "  <tbody>\n",
       "    <tr>\n",
       "      <th>0</th>\n",
       "      <td>1154070862536028161</td>\n",
       "      <td>maksimmerili</td>\n",
       "      <td>Long/Short Bitcoin &amp; altcoin volatility with u...</td>\n",
       "      <td>[]</td>\n",
       "      <td>2019-07-24 12:48:29</td>\n",
       "      <td>5</td>\n",
       "      <td>0</td>\n",
       "      <td>0</td>\n",
       "    </tr>\n",
       "    <tr>\n",
       "      <th>1</th>\n",
       "      <td>1154070855380623360</td>\n",
       "      <td>RadsickTrrance</td>\n",
       "      <td>#Bitcoin Price Shuns Volatility as Analysts Wa...</td>\n",
       "      <td>[#bitcoin, #crypto]</td>\n",
       "      <td>2019-07-24 12:48:28</td>\n",
       "      <td>5</td>\n",
       "      <td>0</td>\n",
       "      <td>0</td>\n",
       "    </tr>\n",
       "    <tr>\n",
       "      <th>2</th>\n",
       "      <td>1154070832827813890</td>\n",
       "      <td>TurgayMutlucan</td>\n",
       "      <td>Bitcoin bu,  her an herşey olabilir!</td>\n",
       "      <td>[]</td>\n",
       "      <td>2019-07-24 12:48:22</td>\n",
       "      <td>5</td>\n",
       "      <td>0</td>\n",
       "      <td>0</td>\n",
       "    </tr>\n",
       "    <tr>\n",
       "      <th>3</th>\n",
       "      <td>1154070829812125707</td>\n",
       "      <td>WallyGideon</td>\n",
       "      <td>New video by Legit TV: Why Coincola is the bes...</td>\n",
       "      <td>[]</td>\n",
       "      <td>2019-07-24 12:48:22</td>\n",
       "      <td>5</td>\n",
       "      <td>0</td>\n",
       "      <td>0</td>\n",
       "    </tr>\n",
       "    <tr>\n",
       "      <th>4</th>\n",
       "      <td>1154070822828617729</td>\n",
       "      <td>cryptosnarf</td>\n",
       "      <td>When real bitcoin back</td>\n",
       "      <td>[]</td>\n",
       "      <td>2019-07-24 12:48:20</td>\n",
       "      <td>5</td>\n",
       "      <td>0</td>\n",
       "      <td>0</td>\n",
       "    </tr>\n",
       "  </tbody>\n",
       "</table>\n",
       "</div>"
      ],
      "text/plain": [
       "                    id        username  \\\n",
       "0  1154070862536028161    maksimmerili   \n",
       "1  1154070855380623360  RadsickTrrance   \n",
       "2  1154070832827813890  TurgayMutlucan   \n",
       "3  1154070829812125707     WallyGideon   \n",
       "4  1154070822828617729     cryptosnarf   \n",
       "\n",
       "                                               tweet             hashtags  \\\n",
       "0  Long/Short Bitcoin & altcoin volatility with u...                   []   \n",
       "1  #Bitcoin Price Shuns Volatility as Analysts Wa...  [#bitcoin, #crypto]   \n",
       "2               Bitcoin bu,  her an herşey olabilir!                   []   \n",
       "3  New video by Legit TV: Why Coincola is the bes...                   []   \n",
       "4                             When real bitcoin back                   []   \n",
       "\n",
       "                  date  day  nlikes  nretweets  \n",
       "0  2019-07-24 12:48:29    5       0          0  \n",
       "1  2019-07-24 12:48:28    5       0          0  \n",
       "2  2019-07-24 12:48:22    5       0          0  \n",
       "3  2019-07-24 12:48:22    5       0          0  \n",
       "4  2019-07-24 12:48:20    5       0          0  "
      ]
     },
     "execution_count": 11,
     "metadata": {},
     "output_type": "execute_result"
    }
   ],
   "source": [
    "bitcoin_tweets = get_tweets(\"bitcoin\", limit=10000)\n",
    "print(bitcoin_tweets.shape)\n",
    "bitcoin_tweets.head()"
   ]
  },
  {
   "cell_type": "code",
   "execution_count": null,
   "metadata": {},
   "outputs": [],
   "source": []
  },
  {
   "cell_type": "code",
   "execution_count": null,
   "metadata": {},
   "outputs": [],
   "source": []
  },
  {
   "cell_type": "code",
   "execution_count": null,
   "metadata": {},
   "outputs": [],
   "source": []
  },
  {
   "cell_type": "code",
   "execution_count": 12,
   "metadata": {},
   "outputs": [
    {
     "name": "stdout",
     "output_type": "stream",
     "text": [
      "(10016, 8)\n"
     ]
    },
    {
     "data": {
      "text/html": [
       "<div>\n",
       "<style scoped>\n",
       "    .dataframe tbody tr th:only-of-type {\n",
       "        vertical-align: middle;\n",
       "    }\n",
       "\n",
       "    .dataframe tbody tr th {\n",
       "        vertical-align: top;\n",
       "    }\n",
       "\n",
       "    .dataframe thead th {\n",
       "        text-align: right;\n",
       "    }\n",
       "</style>\n",
       "<table border=\"1\" class=\"dataframe\">\n",
       "  <thead>\n",
       "    <tr style=\"text-align: right;\">\n",
       "      <th></th>\n",
       "      <th>id</th>\n",
       "      <th>username</th>\n",
       "      <th>tweet</th>\n",
       "      <th>hashtags</th>\n",
       "      <th>date</th>\n",
       "      <th>day</th>\n",
       "      <th>nlikes</th>\n",
       "      <th>nretweets</th>\n",
       "    </tr>\n",
       "  </thead>\n",
       "  <tbody>\n",
       "    <tr>\n",
       "      <th>0</th>\n",
       "      <td>1154072907297054720</td>\n",
       "      <td>swerve1973</td>\n",
       "      <td>Classy combo! I had a Raleigh Burner and Adida...</td>\n",
       "      <td>[]</td>\n",
       "      <td>2019-07-24 12:56:37</td>\n",
       "      <td>3</td>\n",
       "      <td>0</td>\n",
       "      <td>0</td>\n",
       "    </tr>\n",
       "    <tr>\n",
       "      <th>1</th>\n",
       "      <td>1154072900816662528</td>\n",
       "      <td>RoopGautam</td>\n",
       "      <td>कभी नंगे पैर दौड़ना पड़ता था, क्योंकि जूते खरी...</td>\n",
       "      <td>[]</td>\n",
       "      <td>2019-07-24 12:56:35</td>\n",
       "      <td>3</td>\n",
       "      <td>1</td>\n",
       "      <td>0</td>\n",
       "    </tr>\n",
       "    <tr>\n",
       "      <th>2</th>\n",
       "      <td>1154072900418359296</td>\n",
       "      <td>cinj00</td>\n",
       "      <td>Elite 8 game is a W!! We beat a tough CBC Elit...</td>\n",
       "      <td>[]</td>\n",
       "      <td>2019-07-24 12:56:35</td>\n",
       "      <td>3</td>\n",
       "      <td>0</td>\n",
       "      <td>0</td>\n",
       "    </tr>\n",
       "    <tr>\n",
       "      <th>3</th>\n",
       "      <td>1154072890951819265</td>\n",
       "      <td>checkthekicks</td>\n",
       "      <td>http://rover.ebay.com/rover/1/711-53200-19255...</td>\n",
       "      <td>[#kidsshoes]</td>\n",
       "      <td>2019-07-24 12:56:33</td>\n",
       "      <td>3</td>\n",
       "      <td>0</td>\n",
       "      <td>0</td>\n",
       "    </tr>\n",
       "    <tr>\n",
       "      <th>4</th>\n",
       "      <td>1154072886635880448</td>\n",
       "      <td>liberosans</td>\n",
       "      <td>i'm sick his entire wardrobe is different blac...</td>\n",
       "      <td>[]</td>\n",
       "      <td>2019-07-24 12:56:32</td>\n",
       "      <td>3</td>\n",
       "      <td>0</td>\n",
       "      <td>0</td>\n",
       "    </tr>\n",
       "  </tbody>\n",
       "</table>\n",
       "</div>"
      ],
      "text/plain": [
       "                    id       username  \\\n",
       "0  1154072907297054720     swerve1973   \n",
       "1  1154072900816662528     RoopGautam   \n",
       "2  1154072900418359296         cinj00   \n",
       "3  1154072890951819265  checkthekicks   \n",
       "4  1154072886635880448     liberosans   \n",
       "\n",
       "                                               tweet      hashtags  \\\n",
       "0  Classy combo! I had a Raleigh Burner and Adida...            []   \n",
       "1  कभी नंगे पैर दौड़ना पड़ता था, क्योंकि जूते खरी...            []   \n",
       "2  Elite 8 game is a W!! We beat a tough CBC Elit...            []   \n",
       "3   http://rover.ebay.com/rover/1/711-53200-19255...  [#kidsshoes]   \n",
       "4  i'm sick his entire wardrobe is different blac...            []   \n",
       "\n",
       "                  date  day  nlikes  nretweets  \n",
       "0  2019-07-24 12:56:37    3       0          0  \n",
       "1  2019-07-24 12:56:35    3       1          0  \n",
       "2  2019-07-24 12:56:35    3       0          0  \n",
       "3  2019-07-24 12:56:33    3       0          0  \n",
       "4  2019-07-24 12:56:32    3       0          0  "
      ]
     },
     "execution_count": 12,
     "metadata": {},
     "output_type": "execute_result"
    }
   ],
   "source": [
    "adidas_tweets = get_tweets(\"adidas\", limit=10000)\n",
    "print(adidas_tweets.shape)\n",
    "adidas_tweets.head()"
   ]
  },
  {
   "cell_type": "code",
   "execution_count": 13,
   "metadata": {},
   "outputs": [
    {
     "data": {
      "text/html": [
       "<div>\n",
       "<style scoped>\n",
       "    .dataframe tbody tr th:only-of-type {\n",
       "        vertical-align: middle;\n",
       "    }\n",
       "\n",
       "    .dataframe tbody tr th {\n",
       "        vertical-align: top;\n",
       "    }\n",
       "\n",
       "    .dataframe thead th {\n",
       "        text-align: right;\n",
       "    }\n",
       "</style>\n",
       "<table border=\"1\" class=\"dataframe\">\n",
       "  <thead>\n",
       "    <tr style=\"text-align: right;\">\n",
       "      <th></th>\n",
       "      <th>id</th>\n",
       "      <th>username</th>\n",
       "      <th>tweet</th>\n",
       "      <th>hashtags</th>\n",
       "      <th>date</th>\n",
       "      <th>day</th>\n",
       "      <th>nlikes</th>\n",
       "      <th>nretweets</th>\n",
       "    </tr>\n",
       "  </thead>\n",
       "  <tbody>\n",
       "    <tr>\n",
       "      <th>10011</th>\n",
       "      <td>1153716514215698432</td>\n",
       "      <td>New_preloved</td>\n",
       "      <td>{NP} Ada yang mau thread tas tas branded dari ...</td>\n",
       "      <td>[]</td>\n",
       "      <td>2019-07-23 13:20:26</td>\n",
       "      <td>7</td>\n",
       "      <td>6</td>\n",
       "      <td>0</td>\n",
       "    </tr>\n",
       "    <tr>\n",
       "      <th>10012</th>\n",
       "      <td>1153716480917344258</td>\n",
       "      <td>Felipekrf</td>\n",
       "      <td>Meninaaaas, chegaram os vestidos de moletom da...</td>\n",
       "      <td>[]</td>\n",
       "      <td>2019-07-23 13:20:18</td>\n",
       "      <td>7</td>\n",
       "      <td>0</td>\n",
       "      <td>1</td>\n",
       "    </tr>\n",
       "    <tr>\n",
       "      <th>10013</th>\n",
       "      <td>1153716470469267458</td>\n",
       "      <td>giselamlopez</td>\n",
       "      <td>Adidas wow #daretocreate   New adidas ad Dare ...</td>\n",
       "      <td>[#daretocreate]</td>\n",
       "      <td>2019-07-23 13:20:16</td>\n",
       "      <td>7</td>\n",
       "      <td>0</td>\n",
       "      <td>0</td>\n",
       "    </tr>\n",
       "    <tr>\n",
       "      <th>10014</th>\n",
       "      <td>1153716458704310273</td>\n",
       "      <td>masterthegamerp</td>\n",
       "      <td>I like ADIDAS or Vans maybe?</td>\n",
       "      <td>[]</td>\n",
       "      <td>2019-07-23 13:20:13</td>\n",
       "      <td>7</td>\n",
       "      <td>2</td>\n",
       "      <td>0</td>\n",
       "    </tr>\n",
       "    <tr>\n",
       "      <th>10015</th>\n",
       "      <td>1153716452496674816</td>\n",
       "      <td>steezy_jay__</td>\n",
       "      <td>They actually sell think about it it’s only we...</td>\n",
       "      <td>[]</td>\n",
       "      <td>2019-07-23 13:20:11</td>\n",
       "      <td>7</td>\n",
       "      <td>0</td>\n",
       "      <td>0</td>\n",
       "    </tr>\n",
       "  </tbody>\n",
       "</table>\n",
       "</div>"
      ],
      "text/plain": [
       "                        id         username  \\\n",
       "10011  1153716514215698432     New_preloved   \n",
       "10012  1153716480917344258        Felipekrf   \n",
       "10013  1153716470469267458     giselamlopez   \n",
       "10014  1153716458704310273  masterthegamerp   \n",
       "10015  1153716452496674816     steezy_jay__   \n",
       "\n",
       "                                                   tweet         hashtags  \\\n",
       "10011  {NP} Ada yang mau thread tas tas branded dari ...               []   \n",
       "10012  Meninaaaas, chegaram os vestidos de moletom da...               []   \n",
       "10013  Adidas wow #daretocreate   New adidas ad Dare ...  [#daretocreate]   \n",
       "10014                       I like ADIDAS or Vans maybe?               []   \n",
       "10015  They actually sell think about it it’s only we...               []   \n",
       "\n",
       "                      date  day  nlikes  nretweets  \n",
       "10011  2019-07-23 13:20:26    7       6          0  \n",
       "10012  2019-07-23 13:20:18    7       0          1  \n",
       "10013  2019-07-23 13:20:16    7       0          0  \n",
       "10014  2019-07-23 13:20:13    7       2          0  \n",
       "10015  2019-07-23 13:20:11    7       0          0  "
      ]
     },
     "execution_count": 13,
     "metadata": {},
     "output_type": "execute_result"
    }
   ],
   "source": [
    "adidas_tweets.tail()"
   ]
  },
  {
   "cell_type": "code",
   "execution_count": null,
   "metadata": {},
   "outputs": [],
   "source": []
  },
  {
   "cell_type": "code",
   "execution_count": null,
   "metadata": {},
   "outputs": [],
   "source": []
  },
  {
   "cell_type": "code",
   "execution_count": 14,
   "metadata": {},
   "outputs": [
    {
     "name": "stdout",
     "output_type": "stream",
     "text": [
      "(10000, 8)\n"
     ]
    },
    {
     "data": {
      "text/html": [
       "<div>\n",
       "<style scoped>\n",
       "    .dataframe tbody tr th:only-of-type {\n",
       "        vertical-align: middle;\n",
       "    }\n",
       "\n",
       "    .dataframe tbody tr th {\n",
       "        vertical-align: top;\n",
       "    }\n",
       "\n",
       "    .dataframe thead th {\n",
       "        text-align: right;\n",
       "    }\n",
       "</style>\n",
       "<table border=\"1\" class=\"dataframe\">\n",
       "  <thead>\n",
       "    <tr style=\"text-align: right;\">\n",
       "      <th></th>\n",
       "      <th>id</th>\n",
       "      <th>username</th>\n",
       "      <th>tweet</th>\n",
       "      <th>hashtags</th>\n",
       "      <th>date</th>\n",
       "      <th>day</th>\n",
       "      <th>nlikes</th>\n",
       "      <th>nretweets</th>\n",
       "    </tr>\n",
       "  </thead>\n",
       "  <tbody>\n",
       "    <tr>\n",
       "      <th>0</th>\n",
       "      <td>1154077508133933058</td>\n",
       "      <td>twanAthon</td>\n",
       "      <td>I’m glad he went to Jordan. That speaks volume...</td>\n",
       "      <td>[]</td>\n",
       "      <td>2019-07-24 13:14:54</td>\n",
       "      <td>2</td>\n",
       "      <td>0</td>\n",
       "      <td>0</td>\n",
       "    </tr>\n",
       "    <tr>\n",
       "      <th>1</th>\n",
       "      <td>1154077437912866818</td>\n",
       "      <td>crackyspen</td>\n",
       "      <td>2009 Polo Jeans Perfect Circle/Godspeed The St...</td>\n",
       "      <td>[]</td>\n",
       "      <td>2019-07-24 13:14:37</td>\n",
       "      <td>2</td>\n",
       "      <td>0</td>\n",
       "      <td>0</td>\n",
       "    </tr>\n",
       "    <tr>\n",
       "      <th>2</th>\n",
       "      <td>1154077431860551682</td>\n",
       "      <td>somto_jr</td>\n",
       "      <td>Nike shoes are better than adidas shoes</td>\n",
       "      <td>[]</td>\n",
       "      <td>2019-07-24 13:14:36</td>\n",
       "      <td>2</td>\n",
       "      <td>0</td>\n",
       "      <td>0</td>\n",
       "    </tr>\n",
       "    <tr>\n",
       "      <th>3</th>\n",
       "      <td>1154077420665921536</td>\n",
       "      <td>alcarazpedro</td>\n",
       "      <td>la última de nike?</td>\n",
       "      <td>[]</td>\n",
       "      <td>2019-07-24 13:14:33</td>\n",
       "      <td>2</td>\n",
       "      <td>0</td>\n",
       "      <td>0</td>\n",
       "    </tr>\n",
       "    <tr>\n",
       "      <th>4</th>\n",
       "      <td>1154077405717417988</td>\n",
       "      <td>FernandzCande</td>\n",
       "      <td>me calzo las Nike y me voy a caminar lejos con...</td>\n",
       "      <td>[]</td>\n",
       "      <td>2019-07-24 13:14:29</td>\n",
       "      <td>2</td>\n",
       "      <td>0</td>\n",
       "      <td>0</td>\n",
       "    </tr>\n",
       "  </tbody>\n",
       "</table>\n",
       "</div>"
      ],
      "text/plain": [
       "                    id       username  \\\n",
       "0  1154077508133933058      twanAthon   \n",
       "1  1154077437912866818     crackyspen   \n",
       "2  1154077431860551682       somto_jr   \n",
       "3  1154077420665921536   alcarazpedro   \n",
       "4  1154077405717417988  FernandzCande   \n",
       "\n",
       "                                               tweet hashtags  \\\n",
       "0  I’m glad he went to Jordan. That speaks volume...       []   \n",
       "1  2009 Polo Jeans Perfect Circle/Godspeed The St...       []   \n",
       "2            Nike shoes are better than adidas shoes       []   \n",
       "3                                 la última de nike?       []   \n",
       "4  me calzo las Nike y me voy a caminar lejos con...       []   \n",
       "\n",
       "                  date  day  nlikes  nretweets  \n",
       "0  2019-07-24 13:14:54    2       0          0  \n",
       "1  2019-07-24 13:14:37    2       0          0  \n",
       "2  2019-07-24 13:14:36    2       0          0  \n",
       "3  2019-07-24 13:14:33    2       0          0  \n",
       "4  2019-07-24 13:14:29    2       0          0  "
      ]
     },
     "execution_count": 14,
     "metadata": {},
     "output_type": "execute_result"
    }
   ],
   "source": [
    "nike_tweets = get_tweets(\"nike\", limit=10000)\n",
    "print(nike_tweets.shape)\n",
    "nike_tweets.head()"
   ]
  },
  {
   "cell_type": "code",
   "execution_count": null,
   "metadata": {},
   "outputs": [],
   "source": []
  },
  {
   "cell_type": "code",
   "execution_count": null,
   "metadata": {},
   "outputs": [],
   "source": []
  },
  {
   "cell_type": "code",
   "execution_count": null,
   "metadata": {},
   "outputs": [],
   "source": []
  },
  {
   "cell_type": "code",
   "execution_count": null,
   "metadata": {},
   "outputs": [],
   "source": []
  },
  {
   "cell_type": "code",
   "execution_count": null,
   "metadata": {},
   "outputs": [],
   "source": []
  },
  {
   "cell_type": "markdown",
   "metadata": {},
   "source": [
    "# Testing the Vader Module for Sentiment Analysis"
   ]
  },
  {
   "cell_type": "markdown",
   "metadata": {},
   "source": [
    "> first let's test out Vader on a simple line of text and analyze the results"
   ]
  },
  {
   "cell_type": "code",
   "execution_count": null,
   "metadata": {},
   "outputs": [],
   "source": [
    "#!pip install vaderSentiment"
   ]
  },
  {
   "cell_type": "code",
   "execution_count": 15,
   "metadata": {},
   "outputs": [],
   "source": [
    "from vaderSentiment.vaderSentiment import SentimentIntensityAnalyzer\n",
    "analyser = SentimentIntensityAnalyzer()"
   ]
  },
  {
   "cell_type": "code",
   "execution_count": 20,
   "metadata": {},
   "outputs": [],
   "source": [
    "def sentiment_analyzer_scores(sentence):\n",
    "    score = analyser.polarity_scores(sentence)\n",
    "    print('sentence: \"{}\"'.format(sentence))\n",
    "    print('scores: {}'.format(str(score))) \n",
    "    return score['compound']"
   ]
  },
  {
   "cell_type": "code",
   "execution_count": 21,
   "metadata": {},
   "outputs": [
    {
     "name": "stdout",
     "output_type": "stream",
     "text": [
      "sentence: \"Nike is the best.\"\n",
      "scores: {'neg': 0.0, 'neu': 0.417, 'pos': 0.583, 'compound': 0.6369}\n"
     ]
    },
    {
     "data": {
      "text/plain": [
       "0.6369"
      ]
     },
     "execution_count": 21,
     "metadata": {},
     "output_type": "execute_result"
    }
   ],
   "source": [
    "sentiment_analyzer_scores(\"Nike is the best.\")"
   ]
  },
  {
   "cell_type": "markdown",
   "metadata": {},
   "source": [
    "> Pretty positive sentiment, how about..."
   ]
  },
  {
   "cell_type": "code",
   "execution_count": 23,
   "metadata": {},
   "outputs": [
    {
     "name": "stdout",
     "output_type": "stream",
     "text": [
      "sentence: \"Nike is the BEST!\"\n",
      "scores: {'neg': 0.0, 'neu': 0.365, 'pos': 0.635, 'compound': 0.7371}\n"
     ]
    },
    {
     "data": {
      "text/plain": [
       "0.7371"
      ]
     },
     "execution_count": 23,
     "metadata": {},
     "output_type": "execute_result"
    }
   ],
   "source": [
    "sentiment_analyzer_scores(\"Nike is the BEST!\")"
   ]
  },
  {
   "cell_type": "markdown",
   "metadata": {},
   "source": [
    "> See the increase in positivity from .63 to .73"
   ]
  },
  {
   "cell_type": "markdown",
   "metadata": {},
   "source": [
    "> Let's try another simple example"
   ]
  },
  {
   "cell_type": "code",
   "execution_count": 22,
   "metadata": {},
   "outputs": [
    {
     "name": "stdout",
     "output_type": "stream",
     "text": [
      "sentence: \"Adidas sucks, but I like their sustainability initiative.\"\n",
      "scores: {'neg': 0.175, 'neu': 0.5, 'pos': 0.325, 'compound': 0.3612}\n"
     ]
    },
    {
     "data": {
      "text/plain": [
       "0.3612"
      ]
     },
     "execution_count": 22,
     "metadata": {},
     "output_type": "execute_result"
    }
   ],
   "source": [
    "sentiment_analyzer_scores(\"Adidas sucks, but I like their sustainability initiative.\")"
   ]
  },
  {
   "cell_type": "markdown",
   "metadata": {},
   "source": [
    "> How about..."
   ]
  },
  {
   "cell_type": "code",
   "execution_count": 24,
   "metadata": {},
   "outputs": [
    {
     "name": "stdout",
     "output_type": "stream",
     "text": [
      "sentence: \"Adidas is terrible!  I just hate all their designs, and that Kanye West line looked like clothing for homeless people.  I'll never buy Adidas, ever!\"\n",
      "scores: {'neg': 0.239, 'neu': 0.68, 'pos': 0.081, 'compound': -0.7081}\n"
     ]
    },
    {
     "data": {
      "text/plain": [
       "-0.7081"
      ]
     },
     "execution_count": 24,
     "metadata": {},
     "output_type": "execute_result"
    }
   ],
   "source": [
    "sentiment_analyzer_scores(\"Adidas is terrible!  I just hate all their designs, and that Kanye West line looked like clothing for homeless people.  I'll never buy Adidas, ever!\")"
   ]
  },
  {
   "cell_type": "markdown",
   "metadata": {},
   "source": [
    "> Now that we've tested Vader, let's apply it to our dataframes and see the overall sentiment in about 10,000 tweets on each topic/brand"
   ]
  },
  {
   "cell_type": "code",
   "execution_count": 40,
   "metadata": {},
   "outputs": [],
   "source": [
    "import warnings\n",
    "warnings.filterwarnings('ignore')"
   ]
  },
  {
   "cell_type": "code",
   "execution_count": 41,
   "metadata": {},
   "outputs": [],
   "source": [
    "def compound_score(tweet):\n",
    "    return analyser.polarity_scores(tweet)['compound']\n",
    "\n",
    "def overall_sentiment(df):\n",
    "    df['sentiment_score'] = df['tweet'].apply(compound_score)\n",
    "    return round(df['sentiment_score'].sum() / len(df['sentiment_score']), 2)"
   ]
  },
  {
   "cell_type": "code",
   "execution_count": 38,
   "metadata": {},
   "outputs": [
    {
     "data": {
      "text/plain": [
       "0.6155"
      ]
     },
     "execution_count": 38,
     "metadata": {},
     "output_type": "execute_result"
    }
   ],
   "source": [
    "compound_score('Adidas is one of my FAV sports brands!')"
   ]
  },
  {
   "cell_type": "code",
   "execution_count": 44,
   "metadata": {},
   "outputs": [
    {
     "name": "stdout",
     "output_type": "stream",
     "text": [
      "The overall sentiment score for the \"Bitcoin\" related set of tweets is: 0.1\n"
     ]
    },
    {
     "data": {
      "text/html": [
       "<div>\n",
       "<style scoped>\n",
       "    .dataframe tbody tr th:only-of-type {\n",
       "        vertical-align: middle;\n",
       "    }\n",
       "\n",
       "    .dataframe tbody tr th {\n",
       "        vertical-align: top;\n",
       "    }\n",
       "\n",
       "    .dataframe thead th {\n",
       "        text-align: right;\n",
       "    }\n",
       "</style>\n",
       "<table border=\"1\" class=\"dataframe\">\n",
       "  <thead>\n",
       "    <tr style=\"text-align: right;\">\n",
       "      <th></th>\n",
       "      <th>id</th>\n",
       "      <th>username</th>\n",
       "      <th>tweet</th>\n",
       "      <th>hashtags</th>\n",
       "      <th>date</th>\n",
       "      <th>day</th>\n",
       "      <th>nlikes</th>\n",
       "      <th>nretweets</th>\n",
       "      <th>sentiment_score</th>\n",
       "    </tr>\n",
       "  </thead>\n",
       "  <tbody>\n",
       "    <tr>\n",
       "      <th>0</th>\n",
       "      <td>1154070862536028161</td>\n",
       "      <td>maksimmerili</td>\n",
       "      <td>Long/Short Bitcoin &amp; altcoin volatility with u...</td>\n",
       "      <td>[]</td>\n",
       "      <td>2019-07-24 12:48:29</td>\n",
       "      <td>5</td>\n",
       "      <td>0</td>\n",
       "      <td>0</td>\n",
       "      <td>0.4184</td>\n",
       "    </tr>\n",
       "    <tr>\n",
       "      <th>1</th>\n",
       "      <td>1154070855380623360</td>\n",
       "      <td>RadsickTrrance</td>\n",
       "      <td>#Bitcoin Price Shuns Volatility as Analysts Wa...</td>\n",
       "      <td>[#bitcoin, #crypto]</td>\n",
       "      <td>2019-07-24 12:48:28</td>\n",
       "      <td>5</td>\n",
       "      <td>0</td>\n",
       "      <td>0</td>\n",
       "      <td>-0.3612</td>\n",
       "    </tr>\n",
       "  </tbody>\n",
       "</table>\n",
       "</div>"
      ],
      "text/plain": [
       "                    id        username  \\\n",
       "0  1154070862536028161    maksimmerili   \n",
       "1  1154070855380623360  RadsickTrrance   \n",
       "\n",
       "                                               tweet             hashtags  \\\n",
       "0  Long/Short Bitcoin & altcoin volatility with u...                   []   \n",
       "1  #Bitcoin Price Shuns Volatility as Analysts Wa...  [#bitcoin, #crypto]   \n",
       "\n",
       "                  date  day  nlikes  nretweets  sentiment_score  \n",
       "0  2019-07-24 12:48:29    5       0          0           0.4184  \n",
       "1  2019-07-24 12:48:28    5       0          0          -0.3612  "
      ]
     },
     "execution_count": 44,
     "metadata": {},
     "output_type": "execute_result"
    }
   ],
   "source": [
    "bitcoin_total_score = overall_sentiment(bitcoin_tweets)\n",
    "print(f'The overall sentiment score for the \"Bitcoin\" related set of tweets is: {bitcoin_total_score}')\n",
    "bitcoin_tweets.head(2)"
   ]
  },
  {
   "cell_type": "markdown",
   "metadata": {},
   "source": [
    "> People are currently pretty neutral on Bitcoin, not surprising."
   ]
  },
  {
   "cell_type": "code",
   "execution_count": 48,
   "metadata": {},
   "outputs": [
    {
     "name": "stdout",
     "output_type": "stream",
     "text": [
      "The overall sentiment score for the \"Adidas\" related set of tweets is: 0.12\n"
     ]
    },
    {
     "data": {
      "text/html": [
       "<div>\n",
       "<style scoped>\n",
       "    .dataframe tbody tr th:only-of-type {\n",
       "        vertical-align: middle;\n",
       "    }\n",
       "\n",
       "    .dataframe tbody tr th {\n",
       "        vertical-align: top;\n",
       "    }\n",
       "\n",
       "    .dataframe thead th {\n",
       "        text-align: right;\n",
       "    }\n",
       "</style>\n",
       "<table border=\"1\" class=\"dataframe\">\n",
       "  <thead>\n",
       "    <tr style=\"text-align: right;\">\n",
       "      <th></th>\n",
       "      <th>id</th>\n",
       "      <th>username</th>\n",
       "      <th>tweet</th>\n",
       "      <th>hashtags</th>\n",
       "      <th>date</th>\n",
       "      <th>day</th>\n",
       "      <th>nlikes</th>\n",
       "      <th>nretweets</th>\n",
       "      <th>sentiment_score</th>\n",
       "    </tr>\n",
       "  </thead>\n",
       "  <tbody>\n",
       "    <tr>\n",
       "      <th>0</th>\n",
       "      <td>1154072907297054720</td>\n",
       "      <td>swerve1973</td>\n",
       "      <td>Classy combo! I had a Raleigh Burner and Adida...</td>\n",
       "      <td>[]</td>\n",
       "      <td>2019-07-24 12:56:37</td>\n",
       "      <td>3</td>\n",
       "      <td>0</td>\n",
       "      <td>0</td>\n",
       "      <td>0.4926</td>\n",
       "    </tr>\n",
       "    <tr>\n",
       "      <th>1</th>\n",
       "      <td>1154072900816662528</td>\n",
       "      <td>RoopGautam</td>\n",
       "      <td>कभी नंगे पैर दौड़ना पड़ता था, क्योंकि जूते खरी...</td>\n",
       "      <td>[]</td>\n",
       "      <td>2019-07-24 12:56:35</td>\n",
       "      <td>3</td>\n",
       "      <td>1</td>\n",
       "      <td>0</td>\n",
       "      <td>0.0000</td>\n",
       "    </tr>\n",
       "  </tbody>\n",
       "</table>\n",
       "</div>"
      ],
      "text/plain": [
       "                    id    username  \\\n",
       "0  1154072907297054720  swerve1973   \n",
       "1  1154072900816662528  RoopGautam   \n",
       "\n",
       "                                               tweet hashtags  \\\n",
       "0  Classy combo! I had a Raleigh Burner and Adida...       []   \n",
       "1  कभी नंगे पैर दौड़ना पड़ता था, क्योंकि जूते खरी...       []   \n",
       "\n",
       "                  date  day  nlikes  nretweets  sentiment_score  \n",
       "0  2019-07-24 12:56:37    3       0          0           0.4926  \n",
       "1  2019-07-24 12:56:35    3       1          0           0.0000  "
      ]
     },
     "execution_count": 48,
     "metadata": {},
     "output_type": "execute_result"
    }
   ],
   "source": [
    "adidas_total_score = overall_sentiment(adidas_tweets)\n",
    "print(f'The overall sentiment score for the \"Adidas\" related set of tweets is: {adidas_total_score}')\n",
    "adidas_tweets.head(2)"
   ]
  },
  {
   "cell_type": "markdown",
   "metadata": {},
   "source": [
    "> Notice how a foreign language gives us a sentiment score of 0 (neutral, but this ruins our averages!)  \n",
    "> What if the foreign language contained characters from the English alphabet?  how would our scores be affected?"
   ]
  },
  {
   "cell_type": "code",
   "execution_count": 51,
   "metadata": {},
   "outputs": [
    {
     "name": "stdout",
     "output_type": "stream",
     "text": [
      "The overall sentiment score for the \"Nike\" related set of tweets is: 0.07\n"
     ]
    },
    {
     "data": {
      "text/html": [
       "<div>\n",
       "<style scoped>\n",
       "    .dataframe tbody tr th:only-of-type {\n",
       "        vertical-align: middle;\n",
       "    }\n",
       "\n",
       "    .dataframe tbody tr th {\n",
       "        vertical-align: top;\n",
       "    }\n",
       "\n",
       "    .dataframe thead th {\n",
       "        text-align: right;\n",
       "    }\n",
       "</style>\n",
       "<table border=\"1\" class=\"dataframe\">\n",
       "  <thead>\n",
       "    <tr style=\"text-align: right;\">\n",
       "      <th></th>\n",
       "      <th>id</th>\n",
       "      <th>username</th>\n",
       "      <th>tweet</th>\n",
       "      <th>hashtags</th>\n",
       "      <th>date</th>\n",
       "      <th>day</th>\n",
       "      <th>nlikes</th>\n",
       "      <th>nretweets</th>\n",
       "      <th>sentiment_score</th>\n",
       "    </tr>\n",
       "  </thead>\n",
       "  <tbody>\n",
       "    <tr>\n",
       "      <th>0</th>\n",
       "      <td>1154077508133933058</td>\n",
       "      <td>twanAthon</td>\n",
       "      <td>I’m glad he went to Jordan. That speaks volume...</td>\n",
       "      <td>[]</td>\n",
       "      <td>2019-07-24 13:14:54</td>\n",
       "      <td>2</td>\n",
       "      <td>0</td>\n",
       "      <td>0</td>\n",
       "      <td>0.7096</td>\n",
       "    </tr>\n",
       "    <tr>\n",
       "      <th>1</th>\n",
       "      <td>1154077437912866818</td>\n",
       "      <td>crackyspen</td>\n",
       "      <td>2009 Polo Jeans Perfect Circle/Godspeed The St...</td>\n",
       "      <td>[]</td>\n",
       "      <td>2019-07-24 13:14:37</td>\n",
       "      <td>2</td>\n",
       "      <td>0</td>\n",
       "      <td>0</td>\n",
       "      <td>0.9396</td>\n",
       "    </tr>\n",
       "  </tbody>\n",
       "</table>\n",
       "</div>"
      ],
      "text/plain": [
       "                    id    username  \\\n",
       "0  1154077508133933058   twanAthon   \n",
       "1  1154077437912866818  crackyspen   \n",
       "\n",
       "                                               tweet hashtags  \\\n",
       "0  I’m glad he went to Jordan. That speaks volume...       []   \n",
       "1  2009 Polo Jeans Perfect Circle/Godspeed The St...       []   \n",
       "\n",
       "                  date  day  nlikes  nretweets  sentiment_score  \n",
       "0  2019-07-24 13:14:54    2       0          0           0.7096  \n",
       "1  2019-07-24 13:14:37    2       0          0           0.9396  "
      ]
     },
     "execution_count": 51,
     "metadata": {},
     "output_type": "execute_result"
    }
   ],
   "source": [
    "nike_total_score = overall_sentiment(nike_tweets)\n",
    "print(f'The overall sentiment score for the \"Nike\" related set of tweets is: {nike_total_score}')\n",
    "nike_tweets.head(2)"
   ]
  },
  {
   "cell_type": "markdown",
   "metadata": {},
   "source": [
    "> Adidas currently trumps Nike! Whaaaaaat?? look at Nike's first two sentiment scores\n",
    "\n",
    "Though averaging the entire dataset may have played a true role in this, we're still pretty skeptical that Adidas had better sentiment ratings than Nike.  We can also see that all of our overall scores are pretty neutral... This is where Data Cleaning and preparing our tweets to be analyzed for sentiment will play a big role.  Additionally, the popularity of a tweet should be taken into account, tweets with a large number of 'likes' and many retweets should have a stronger effect on our overall score.  We will tackle this shortly.  \n",
    "\n",
    "For now, let's understand that we will these sentiment scores to individually classify tweets into 5 classes:  \n",
    "  \n",
    "- 0 = negative\t\n",
    "- 1 = neutral_negative\t\t\n",
    "- 2 = neutral\t\t\n",
    "- 3 = neutral_positive\t\n",
    "- 4 = positive    \n",
    "\n",
    "  \n",
    "The scores will aslo be averaged per day, month, and year for trend visualizaiton purposes and for our Time Series analysis.  \n",
    "We should aggregate and organize our tweet data accordingly"
   ]
  },
  {
   "cell_type": "code",
   "execution_count": null,
   "metadata": {},
   "outputs": [],
   "source": [
    "# how can we take into account an average score for the day as well as the whole month\n",
    "# we will want to visualize sentiment trends day by day as well as month by month over the year+"
   ]
  },
  {
   "cell_type": "markdown",
   "metadata": {},
   "source": [
    "### Real Data\n",
    "Let's note that before we apply Vader to our real data, there are multiple things we have to consider.  \n",
    "Firsly, a considerable amount of data cleaning needs to be done on the tweets for the sentiment scores to be accurate and valuable.  In our example above, some tweets remain in foreign languages, so those sentiment scores are actually null to us, yet they still affect the overall average of compound score.  Additionally, some special characters may be throwing off the NLP implementation within Vader, and should be removed.  \n",
    "\n",
    "Moving forward, we will keep these considerations and many more in mind, and generate the most accurate possible sentiment scores we can.  We will begin by aggragating our real data, keeping in mind our date ranges so to represent real time-linear data for our Time Series analysis.  We will then continue to Data Cleaning, and make sure our tweets are in perfect form before moving on to analysing sentiment with Vader. "
   ]
  },
  {
   "cell_type": "code",
   "execution_count": null,
   "metadata": {},
   "outputs": [],
   "source": []
  },
  {
   "cell_type": "code",
   "execution_count": null,
   "metadata": {},
   "outputs": [],
   "source": []
  },
  {
   "cell_type": "markdown",
   "metadata": {},
   "source": [
    "# Data Aggregation"
   ]
  },
  {
   "cell_type": "markdown",
   "metadata": {},
   "source": [
    "We will now scrape Twitter for targeted tweets dating back to 2017 (2 and 1/2 + years in total).  We want these tweets aggragated monthly, and we will save each month of tweets in its own .json file inside our twitter_dataset directory.  We will then concactenate this data into a single dataframe for each topic/brand representing its entire recent Twitter dataset."
   ]
  },
  {
   "cell_type": "markdown",
   "metadata": {},
   "source": [
    "> We want popular and significant tweets - let's keep that in mind when scraping as well as when creating our dataframes"
   ]
  },
  {
   "cell_type": "code",
   "execution_count": 65,
   "metadata": {},
   "outputs": [
    {
     "data": {
      "text/html": [
       "<div>\n",
       "<style scoped>\n",
       "    .dataframe tbody tr th:only-of-type {\n",
       "        vertical-align: middle;\n",
       "    }\n",
       "\n",
       "    .dataframe tbody tr th {\n",
       "        vertical-align: top;\n",
       "    }\n",
       "\n",
       "    .dataframe thead th {\n",
       "        text-align: right;\n",
       "    }\n",
       "</style>\n",
       "<table border=\"1\" class=\"dataframe\">\n",
       "  <thead>\n",
       "    <tr style=\"text-align: right;\">\n",
       "      <th></th>\n",
       "      <th>id</th>\n",
       "      <th>username</th>\n",
       "      <th>tweet</th>\n",
       "      <th>hashtags</th>\n",
       "      <th>date</th>\n",
       "      <th>day</th>\n",
       "      <th>nlikes</th>\n",
       "      <th>nretweets</th>\n",
       "      <th>sentiment_score</th>\n",
       "    </tr>\n",
       "  </thead>\n",
       "  <tbody>\n",
       "    <tr>\n",
       "      <th>4767</th>\n",
       "      <td>1154018561507176448</td>\n",
       "      <td>SANGREXENEIZE</td>\n",
       "      <td>Nike se retira de Boca acorde a lo que fueron ...</td>\n",
       "      <td>[]</td>\n",
       "      <td>2019-07-24 09:20:40</td>\n",
       "      <td>7</td>\n",
       "      <td>1401</td>\n",
       "      <td>218</td>\n",
       "      <td>0.0</td>\n",
       "    </tr>\n",
       "  </tbody>\n",
       "</table>\n",
       "</div>"
      ],
      "text/plain": [
       "                       id       username  \\\n",
       "4767  1154018561507176448  SANGREXENEIZE   \n",
       "\n",
       "                                                  tweet hashtags  \\\n",
       "4767  Nike se retira de Boca acorde a lo que fueron ...       []   \n",
       "\n",
       "                     date  day  nlikes  nretweets  sentiment_score  \n",
       "4767  2019-07-24 09:20:40    7    1401        218              0.0  "
      ]
     },
     "execution_count": 65,
     "metadata": {},
     "output_type": "execute_result"
    }
   ],
   "source": [
    "# let's see how many tweets where significantly popular in our test data\n",
    "nike_tweets[nike_tweets['nlikes']>1000]"
   ]
  },
  {
   "cell_type": "code",
   "execution_count": 90,
   "metadata": {},
   "outputs": [
    {
     "data": {
      "text/plain": [
       "'07'"
      ]
     },
     "execution_count": 90,
     "metadata": {},
     "output_type": "execute_result"
    }
   ],
   "source": [
    "# the_tweet = nike_tweets[nike_tweets['nlikes']>1000]\n",
    "nike_tweets.loc[4767]['date'][5:7]"
   ]
  },
  {
   "cell_type": "markdown",
   "metadata": {},
   "source": [
    "> Not many, as you can see.  \n",
    "- We will set TWINT's 'popular-tweets' option to True in order to retrieve only popular tweets  \n",
    "- We will also use TWINT's 'lang' option to make sure we only retrieve tweets that are in English  \n",
    "-  Finally, we will set 'since' amd 'until' to the approriate dates to retrive our tweets in a monthly fashion  "
   ]
  },
  {
   "cell_type": "code",
   "execution_count": null,
   "metadata": {},
   "outputs": [],
   "source": []
  },
  {
   "cell_type": "code",
   "execution_count": null,
   "metadata": {},
   "outputs": [],
   "source": []
  },
  {
   "cell_type": "code",
   "execution_count": 5,
   "metadata": {},
   "outputs": [
    {
     "data": {
      "text/plain": [
       "[(datetime.datetime(2017, 1, 1, 0, 0), datetime.datetime(2017, 1, 31, 0, 0)),\n",
       " (datetime.datetime(2017, 2, 1, 0, 0), datetime.datetime(2017, 2, 28, 0, 0)),\n",
       " (datetime.datetime(2017, 3, 1, 0, 0), datetime.datetime(2017, 3, 31, 0, 0)),\n",
       " (datetime.datetime(2017, 4, 1, 0, 0), datetime.datetime(2017, 4, 30, 0, 0)),\n",
       " (datetime.datetime(2017, 5, 1, 0, 0), datetime.datetime(2017, 5, 31, 0, 0)),\n",
       " (datetime.datetime(2017, 6, 1, 0, 0), datetime.datetime(2017, 6, 30, 0, 0)),\n",
       " (datetime.datetime(2017, 7, 1, 0, 0), datetime.datetime(2017, 7, 31, 0, 0)),\n",
       " (datetime.datetime(2017, 8, 1, 0, 0), datetime.datetime(2017, 8, 31, 0, 0)),\n",
       " (datetime.datetime(2017, 9, 1, 0, 0), datetime.datetime(2017, 9, 30, 0, 0)),\n",
       " (datetime.datetime(2017, 10, 1, 0, 0), datetime.datetime(2017, 10, 31, 0, 0)),\n",
       " (datetime.datetime(2017, 11, 1, 0, 0), datetime.datetime(2017, 11, 30, 0, 0)),\n",
       " (datetime.datetime(2017, 12, 1, 0, 0), datetime.datetime(2017, 12, 31, 0, 0)),\n",
       " (datetime.datetime(2018, 1, 1, 0, 0), datetime.datetime(2018, 1, 31, 0, 0)),\n",
       " (datetime.datetime(2018, 2, 1, 0, 0), datetime.datetime(2018, 2, 28, 0, 0)),\n",
       " (datetime.datetime(2018, 3, 1, 0, 0), datetime.datetime(2018, 3, 31, 0, 0)),\n",
       " (datetime.datetime(2018, 4, 1, 0, 0), datetime.datetime(2018, 4, 30, 0, 0)),\n",
       " (datetime.datetime(2018, 5, 1, 0, 0), datetime.datetime(2018, 5, 31, 0, 0)),\n",
       " (datetime.datetime(2018, 6, 1, 0, 0), datetime.datetime(2018, 6, 30, 0, 0)),\n",
       " (datetime.datetime(2018, 7, 1, 0, 0), datetime.datetime(2018, 7, 31, 0, 0)),\n",
       " (datetime.datetime(2018, 8, 1, 0, 0), datetime.datetime(2018, 8, 31, 0, 0)),\n",
       " (datetime.datetime(2018, 9, 1, 0, 0), datetime.datetime(2018, 9, 30, 0, 0)),\n",
       " (datetime.datetime(2018, 10, 1, 0, 0), datetime.datetime(2018, 10, 31, 0, 0)),\n",
       " (datetime.datetime(2018, 11, 1, 0, 0), datetime.datetime(2018, 11, 30, 0, 0)),\n",
       " (datetime.datetime(2018, 12, 1, 0, 0), datetime.datetime(2018, 12, 31, 0, 0)),\n",
       " (datetime.datetime(2019, 1, 1, 0, 0), datetime.datetime(2019, 1, 31, 0, 0)),\n",
       " (datetime.datetime(2019, 2, 1, 0, 0), datetime.datetime(2019, 2, 28, 0, 0)),\n",
       " (datetime.datetime(2019, 3, 1, 0, 0), datetime.datetime(2019, 3, 31, 0, 0)),\n",
       " (datetime.datetime(2019, 4, 1, 0, 0), datetime.datetime(2019, 4, 30, 0, 0)),\n",
       " (datetime.datetime(2019, 5, 1, 0, 0), datetime.datetime(2019, 5, 31, 0, 0)),\n",
       " (datetime.datetime(2019, 6, 1, 0, 0), datetime.datetime(2019, 6, 30, 0, 0)),\n",
       " (datetime.datetime(2019, 7, 1, 0, 0), datetime.datetime(2019, 7, 24, 0, 0))]"
      ]
     },
     "execution_count": 5,
     "metadata": {},
     "output_type": "execute_result"
    }
   ],
   "source": [
    "# slice our 2 and 1/2+ time range into tuples of montlhy time ranges\n",
    "import datetime\n",
    "begin = '2017-01-01'\n",
    "end = '2019-7-24'\n",
    "month_ranges = []\n",
    "\n",
    "dt_start = datetime.datetime.strptime(begin, '%Y-%m-%d')\n",
    "dt_end = datetime.datetime.strptime(end, '%Y-%m-%d')\n",
    "one_day = datetime.timedelta(1)\n",
    "start_dates = [dt_start]\n",
    "end_dates = []\n",
    "today = dt_start\n",
    "\n",
    "while today <= dt_end:\n",
    "    #print(today)\n",
    "    tomorrow = today + one_day\n",
    "    if tomorrow.month != today.month:\n",
    "        start_dates.append(tomorrow)\n",
    "        end_dates.append(today)\n",
    "    today = tomorrow\n",
    "\n",
    "end_dates.append(dt_end)\n",
    "\n",
    "\n",
    "#out_fmt = '%d %B %Y'\n",
    "for start, end in zip(start_dates,end_dates):\n",
    "    # print('{} to {}'.format(start.strftime(out_fmt), end.strftime(out_fmt)))\n",
    "    month_ranges.append((start, end))\n",
    "    \n",
    "    \n",
    "month_ranges"
   ]
  },
  {
   "cell_type": "code",
   "execution_count": 132,
   "metadata": {},
   "outputs": [],
   "source": [
    "import json"
   ]
  },
  {
   "cell_type": "code",
   "execution_count": 171,
   "metadata": {},
   "outputs": [],
   "source": [
    "# let's rewrite our get_tweets function, i will serve as the index of the month_range tuple\n",
    "def get_real_data_tweets(search_term, i, limit=100):\n",
    "    \"\"\"\n",
    "    scrappes Twitter for tweets within the specified date range\n",
    "    makes sure month_ranges list is in memory and contains tuples of 2 dates ([0]=starting, [1]=ending)\n",
    "    pass in a search term, returns Pandas dataframe\n",
    "    \"\"\"\n",
    "    # real data mining\n",
    "    c = twint.Config()\n",
    "    c.Search = search_term\n",
    "    c.Limit = limit\n",
    "    c.Pandas = True\n",
    "    c.Pandas_clean = True\n",
    "    c.Lang = 'en'\n",
    "    c.Since = str(month_ranges[i][0])[:10]\n",
    "    c.Until = str(month_ranges[i][1])[:10]\n",
    "    c.Popular_tweets = True\n",
    "    c.Store_json = True\n",
    "\n",
    "    result_columns = ['id', 'username', 'tweet', 'hashtags', 'date', 'day', 'nlikes', 'nretweets']\n",
    "    with HiddenPrints():\n",
    "        print(twint.run.Search(c))\n",
    "    return twint.output.panda.Tweets_df[result_columns]"
   ]
  },
  {
   "cell_type": "code",
   "execution_count": 155,
   "metadata": {},
   "outputs": [
    {
     "name": "stderr",
     "output_type": "stream",
     "text": [
      "CRITICAL:root:twint.output:checkData:copyrightedTweet\n"
     ]
    },
    {
     "name": "stdout",
     "output_type": "stream",
     "text": [
      "(4294, 8)\n"
     ]
    },
    {
     "data": {
      "text/html": [
       "<div>\n",
       "<style scoped>\n",
       "    .dataframe tbody tr th:only-of-type {\n",
       "        vertical-align: middle;\n",
       "    }\n",
       "\n",
       "    .dataframe tbody tr th {\n",
       "        vertical-align: top;\n",
       "    }\n",
       "\n",
       "    .dataframe thead th {\n",
       "        text-align: right;\n",
       "    }\n",
       "</style>\n",
       "<table border=\"1\" class=\"dataframe\">\n",
       "  <thead>\n",
       "    <tr style=\"text-align: right;\">\n",
       "      <th></th>\n",
       "      <th>id</th>\n",
       "      <th>username</th>\n",
       "      <th>tweet</th>\n",
       "      <th>hashtags</th>\n",
       "      <th>date</th>\n",
       "      <th>day</th>\n",
       "      <th>nlikes</th>\n",
       "      <th>nretweets</th>\n",
       "    </tr>\n",
       "  </thead>\n",
       "  <tbody>\n",
       "    <tr>\n",
       "      <th>0</th>\n",
       "      <td>826218195908456449</td>\n",
       "      <td>coindesk</td>\n",
       "      <td>The latest Bitcoin Price Index is 920.09 USD  ...</td>\n",
       "      <td>[]</td>\n",
       "      <td>2017-01-30 18:59:02</td>\n",
       "      <td>5</td>\n",
       "      <td>19</td>\n",
       "      <td>20</td>\n",
       "    </tr>\n",
       "    <tr>\n",
       "      <th>1</th>\n",
       "      <td>826216967724007425</td>\n",
       "      <td>sharkybit</td>\n",
       "      <td>Blythe Masters said #Bitcoin is bad because yo...</td>\n",
       "      <td>[#bitcoin]</td>\n",
       "      <td>2017-01-30 18:54:10</td>\n",
       "      <td>1</td>\n",
       "      <td>31</td>\n",
       "      <td>15</td>\n",
       "    </tr>\n",
       "    <tr>\n",
       "      <th>2</th>\n",
       "      <td>826214708260765696</td>\n",
       "      <td>blockchain</td>\n",
       "      <td>A warning &amp; important message to users &amp; the #...</td>\n",
       "      <td>[#bitcoin]</td>\n",
       "      <td>2017-01-30 18:45:11</td>\n",
       "      <td>2</td>\n",
       "      <td>41</td>\n",
       "      <td>48</td>\n",
       "    </tr>\n",
       "    <tr>\n",
       "      <th>3</th>\n",
       "      <td>826214582045728768</td>\n",
       "      <td>Steven_McKie</td>\n",
       "      <td>Just had a really awesome interview with @bala...</td>\n",
       "      <td>[]</td>\n",
       "      <td>2017-01-30 18:44:41</td>\n",
       "      <td>2</td>\n",
       "      <td>21</td>\n",
       "      <td>6</td>\n",
       "    </tr>\n",
       "    <tr>\n",
       "      <th>4</th>\n",
       "      <td>826207612253458434</td>\n",
       "      <td>Xentagz</td>\n",
       "      <td>Stable #bitcoin price  pic.twitter.com/ZlSiY8jb5d</td>\n",
       "      <td>[#bitcoin]</td>\n",
       "      <td>2017-01-30 18:16:59</td>\n",
       "      <td>3</td>\n",
       "      <td>16</td>\n",
       "      <td>2</td>\n",
       "    </tr>\n",
       "  </tbody>\n",
       "</table>\n",
       "</div>"
      ],
      "text/plain": [
       "                   id      username  \\\n",
       "0  826218195908456449      coindesk   \n",
       "1  826216967724007425     sharkybit   \n",
       "2  826214708260765696    blockchain   \n",
       "3  826214582045728768  Steven_McKie   \n",
       "4  826207612253458434       Xentagz   \n",
       "\n",
       "                                               tweet    hashtags  \\\n",
       "0  The latest Bitcoin Price Index is 920.09 USD  ...          []   \n",
       "1  Blythe Masters said #Bitcoin is bad because yo...  [#bitcoin]   \n",
       "2  A warning & important message to users & the #...  [#bitcoin]   \n",
       "3  Just had a really awesome interview with @bala...          []   \n",
       "4  Stable #bitcoin price  pic.twitter.com/ZlSiY8jb5d  [#bitcoin]   \n",
       "\n",
       "                  date  day  nlikes  nretweets  \n",
       "0  2017-01-30 18:59:02    5      19         20  \n",
       "1  2017-01-30 18:54:10    1      31         15  \n",
       "2  2017-01-30 18:45:11    2      41         48  \n",
       "3  2017-01-30 18:44:41    2      21          6  \n",
       "4  2017-01-30 18:16:59    3      16          2  "
      ]
     },
     "execution_count": 155,
     "metadata": {},
     "output_type": "execute_result"
    }
   ],
   "source": [
    "# let's test it for one month\n",
    "january_2017_bitcoin_tweets = get_real_data_tweets('bitcoin', 0, limit=100000)\n",
    "print(january_2017_bitcoin_tweets.shape)\n",
    "january_2017_bitcoin_tweets.head()"
   ]
  },
  {
   "cell_type": "code",
   "execution_count": null,
   "metadata": {},
   "outputs": [],
   "source": []
  },
  {
   "cell_type": "code",
   "execution_count": null,
   "metadata": {},
   "outputs": [],
   "source": []
  },
  {
   "cell_type": "markdown",
   "metadata": {},
   "source": [
    "### Ok let's scrape our full recent Twitter dataset (~ < 3 years) for \"bitcoin\", \"adidas\", and \"nike\""
   ]
  },
  {
   "cell_type": "code",
   "execution_count": 197,
   "metadata": {},
   "outputs": [],
   "source": [
    "def create_dataset(search_term, dataframes={}):\n",
    "    \"\"\"\n",
    "    gets monthly .json files and dataframes for tweets dating back to January 2017\n",
    "    concats them into one large dataframe \n",
    "    please pass in a search term\n",
    "    \"\"\"    \n",
    "    for i, month in enumerate(month_ranges[:2]):\n",
    "        key = str(month[0])[:4] + '_' + str(month[0])[5:7] + '_' + search_term + '_tweets'\n",
    "        dataframes[key] = get_real_data_tweets(search_term, i,  limit=100000)\n",
    "        dataframes[key].sort_values(by=['date'], inplace=True, ascending=True)\n",
    "        dataframes[key].to_json(str(month[0])[:4] + '_' + str(month[0])[5:7] + '_' + search_term + '_tweets.json')\n",
    "        \n",
    "    df = pd.concat([v for v in dataframes.values()])\n",
    "    df.reset_index(inplace=True)\n",
    "    df.drop(['index'], axis=1, inplace=True)\n",
    "\n",
    "    print(df.shape)\n",
    "    return df, dataframes"
   ]
  },
  {
   "cell_type": "code",
   "execution_count": null,
   "metadata": {},
   "outputs": [],
   "source": [
    "bitcoin_dataset, bitcoin_dataframes = create_dataset('bitcoin')"
   ]
  },
  {
   "cell_type": "code",
   "execution_count": null,
   "metadata": {},
   "outputs": [],
   "source": [
    "bitcoin_dataset.head()"
   ]
  },
  {
   "cell_type": "code",
   "execution_count": null,
   "metadata": {},
   "outputs": [],
   "source": [
    "bitcoin_dataset.tail()"
   ]
  },
  {
   "cell_type": "code",
   "execution_count": null,
   "metadata": {},
   "outputs": [],
   "source": [
    "bitcoin_dataframes.keys()"
   ]
  },
  {
   "cell_type": "markdown",
   "metadata": {},
   "source": [
    "### Perfect!  \n",
    "- We now have a dataset of strictly popular bitcoin tweets that is timed linearly dating back to January 1st 2017.  \n",
    "- We've also saved each month of the tweets in its own .json file.    \n",
    "- Be sure to manually move the jason files to their appropriate directory"
   ]
  },
  {
   "cell_type": "code",
   "execution_count": null,
   "metadata": {},
   "outputs": [],
   "source": []
  },
  {
   "cell_type": "markdown",
   "metadata": {},
   "source": [
    "### Let's now do the same for Adidas and Nike  "
   ]
  },
  {
   "cell_type": "code",
   "execution_count": null,
   "metadata": {},
   "outputs": [],
   "source": [
    "adidas_dataset, adidas_dataframes = create_dataset('adidas')"
   ]
  },
  {
   "cell_type": "code",
   "execution_count": null,
   "metadata": {},
   "outputs": [],
   "source": [
    "adidas_dataset.head()"
   ]
  },
  {
   "cell_type": "code",
   "execution_count": null,
   "metadata": {},
   "outputs": [],
   "source": [
    "adidas_dataset.tail()"
   ]
  },
  {
   "cell_type": "code",
   "execution_count": null,
   "metadata": {},
   "outputs": [],
   "source": [
    "adidas_dataframes.keys()"
   ]
  },
  {
   "cell_type": "code",
   "execution_count": null,
   "metadata": {},
   "outputs": [],
   "source": []
  },
  {
   "cell_type": "code",
   "execution_count": null,
   "metadata": {},
   "outputs": [],
   "source": [
    "nike_dataset, nike_dataframes = create_dataset('nike')"
   ]
  },
  {
   "cell_type": "code",
   "execution_count": null,
   "metadata": {},
   "outputs": [],
   "source": [
    "nike_dataset.head()"
   ]
  },
  {
   "cell_type": "code",
   "execution_count": null,
   "metadata": {},
   "outputs": [],
   "source": [
    "nike_dataset.tail()"
   ]
  },
  {
   "cell_type": "code",
   "execution_count": null,
   "metadata": {},
   "outputs": [],
   "source": [
    "nike_dataframes.keys()"
   ]
  },
  {
   "cell_type": "code",
   "execution_count": null,
   "metadata": {},
   "outputs": [],
   "source": []
  },
  {
   "cell_type": "code",
   "execution_count": null,
   "metadata": {},
   "outputs": [],
   "source": []
  },
  {
   "cell_type": "code",
   "execution_count": null,
   "metadata": {},
   "outputs": [],
   "source": []
  },
  {
   "cell_type": "code",
   "execution_count": null,
   "metadata": {},
   "outputs": [],
   "source": []
  },
  {
   "cell_type": "code",
   "execution_count": null,
   "metadata": {},
   "outputs": [],
   "source": []
  },
  {
   "cell_type": "code",
   "execution_count": null,
   "metadata": {},
   "outputs": [],
   "source": []
  },
  {
   "cell_type": "code",
   "execution_count": null,
   "metadata": {},
   "outputs": [],
   "source": [
    "# get monthly .json files and dataframes for bitcoin tweets dating back to January 2017, and concat() them into one large dataframe \n",
    "# bitcoin_monthly_dataframes = {}\n",
    "\n",
    "# for i, month in enumerate(month_ranges):\n",
    "#     key = str(month[0])[:4] + '_' + str(month[0])[5:7] + '_bitcoin_tweets'\n",
    "#     bitcoin_monthly_dataframes[key] = get_real_data_tweets('bitcoin', i, limit=100000)\n",
    "#     bitcoin_monthly_dataframes[key].sort_values(by=['date'], inplace=True, ascending=True)\n",
    "#     bitcoin_monthly_dataframes[key].to_json(str(month[0])[:4] + '_' + str(month[0])[5:7] + '_bitcoin_tweets.json')\n",
    "\n",
    "# bitcoin_tweets_2017_to_now = pd.concat([v for v in bitcoin_monthly_dataframes.values()])\n",
    "# bitcoin_tweets_2017_to_now.reset_index(inplace=True)\n",
    "# bitcoin_tweets_2017_to_now.drop(['index'], axis=1, inplace=True)\n",
    "\n",
    "# print(bitcoin_tweets_2017_to_now.shape)"
   ]
  },
  {
   "cell_type": "code",
   "execution_count": null,
   "metadata": {},
   "outputs": [],
   "source": [
    "# bitcoin_tweets_2017_to_now.head()"
   ]
  },
  {
   "cell_type": "code",
   "execution_count": null,
   "metadata": {},
   "outputs": [],
   "source": [
    "# bitcoin_tweets_2017_to_now.tail()"
   ]
  },
  {
   "cell_type": "code",
   "execution_count": null,
   "metadata": {},
   "outputs": [],
   "source": []
  },
  {
   "cell_type": "code",
   "execution_count": null,
   "metadata": {},
   "outputs": [],
   "source": []
  },
  {
   "cell_type": "code",
   "execution_count": null,
   "metadata": {},
   "outputs": [],
   "source": [
    "# # same for adidas\n",
    "# adidas_monthly_dataframes = {}\n",
    "\n",
    "# for i, month in enumerate(month_ranges):\n",
    "#     key = str(month[0])[:4] + '_' + str(month[0])[5:7] + '_adidas_tweets'\n",
    "#     adidas_monthly_dataframes[key] = get_real_data_tweets('adidas', i, limit=100000)\n",
    "#     adidas_monthly_dataframes[key].sort_values(by=['date'], inplace=True, ascending=True)\n",
    "#     adidas_monthly_dataframes[key].to_json(str(month[0])[:4] + '_' + str(month[0])[5:7] + '_adidas_tweets.json')\n",
    "\n",
    "# adidas_tweets_2017_to_now = pd.concat([v for v in adidas_monthly_dataframes.values()])\n",
    "# adidas_tweets_2017_to_now.reset_index(inplace=True)\n",
    "# adidas_tweets_2017_to_now.drop(['index'], inplace=True)\n",
    "\n",
    "# print(adidas_tweets_2017_to_now.shape)"
   ]
  },
  {
   "cell_type": "code",
   "execution_count": null,
   "metadata": {},
   "outputs": [],
   "source": [
    "# adidas_tweets_2017_to_now.head()"
   ]
  },
  {
   "cell_type": "code",
   "execution_count": null,
   "metadata": {},
   "outputs": [],
   "source": [
    "# adidas_tweets_2017_to_now.tail()"
   ]
  },
  {
   "cell_type": "code",
   "execution_count": null,
   "metadata": {},
   "outputs": [],
   "source": []
  },
  {
   "cell_type": "code",
   "execution_count": null,
   "metadata": {},
   "outputs": [],
   "source": []
  },
  {
   "cell_type": "code",
   "execution_count": null,
   "metadata": {},
   "outputs": [],
   "source": [
    "# same for nike\n",
    "# nike_monthly_dataframes = {}\n",
    "\n",
    "# for i, month in enumerate(month_ranges):\n",
    "#     key = str(month[0])[:4] + '_' + str(month[0])[5:7] + '_nike_tweets'\n",
    "#     nike_monthly_dataframes[key] = get_real_data_tweets('nike', i, limit=100000)\n",
    "#     nike_monthly_dataframes[key].sort_values(by=['date'], inplace=True, ascending=True)\n",
    "#     nike_monthly_dataframes[key].to_json(str(month[0])[:4] + '_' + str(month[0])[5:7] + '_nike_tweets.json')\n",
    "\n",
    "# nike_tweets_2017_to_now = pd.concat([v for v in nike_monthly_dataframes.values()])\n",
    "# nike_tweets_2017_to_now.reset_index(inplace=True)\n",
    "# nike_tweets_2017_to_now.drop(['index'], inplace=True)\n",
    "\n",
    "# print(nike_tweets_2017_to_now.shape)"
   ]
  },
  {
   "cell_type": "code",
   "execution_count": null,
   "metadata": {},
   "outputs": [],
   "source": [
    "# nike_tweets_2017_to_now.head()"
   ]
  },
  {
   "cell_type": "code",
   "execution_count": null,
   "metadata": {},
   "outputs": [],
   "source": [
    "# nike_tweets_2017_to_now.tail()"
   ]
  },
  {
   "cell_type": "code",
   "execution_count": null,
   "metadata": {},
   "outputs": [],
   "source": []
  },
  {
   "cell_type": "code",
   "execution_count": null,
   "metadata": {},
   "outputs": [],
   "source": []
  },
  {
   "cell_type": "markdown",
   "metadata": {},
   "source": [
    "### The following function allows us to recreate our dataframes from the .json files in case of memory loss"
   ]
  },
  {
   "cell_type": "code",
   "execution_count": 15,
   "metadata": {},
   "outputs": [],
   "source": [
    "def recreate_dataframe(search_term, dataframes={}):\n",
    "    \"\"\"\n",
    "    recreate full ~3 year dataset (df) and monthly dataframes dict from json files\n",
    "    make sure the search_term you pass in has a directory of the same name in the twitter_dataset folder\n",
    "    make sure json files inside that directory are appropriately named\n",
    "    \"\"\"\n",
    "    for i, month in enumerate(month_ranges):\n",
    "        #print(f'creating df no. {i+1}')\n",
    "        key = str(month[0])[:4] + '_' + str(month[0])[5:7] + '_' + search_term + '_tweets'\n",
    "        dataframes[key] = pd.read_json('twitter_dataset/' + search_term + '/' + key + '.json')\n",
    "        dataframes[key].sort_values(by=['date'], inplace=True, ascending=True)\n",
    "\n",
    "    df = pd.concat([v for v in dataframes.values()])\n",
    "    df.reset_index(inplace=True)\n",
    "    df.drop(['index'], axis=1, inplace=True)\n",
    "\n",
    "    print(df.shape)\n",
    "    return df, dataframes"
   ]
  },
  {
   "cell_type": "code",
   "execution_count": null,
   "metadata": {},
   "outputs": [],
   "source": []
  },
  {
   "cell_type": "code",
   "execution_count": null,
   "metadata": {},
   "outputs": [],
   "source": []
  },
  {
   "cell_type": "code",
   "execution_count": null,
   "metadata": {},
   "outputs": [],
   "source": []
  },
  {
   "cell_type": "code",
   "execution_count": null,
   "metadata": {},
   "outputs": [],
   "source": []
  },
  {
   "cell_type": "code",
   "execution_count": null,
   "metadata": {},
   "outputs": [],
   "source": []
  },
  {
   "cell_type": "code",
   "execution_count": null,
   "metadata": {},
   "outputs": [],
   "source": []
  },
  {
   "cell_type": "markdown",
   "metadata": {},
   "source": [
    "# Data Cleaning"
   ]
  },
  {
   "cell_type": "code",
   "execution_count": null,
   "metadata": {},
   "outputs": [],
   "source": []
  },
  {
   "cell_type": "code",
   "execution_count": null,
   "metadata": {},
   "outputs": [],
   "source": []
  },
  {
   "cell_type": "code",
   "execution_count": null,
   "metadata": {},
   "outputs": [],
   "source": []
  },
  {
   "cell_type": "code",
   "execution_count": null,
   "metadata": {},
   "outputs": [],
   "source": []
  },
  {
   "cell_type": "code",
   "execution_count": null,
   "metadata": {},
   "outputs": [],
   "source": []
  },
  {
   "cell_type": "code",
   "execution_count": null,
   "metadata": {},
   "outputs": [],
   "source": []
  },
  {
   "cell_type": "code",
   "execution_count": null,
   "metadata": {},
   "outputs": [],
   "source": []
  },
  {
   "cell_type": "code",
   "execution_count": null,
   "metadata": {},
   "outputs": [],
   "source": []
  },
  {
   "cell_type": "code",
   "execution_count": null,
   "metadata": {},
   "outputs": [],
   "source": []
  },
  {
   "cell_type": "code",
   "execution_count": null,
   "metadata": {},
   "outputs": [],
   "source": []
  },
  {
   "cell_type": "markdown",
   "metadata": {},
   "source": [
    "# Implementing Vader"
   ]
  },
  {
   "cell_type": "code",
   "execution_count": null,
   "metadata": {},
   "outputs": [],
   "source": []
  },
  {
   "cell_type": "code",
   "execution_count": null,
   "metadata": {},
   "outputs": [],
   "source": []
  },
  {
   "cell_type": "code",
   "execution_count": null,
   "metadata": {},
   "outputs": [],
   "source": []
  },
  {
   "cell_type": "code",
   "execution_count": null,
   "metadata": {},
   "outputs": [],
   "source": []
  },
  {
   "cell_type": "code",
   "execution_count": null,
   "metadata": {},
   "outputs": [],
   "source": []
  },
  {
   "cell_type": "code",
   "execution_count": null,
   "metadata": {},
   "outputs": [],
   "source": []
  },
  {
   "cell_type": "code",
   "execution_count": null,
   "metadata": {},
   "outputs": [],
   "source": []
  },
  {
   "cell_type": "code",
   "execution_count": null,
   "metadata": {},
   "outputs": [],
   "source": []
  },
  {
   "cell_type": "code",
   "execution_count": null,
   "metadata": {},
   "outputs": [],
   "source": []
  },
  {
   "cell_type": "markdown",
   "metadata": {},
   "source": [
    "# Visualizing Sentiment Analyis Trends"
   ]
  },
  {
   "cell_type": "code",
   "execution_count": null,
   "metadata": {},
   "outputs": [],
   "source": []
  },
  {
   "cell_type": "code",
   "execution_count": null,
   "metadata": {},
   "outputs": [],
   "source": []
  },
  {
   "cell_type": "code",
   "execution_count": null,
   "metadata": {},
   "outputs": [],
   "source": []
  },
  {
   "cell_type": "code",
   "execution_count": null,
   "metadata": {},
   "outputs": [],
   "source": []
  },
  {
   "cell_type": "code",
   "execution_count": null,
   "metadata": {},
   "outputs": [],
   "source": []
  },
  {
   "cell_type": "code",
   "execution_count": null,
   "metadata": {},
   "outputs": [],
   "source": []
  },
  {
   "cell_type": "code",
   "execution_count": null,
   "metadata": {},
   "outputs": [],
   "source": []
  },
  {
   "cell_type": "code",
   "execution_count": null,
   "metadata": {},
   "outputs": [],
   "source": []
  },
  {
   "cell_type": "code",
   "execution_count": null,
   "metadata": {},
   "outputs": [],
   "source": []
  },
  {
   "cell_type": "markdown",
   "metadata": {},
   "source": [
    "# Introducing Time Series"
   ]
  },
  {
   "cell_type": "code",
   "execution_count": null,
   "metadata": {},
   "outputs": [],
   "source": []
  },
  {
   "cell_type": "code",
   "execution_count": null,
   "metadata": {},
   "outputs": [],
   "source": []
  },
  {
   "cell_type": "code",
   "execution_count": null,
   "metadata": {},
   "outputs": [],
   "source": []
  },
  {
   "cell_type": "code",
   "execution_count": null,
   "metadata": {},
   "outputs": [],
   "source": []
  },
  {
   "cell_type": "code",
   "execution_count": null,
   "metadata": {},
   "outputs": [],
   "source": []
  },
  {
   "cell_type": "code",
   "execution_count": null,
   "metadata": {},
   "outputs": [],
   "source": []
  },
  {
   "cell_type": "code",
   "execution_count": null,
   "metadata": {},
   "outputs": [],
   "source": []
  },
  {
   "cell_type": "code",
   "execution_count": null,
   "metadata": {},
   "outputs": [],
   "source": []
  },
  {
   "cell_type": "code",
   "execution_count": null,
   "metadata": {},
   "outputs": [],
   "source": []
  },
  {
   "cell_type": "code",
   "execution_count": null,
   "metadata": {},
   "outputs": [],
   "source": []
  },
  {
   "cell_type": "markdown",
   "metadata": {},
   "source": [
    "# Visualizing sentiment prediction accuracy"
   ]
  },
  {
   "cell_type": "code",
   "execution_count": null,
   "metadata": {},
   "outputs": [],
   "source": []
  },
  {
   "cell_type": "code",
   "execution_count": null,
   "metadata": {},
   "outputs": [],
   "source": []
  },
  {
   "cell_type": "code",
   "execution_count": null,
   "metadata": {},
   "outputs": [],
   "source": []
  },
  {
   "cell_type": "code",
   "execution_count": null,
   "metadata": {},
   "outputs": [],
   "source": []
  },
  {
   "cell_type": "code",
   "execution_count": null,
   "metadata": {},
   "outputs": [],
   "source": []
  },
  {
   "cell_type": "code",
   "execution_count": null,
   "metadata": {},
   "outputs": [],
   "source": []
  },
  {
   "cell_type": "code",
   "execution_count": null,
   "metadata": {},
   "outputs": [],
   "source": []
  },
  {
   "cell_type": "code",
   "execution_count": null,
   "metadata": {},
   "outputs": [],
   "source": []
  },
  {
   "cell_type": "code",
   "execution_count": null,
   "metadata": {},
   "outputs": [],
   "source": []
  },
  {
   "cell_type": "code",
   "execution_count": null,
   "metadata": {},
   "outputs": [],
   "source": []
  },
  {
   "cell_type": "markdown",
   "metadata": {},
   "source": [
    "# Trend predictions on future perception"
   ]
  },
  {
   "cell_type": "code",
   "execution_count": null,
   "metadata": {},
   "outputs": [],
   "source": []
  },
  {
   "cell_type": "code",
   "execution_count": null,
   "metadata": {},
   "outputs": [],
   "source": []
  },
  {
   "cell_type": "code",
   "execution_count": null,
   "metadata": {},
   "outputs": [],
   "source": []
  },
  {
   "cell_type": "code",
   "execution_count": null,
   "metadata": {},
   "outputs": [],
   "source": []
  },
  {
   "cell_type": "code",
   "execution_count": null,
   "metadata": {},
   "outputs": [],
   "source": []
  },
  {
   "cell_type": "code",
   "execution_count": null,
   "metadata": {},
   "outputs": [],
   "source": []
  },
  {
   "cell_type": "code",
   "execution_count": null,
   "metadata": {},
   "outputs": [],
   "source": []
  },
  {
   "cell_type": "code",
   "execution_count": null,
   "metadata": {},
   "outputs": [],
   "source": []
  },
  {
   "cell_type": "code",
   "execution_count": null,
   "metadata": {},
   "outputs": [],
   "source": []
  },
  {
   "cell_type": "code",
   "execution_count": null,
   "metadata": {},
   "outputs": [],
   "source": []
  },
  {
   "cell_type": "code",
   "execution_count": null,
   "metadata": {},
   "outputs": [],
   "source": []
  },
  {
   "cell_type": "markdown",
   "metadata": {},
   "source": [
    "# Conclusions and real world applications"
   ]
  },
  {
   "cell_type": "code",
   "execution_count": null,
   "metadata": {},
   "outputs": [],
   "source": []
  },
  {
   "cell_type": "code",
   "execution_count": null,
   "metadata": {},
   "outputs": [],
   "source": []
  },
  {
   "cell_type": "code",
   "execution_count": null,
   "metadata": {},
   "outputs": [],
   "source": []
  },
  {
   "cell_type": "code",
   "execution_count": null,
   "metadata": {},
   "outputs": [],
   "source": []
  },
  {
   "cell_type": "code",
   "execution_count": null,
   "metadata": {},
   "outputs": [],
   "source": []
  },
  {
   "cell_type": "code",
   "execution_count": null,
   "metadata": {},
   "outputs": [],
   "source": []
  },
  {
   "cell_type": "code",
   "execution_count": null,
   "metadata": {},
   "outputs": [],
   "source": []
  },
  {
   "cell_type": "code",
   "execution_count": null,
   "metadata": {},
   "outputs": [],
   "source": []
  },
  {
   "cell_type": "code",
   "execution_count": null,
   "metadata": {},
   "outputs": [],
   "source": []
  }
 ],
 "metadata": {
  "kernelspec": {
   "display_name": "learn-env",
   "language": "python",
   "name": "learn-env"
  },
  "language_info": {
   "codemirror_mode": {
    "name": "ipython",
    "version": 3
   },
   "file_extension": ".py",
   "mimetype": "text/x-python",
   "name": "python",
   "nbconvert_exporter": "python",
   "pygments_lexer": "ipython3",
   "version": "3.6.8"
  }
 },
 "nbformat": 4,
 "nbformat_minor": 2
}
